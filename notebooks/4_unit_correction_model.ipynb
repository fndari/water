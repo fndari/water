{
 "cells": [
  {
   "cell_type": "code",
   "execution_count": 1,
   "metadata": {
    "collapsed": true
   },
   "outputs": [],
   "source": [
    "import matplotlib.pyplot as plt\n",
    "import numpy as np\n",
    "import pandas as pd\n",
    "import pickle\n",
    "import seaborn as sns\n",
    "from sklearn.preprocessing import OneHotEncoder\n",
    "from sklearn.model_selection import train_test_split\n",
    "from sklearn.metrics import precision_recall_curve\n",
    "from sklearn.metrics import average_precision_score\n",
    "from sklearn.model_selection import GridSearchCV\n",
    "from sklearn.model_selection import StratifiedKFold\n",
    "from sklearn.model_selection import GroupShuffleSplit\n",
    "from sklearn.metrics import classification_report\n",
    "import xgboost as xgb\n",
    "\n",
    "\n",
    "import sys \n",
    "sys.path.insert(0, \"/Users/elenasmith/Documents/personal/water_git/\")\n",
    "from src.test import tests\n",
    "from src.data import data\n",
    "from src.models import models"
   ]
  },
  {
   "cell_type": "code",
   "execution_count": 2,
   "metadata": {
    "collapsed": true
   },
   "outputs": [],
   "source": [
    "pd.set_option('display.width', 5000) \n",
    "pd.set_option('display.max_colwidth', -1) \n",
    "pd.set_option('display.max_columns', 60)"
   ]
  },
  {
   "cell_type": "code",
   "execution_count": 98,
   "metadata": {
    "collapsed": true
   },
   "outputs": [],
   "source": [
    "interim_data_path  =\"/Users/elenasmith/Documents/personal/water_git/data/interim/\"\n",
    "processed_data_path  =\"/Users/elenasmith/Documents/personal/water_git/data/processed/\"\n",
    "model_path  =\"/Users/elenasmith/Documents/personal/water_git/models/\""
   ]
  },
  {
   "cell_type": "code",
   "execution_count": 4,
   "metadata": {
    "collapsed": true
   },
   "outputs": [],
   "source": [
    "prod = pd.read_csv(\"{}2_explore_unit_correction___prod_before_unit_conversion.csv\".format(interim_data_path))\n",
    "deliv= pd.read_csv(\"{}2_explore_unit_correction___deliv_before_unit_conversion.csv\".format(interim_data_path))\n",
    "deliv['Date'] = pd.to_datetime(deliv['Date'])\n",
    "systems = pd.read_csv(\"https://data.ca.gov/sites/default/files/Public%20Potable%20Water%20Systems%20FINAL%2006-22-2018_0.csv\")\n",
    "\n",
    "deliv_pivot = pd.read_csv(\"{}1_initial_eda___deliv.csv\".format(interim_data_path))\n",
    "deliv_pivot['Date'] = pd.to_datetime(deliv_pivot['Date'])\n",
    "prod_pivot = pd.read_csv(\"{}1_initial_eda___prod.csv\".format(interim_data_path))\n",
    "\n",
    "deliv_gpcd_in_original = pd.read_csv(\"{}3_explore_gpcd___gpcdFromOriginalReport.csv\".format(interim_data_path))\n",
    "deliv_gpcd_in_original['Date'] = pd.to_datetime(deliv_gpcd_in_original['Date'])"
   ]
  },
  {
   "cell_type": "code",
   "execution_count": 5,
   "metadata": {
    "collapsed": true
   },
   "outputs": [],
   "source": [
    "############\n",
    "# Drop records without units reported; we already know those are incorrect \n",
    "#################"
   ]
  },
  {
   "cell_type": "code",
   "execution_count": 6,
   "metadata": {
    "collapsed": true
   },
   "outputs": [],
   "source": [
    "noUnits = deliv[deliv['Delivered.Water.Units AS ORIGINALLY REPORTED']==\"-\"]"
   ]
  },
  {
   "cell_type": "code",
   "execution_count": 7,
   "metadata": {},
   "outputs": [
    {
     "name": "stdout",
     "output_type": "stream",
     "text": [
      "(78489, 34)\n",
      "(75625, 34)\n"
     ]
    }
   ],
   "source": [
    "print(deliv.shape)\n",
    "deliv = deliv[deliv['Delivered.Water.Units AS ORIGINALLY REPORTED']!=\"-\"]\n",
    "print(deliv.shape)"
   ]
  },
  {
   "cell_type": "code",
   "execution_count": 8,
   "metadata": {
    "collapsed": true
   },
   "outputs": [],
   "source": [
    "############\n",
    "# Verify that we have one record per pwsid/date\n",
    "#################"
   ]
  },
  {
   "cell_type": "code",
   "execution_count": 9,
   "metadata": {
    "collapsed": true
   },
   "outputs": [],
   "source": [
    "tests.test_verify_unique_rows(deliv)"
   ]
  },
  {
   "cell_type": "code",
   "execution_count": 10,
   "metadata": {},
   "outputs": [
    {
     "data": {
      "text/plain": [
       "0    0.958664\n",
       "1    0.041336\n",
       "Name: original_units_incorrect, dtype: float64"
      ]
     },
     "execution_count": 10,
     "metadata": {},
     "output_type": "execute_result"
    }
   ],
   "source": [
    "# What % of records have units reported incorrectly?\n",
    "deliv['original_units_incorrect'].value_counts() / deliv.shape[0]"
   ]
  },
  {
   "cell_type": "code",
   "execution_count": 11,
   "metadata": {},
   "outputs": [
    {
     "data": {
      "text/html": [
       "<div>\n",
       "<style>\n",
       "    .dataframe thead tr:only-child th {\n",
       "        text-align: right;\n",
       "    }\n",
       "\n",
       "    .dataframe thead th {\n",
       "        text-align: left;\n",
       "    }\n",
       "\n",
       "    .dataframe tbody tr th {\n",
       "        vertical-align: top;\n",
       "    }\n",
       "</style>\n",
       "<table border=\"1\" class=\"dataframe\">\n",
       "  <thead>\n",
       "    <tr>\n",
       "      <th></th>\n",
       "      <th>Year</th>\n",
       "      <th colspan=\"2\" halign=\"left\">original_units_incorrect</th>\n",
       "      <th>pct</th>\n",
       "    </tr>\n",
       "    <tr>\n",
       "      <th></th>\n",
       "      <th></th>\n",
       "      <th>sum</th>\n",
       "      <th>count</th>\n",
       "      <th></th>\n",
       "    </tr>\n",
       "  </thead>\n",
       "  <tbody>\n",
       "    <tr>\n",
       "      <th>0</th>\n",
       "      <td>2013</td>\n",
       "      <td>630</td>\n",
       "      <td>14873</td>\n",
       "      <td>0.042359</td>\n",
       "    </tr>\n",
       "    <tr>\n",
       "      <th>1</th>\n",
       "      <td>2014</td>\n",
       "      <td>588</td>\n",
       "      <td>16080</td>\n",
       "      <td>0.036567</td>\n",
       "    </tr>\n",
       "    <tr>\n",
       "      <th>2</th>\n",
       "      <td>2015</td>\n",
       "      <td>1126</td>\n",
       "      <td>21381</td>\n",
       "      <td>0.052664</td>\n",
       "    </tr>\n",
       "    <tr>\n",
       "      <th>3</th>\n",
       "      <td>2016</td>\n",
       "      <td>782</td>\n",
       "      <td>23291</td>\n",
       "      <td>0.033575</td>\n",
       "    </tr>\n",
       "  </tbody>\n",
       "</table>\n",
       "</div>"
      ],
      "text/plain": [
       "   Year original_units_incorrect              pct\n",
       "                             sum  count          \n",
       "0  2013  630                      14873  0.042359\n",
       "1  2014  588                      16080  0.036567\n",
       "2  2015  1126                     21381  0.052664\n",
       "3  2016  782                      23291  0.033575"
      ]
     },
     "execution_count": 11,
     "metadata": {},
     "output_type": "execute_result"
    }
   ],
   "source": [
    "incorrectByYear = deliv[['Year','original_units_incorrect']].groupby('Year').agg({'original_units_incorrect':['sum','count']}).reset_index()\n",
    "incorrectByYear['pct'] = incorrectByYear[('original_units_incorrect', 'sum')] / incorrectByYear[('original_units_incorrect', 'count')]\n",
    "incorrectByYear"
   ]
  },
  {
   "cell_type": "code",
   "execution_count": 12,
   "metadata": {
    "collapsed": true
   },
   "outputs": [],
   "source": [
    "############\n",
    "# Create features: GPCD calculated from value in \"WATER DELIVERIES Total.Delivered Residential IN REVISED UNITS\", \n",
    "# but assume the value is in the original units\n",
    "#################"
   ]
  },
  {
   "cell_type": "code",
   "execution_count": 13,
   "metadata": {},
   "outputs": [
    {
     "name": "stdout",
     "output_type": "stream",
     "text": [
      "(75625, 34)\n",
      "(75625, 36)\n"
     ]
    }
   ],
   "source": [
    "print(deliv.shape)\n",
    "deliv = deliv.merge(deliv_gpcd_in_original[['PWSID','Date','gpcd_from_water_deliv_residential_revised_units_in_orig_units_in_gallons','gpcd_numeric']].drop_duplicates(),\n",
    "                   on = ['PWSID','Date'],\n",
    "                   how=\"left\")\n",
    "print(deliv.shape)\n",
    "predictors = ['gpcd_from_water_deliv_residential_revised_units_in_orig_units_in_gallons']"
   ]
  },
  {
   "cell_type": "code",
   "execution_count": 14,
   "metadata": {},
   "outputs": [
    {
     "data": {
      "text/html": [
       "<div>\n",
       "<style>\n",
       "    .dataframe thead tr:only-child th {\n",
       "        text-align: right;\n",
       "    }\n",
       "\n",
       "    .dataframe thead th {\n",
       "        text-align: left;\n",
       "    }\n",
       "\n",
       "    .dataframe tbody tr th {\n",
       "        vertical-align: top;\n",
       "    }\n",
       "</style>\n",
       "<table border=\"1\" class=\"dataframe\">\n",
       "  <thead>\n",
       "    <tr style=\"text-align: right;\">\n",
       "      <th></th>\n",
       "      <th>index</th>\n",
       "      <th>gpcd_from_water_deliv_residential_revised_units_in_orig_units_in_gallons_incorrect</th>\n",
       "      <th>gpcd_from_water_deliv_residential_revised_units_in_orig_units_in_gallons_correct</th>\n",
       "    </tr>\n",
       "  </thead>\n",
       "  <tbody>\n",
       "    <tr>\n",
       "      <th>0</th>\n",
       "      <td>count</td>\n",
       "      <td>2.460000e+03</td>\n",
       "      <td>7.071900e+04</td>\n",
       "    </tr>\n",
       "    <tr>\n",
       "      <th>1</th>\n",
       "      <td>mean</td>\n",
       "      <td>inf</td>\n",
       "      <td>inf</td>\n",
       "    </tr>\n",
       "    <tr>\n",
       "      <th>2</th>\n",
       "      <td>std</td>\n",
       "      <td>NaN</td>\n",
       "      <td>NaN</td>\n",
       "    </tr>\n",
       "    <tr>\n",
       "      <th>3</th>\n",
       "      <td>min</td>\n",
       "      <td>5.996342e-05</td>\n",
       "      <td>-2.915576e+02</td>\n",
       "    </tr>\n",
       "    <tr>\n",
       "      <th>4</th>\n",
       "      <td>5%</td>\n",
       "      <td>4.510043e-04</td>\n",
       "      <td>1.904032e+00</td>\n",
       "    </tr>\n",
       "    <tr>\n",
       "      <th>5</th>\n",
       "      <td>10%</td>\n",
       "      <td>1.114041e-01</td>\n",
       "      <td>1.065000e+01</td>\n",
       "    </tr>\n",
       "    <tr>\n",
       "      <th>6</th>\n",
       "      <td>50%</td>\n",
       "      <td>1.396206e+04</td>\n",
       "      <td>9.691828e+01</td>\n",
       "    </tr>\n",
       "    <tr>\n",
       "      <th>7</th>\n",
       "      <td>90%</td>\n",
       "      <td>4.741685e+07</td>\n",
       "      <td>3.475924e+02</td>\n",
       "    </tr>\n",
       "    <tr>\n",
       "      <th>8</th>\n",
       "      <td>95%</td>\n",
       "      <td>1.579959e+08</td>\n",
       "      <td>6.110248e+02</td>\n",
       "    </tr>\n",
       "    <tr>\n",
       "      <th>9</th>\n",
       "      <td>max</td>\n",
       "      <td>inf</td>\n",
       "      <td>inf</td>\n",
       "    </tr>\n",
       "  </tbody>\n",
       "</table>\n",
       "</div>"
      ],
      "text/plain": [
       "   index  gpcd_from_water_deliv_residential_revised_units_in_orig_units_in_gallons_incorrect  gpcd_from_water_deliv_residential_revised_units_in_orig_units_in_gallons_correct\n",
       "0  count  2.460000e+03                                                                        7.071900e+04                                                                    \n",
       "1  mean   inf                                                                                 inf                                                                             \n",
       "2  std   NaN                                                                                 NaN                                                                              \n",
       "3  min    5.996342e-05                                                                       -2.915576e+02                                                                    \n",
       "4  5%     4.510043e-04                                                                        1.904032e+00                                                                    \n",
       "5  10%    1.114041e-01                                                                        1.065000e+01                                                                    \n",
       "6  50%    1.396206e+04                                                                        9.691828e+01                                                                    \n",
       "7  90%    4.741685e+07                                                                        3.475924e+02                                                                    \n",
       "8  95%    1.579959e+08                                                                        6.110248e+02                                                                    \n",
       "9  max    inf                                                                                 inf                                                                             "
      ]
     },
     "execution_count": 14,
     "metadata": {},
     "output_type": "execute_result"
    }
   ],
   "source": [
    "data.compare_correct_incorrect_values(deliv,'gpcd_from_water_deliv_residential_revised_units_in_orig_units_in_gallons')"
   ]
  },
  {
   "cell_type": "code",
   "execution_count": 15,
   "metadata": {
    "collapsed": true
   },
   "outputs": [],
   "source": [
    "############\n",
    "# Create features: Population of Service Area\n",
    "#################"
   ]
  },
  {
   "cell_type": "code",
   "execution_count": 16,
   "metadata": {
    "collapsed": true
   },
   "outputs": [],
   "source": [
    "predictors = predictors + ['Population Of Service Area',]"
   ]
  },
  {
   "cell_type": "code",
   "execution_count": 17,
   "metadata": {},
   "outputs": [
    {
     "data": {
      "text/html": [
       "<div>\n",
       "<style>\n",
       "    .dataframe thead tr:only-child th {\n",
       "        text-align: right;\n",
       "    }\n",
       "\n",
       "    .dataframe thead th {\n",
       "        text-align: left;\n",
       "    }\n",
       "\n",
       "    .dataframe tbody tr th {\n",
       "        vertical-align: top;\n",
       "    }\n",
       "</style>\n",
       "<table border=\"1\" class=\"dataframe\">\n",
       "  <thead>\n",
       "    <tr style=\"text-align: right;\">\n",
       "      <th></th>\n",
       "      <th>index</th>\n",
       "      <th>Population Of Service Area_incorrect</th>\n",
       "      <th>Population Of Service Area_correct</th>\n",
       "    </tr>\n",
       "  </thead>\n",
       "  <tbody>\n",
       "    <tr>\n",
       "      <th>0</th>\n",
       "      <td>count</td>\n",
       "      <td>3126.000000</td>\n",
       "      <td>7.161300e+04</td>\n",
       "    </tr>\n",
       "    <tr>\n",
       "      <th>1</th>\n",
       "      <td>mean</td>\n",
       "      <td>13430.112924</td>\n",
       "      <td>2.453112e+04</td>\n",
       "    </tr>\n",
       "    <tr>\n",
       "      <th>2</th>\n",
       "      <td>std</td>\n",
       "      <td>54398.497810</td>\n",
       "      <td>1.326244e+05</td>\n",
       "    </tr>\n",
       "    <tr>\n",
       "      <th>3</th>\n",
       "      <td>min</td>\n",
       "      <td>0.000000</td>\n",
       "      <td>0.000000e+00</td>\n",
       "    </tr>\n",
       "    <tr>\n",
       "      <th>4</th>\n",
       "      <td>5%</td>\n",
       "      <td>40.000000</td>\n",
       "      <td>2.500000e+01</td>\n",
       "    </tr>\n",
       "    <tr>\n",
       "      <th>5</th>\n",
       "      <td>10%</td>\n",
       "      <td>73.000000</td>\n",
       "      <td>4.500000e+01</td>\n",
       "    </tr>\n",
       "    <tr>\n",
       "      <th>6</th>\n",
       "      <td>50%</td>\n",
       "      <td>1000.000000</td>\n",
       "      <td>8.650000e+02</td>\n",
       "    </tr>\n",
       "    <tr>\n",
       "      <th>7</th>\n",
       "      <td>90%</td>\n",
       "      <td>29867.000000</td>\n",
       "      <td>5.699800e+04</td>\n",
       "    </tr>\n",
       "    <tr>\n",
       "      <th>8</th>\n",
       "      <td>95%</td>\n",
       "      <td>48165.000000</td>\n",
       "      <td>1.033400e+05</td>\n",
       "    </tr>\n",
       "    <tr>\n",
       "      <th>9</th>\n",
       "      <td>max</td>\n",
       "      <td>486189.000000</td>\n",
       "      <td>4.061504e+06</td>\n",
       "    </tr>\n",
       "  </tbody>\n",
       "</table>\n",
       "</div>"
      ],
      "text/plain": [
       "   index  Population Of Service Area_incorrect  Population Of Service Area_correct\n",
       "0  count  3126.000000                           7.161300e+04                      \n",
       "1  mean   13430.112924                          2.453112e+04                      \n",
       "2  std    54398.497810                          1.326244e+05                      \n",
       "3  min    0.000000                              0.000000e+00                      \n",
       "4  5%     40.000000                             2.500000e+01                      \n",
       "5  10%    73.000000                             4.500000e+01                      \n",
       "6  50%    1000.000000                           8.650000e+02                      \n",
       "7  90%    29867.000000                          5.699800e+04                      \n",
       "8  95%    48165.000000                          1.033400e+05                      \n",
       "9  max    486189.000000                         4.061504e+06                      "
      ]
     },
     "execution_count": 17,
     "metadata": {},
     "output_type": "execute_result"
    }
   ],
   "source": [
    "data.compare_correct_incorrect_values(deliv,'Population Of Service Area')"
   ]
  },
  {
   "cell_type": "code",
   "execution_count": 18,
   "metadata": {
    "collapsed": true
   },
   "outputs": [],
   "source": [
    "############\n",
    "# Create features: Water System Classification\n",
    "#################"
   ]
  },
  {
   "cell_type": "code",
   "execution_count": 19,
   "metadata": {},
   "outputs": [
    {
     "data": {
      "text/plain": [
       "Community Water System                                      32418\n",
       "Large Water System                                          29787\n",
       "Nontransient Noncommunity Water System                      6826 \n",
       "Transient Noncommunity Water System                         5501 \n",
       "NaN                                                         1018 \n",
       "Local Government                                            33   \n",
       "Privately owned, PUC-regulated, for profit water company    30   \n",
       "Privately owned business (non-community)                    12   \n",
       "Name: Water.System.Classification, dtype: int64"
      ]
     },
     "execution_count": 19,
     "metadata": {},
     "output_type": "execute_result"
    }
   ],
   "source": [
    "deliv['Water.System.Classification'].value_counts(dropna=False)"
   ]
  },
  {
   "cell_type": "code",
   "execution_count": 20,
   "metadata": {},
   "outputs": [
    {
     "data": {
      "text/html": [
       "<div>\n",
       "<style>\n",
       "    .dataframe thead tr:only-child th {\n",
       "        text-align: right;\n",
       "    }\n",
       "\n",
       "    .dataframe thead th {\n",
       "        text-align: left;\n",
       "    }\n",
       "\n",
       "    .dataframe tbody tr th {\n",
       "        vertical-align: top;\n",
       "    }\n",
       "</style>\n",
       "<table border=\"1\" class=\"dataframe\">\n",
       "  <thead>\n",
       "    <tr style=\"text-align: right;\">\n",
       "      <th></th>\n",
       "      <th>Water.System.Classification</th>\n",
       "      <th>original_units_incorrect</th>\n",
       "    </tr>\n",
       "  </thead>\n",
       "  <tbody>\n",
       "    <tr>\n",
       "      <th>2</th>\n",
       "      <td>Local Government</td>\n",
       "      <td>0.000000</td>\n",
       "    </tr>\n",
       "    <tr>\n",
       "      <th>4</th>\n",
       "      <td>Privately owned business (non-community)</td>\n",
       "      <td>0.000000</td>\n",
       "    </tr>\n",
       "    <tr>\n",
       "      <th>5</th>\n",
       "      <td>Privately owned, PUC-regulated, for profit water company</td>\n",
       "      <td>0.000000</td>\n",
       "    </tr>\n",
       "    <tr>\n",
       "      <th>3</th>\n",
       "      <td>Nontransient Noncommunity Water System</td>\n",
       "      <td>0.008936</td>\n",
       "    </tr>\n",
       "    <tr>\n",
       "      <th>1</th>\n",
       "      <td>Large Water System</td>\n",
       "      <td>0.038977</td>\n",
       "    </tr>\n",
       "    <tr>\n",
       "      <th>0</th>\n",
       "      <td>Community Water System</td>\n",
       "      <td>0.047381</td>\n",
       "    </tr>\n",
       "    <tr>\n",
       "      <th>6</th>\n",
       "      <td>Transient Noncommunity Water System</td>\n",
       "      <td>0.065624</td>\n",
       "    </tr>\n",
       "  </tbody>\n",
       "</table>\n",
       "</div>"
      ],
      "text/plain": [
       "                                Water.System.Classification  original_units_incorrect\n",
       "2  Local Government                                          0.000000                \n",
       "4  Privately owned business (non-community)                  0.000000                \n",
       "5  Privately owned, PUC-regulated, for profit water company  0.000000                \n",
       "3  Nontransient Noncommunity Water System                    0.008936                \n",
       "1  Large Water System                                        0.038977                \n",
       "0  Community Water System                                    0.047381                \n",
       "6  Transient Noncommunity Water System                       0.065624                "
      ]
     },
     "execution_count": 20,
     "metadata": {},
     "output_type": "execute_result"
    }
   ],
   "source": [
    "# Local Govt / Privately Owned have few records; all are correct\n",
    "# Transient Noncommunity and Community Water are most likely to have incorrect units\n",
    "deliv[['Water.System.Classification','original_units_incorrect']].groupby(['Water.System.Classification']).mean().reset_index().sort_values('original_units_incorrect')"
   ]
  },
  {
   "cell_type": "code",
   "execution_count": 21,
   "metadata": {
    "collapsed": true
   },
   "outputs": [],
   "source": [
    "deliv['Water.System.Classification_mod'] = deliv['Water.System.Classification']\n",
    "deliv.loc[pd.isnull(deliv['Water.System.Classification']),'Water.System.Classification_mod'] = \"NA\"\n",
    "deliv.loc[deliv['Water.System.Classification_mod'].str.contains(\"Privately\"),'Water.System.Classification_mod'] = \"Private\""
   ]
  },
  {
   "cell_type": "code",
   "execution_count": 22,
   "metadata": {
    "collapsed": true
   },
   "outputs": [],
   "source": [
    "deliv,predictors = data.add_one_hot_encoding(deliv['Water.System.Classification_mod'],deliv,predictors)"
   ]
  },
  {
   "cell_type": "code",
   "execution_count": 23,
   "metadata": {
    "collapsed": true
   },
   "outputs": [],
   "source": [
    "############\n",
    "# Create features: Original units reported\n",
    "#################"
   ]
  },
  {
   "cell_type": "code",
   "execution_count": 24,
   "metadata": {},
   "outputs": [
    {
     "data": {
      "text/html": [
       "<div>\n",
       "<style>\n",
       "    .dataframe thead tr:only-child th {\n",
       "        text-align: right;\n",
       "    }\n",
       "\n",
       "    .dataframe thead th {\n",
       "        text-align: left;\n",
       "    }\n",
       "\n",
       "    .dataframe tbody tr th {\n",
       "        vertical-align: top;\n",
       "    }\n",
       "</style>\n",
       "<table border=\"1\" class=\"dataframe\">\n",
       "  <thead>\n",
       "    <tr style=\"text-align: right;\">\n",
       "      <th></th>\n",
       "      <th>Delivered.Water.Units AS ORIGINALLY REPORTED</th>\n",
       "      <th>original_units_incorrect</th>\n",
       "    </tr>\n",
       "  </thead>\n",
       "  <tbody>\n",
       "    <tr>\n",
       "      <th>0</th>\n",
       "      <td>AF</td>\n",
       "      <td>0.017201</td>\n",
       "    </tr>\n",
       "    <tr>\n",
       "      <th>2</th>\n",
       "      <td>G</td>\n",
       "      <td>0.027247</td>\n",
       "    </tr>\n",
       "    <tr>\n",
       "      <th>3</th>\n",
       "      <td>MG</td>\n",
       "      <td>0.035810</td>\n",
       "    </tr>\n",
       "    <tr>\n",
       "      <th>1</th>\n",
       "      <td>CCF</td>\n",
       "      <td>0.073082</td>\n",
       "    </tr>\n",
       "  </tbody>\n",
       "</table>\n",
       "</div>"
      ],
      "text/plain": [
       "  Delivered.Water.Units AS ORIGINALLY REPORTED  original_units_incorrect\n",
       "0  AF                                           0.017201                \n",
       "2  G                                            0.027247                \n",
       "3  MG                                           0.035810                \n",
       "1  CCF                                          0.073082                "
      ]
     },
     "execution_count": 24,
     "metadata": {},
     "output_type": "execute_result"
    }
   ],
   "source": [
    "# CCF is most likely to be incorrect\n",
    "# AF is least likely to be incorrect\n",
    "deliv[['Delivered.Water.Units AS ORIGINALLY REPORTED','original_units_incorrect']].groupby(['Delivered.Water.Units AS ORIGINALLY REPORTED']).mean().reset_index().sort_values('original_units_incorrect')"
   ]
  },
  {
   "cell_type": "code",
   "execution_count": 25,
   "metadata": {
    "collapsed": true
   },
   "outputs": [],
   "source": [
    "deliv,predictors = data.add_one_hot_encoding(deliv['Delivered.Water.Units AS ORIGINALLY REPORTED'],deliv,predictors)"
   ]
  },
  {
   "cell_type": "code",
   "execution_count": 26,
   "metadata": {
    "collapsed": true
   },
   "outputs": [],
   "source": [
    "############\n",
    "# Create features: Institutional Service Connections\n",
    "#################"
   ]
  },
  {
   "cell_type": "code",
   "execution_count": 27,
   "metadata": {},
   "outputs": [
    {
     "data": {
      "text/plain": [
       "0.0    7492\n",
       "1.0    395 \n",
       "Name: Numer of Institutional Service Conections, dtype: int64"
      ]
     },
     "execution_count": 27,
     "metadata": {},
     "output_type": "execute_result"
    }
   ],
   "source": [
    "# verify that we have one unique value for service connections per water system\n",
    "uniqueInstServ = systems.groupby(['Water System No ']).agg({\"Numer of Institutional Service Conections\": lambda x: x.nunique()}).reset_index()\n",
    "uniqueInstServ['Numer of Institutional Service Conections'].value_counts()"
   ]
  },
  {
   "cell_type": "code",
   "execution_count": 28,
   "metadata": {},
   "outputs": [
    {
     "name": "stdout",
     "output_type": "stream",
     "text": [
      "(75625, 48)\n",
      "(75625, 49)\n"
     ]
    }
   ],
   "source": [
    "print(deliv.shape)\n",
    "deliv = deliv.merge(systems[['Water System No ','Numer of Institutional Service Conections']].drop_duplicates(),\n",
    "                   left_on = \"PWSID\",right_on = \"Water System No \",how=\"left\")\n",
    "deliv = deliv.drop(\"Water System No \",axis=1)\n",
    "print(deliv.shape)\n",
    "predictors = predictors + ['Numer of Institutional Service Conections']"
   ]
  },
  {
   "cell_type": "code",
   "execution_count": 29,
   "metadata": {},
   "outputs": [
    {
     "data": {
      "text/html": [
       "<div>\n",
       "<style>\n",
       "    .dataframe thead tr:only-child th {\n",
       "        text-align: right;\n",
       "    }\n",
       "\n",
       "    .dataframe thead th {\n",
       "        text-align: left;\n",
       "    }\n",
       "\n",
       "    .dataframe tbody tr th {\n",
       "        vertical-align: top;\n",
       "    }\n",
       "</style>\n",
       "<table border=\"1\" class=\"dataframe\">\n",
       "  <thead>\n",
       "    <tr style=\"text-align: right;\">\n",
       "      <th></th>\n",
       "      <th>index</th>\n",
       "      <th>Numer of Institutional Service Conections_incorrect</th>\n",
       "      <th>Numer of Institutional Service Conections_correct</th>\n",
       "    </tr>\n",
       "  </thead>\n",
       "  <tbody>\n",
       "    <tr>\n",
       "      <th>0</th>\n",
       "      <td>count</td>\n",
       "      <td>219.000000</td>\n",
       "      <td>7953.000000</td>\n",
       "    </tr>\n",
       "    <tr>\n",
       "      <th>1</th>\n",
       "      <td>mean</td>\n",
       "      <td>38.246575</td>\n",
       "      <td>250.633723</td>\n",
       "    </tr>\n",
       "    <tr>\n",
       "      <th>2</th>\n",
       "      <td>std</td>\n",
       "      <td>88.939591</td>\n",
       "      <td>1557.963278</td>\n",
       "    </tr>\n",
       "    <tr>\n",
       "      <th>3</th>\n",
       "      <td>min</td>\n",
       "      <td>0.000000</td>\n",
       "      <td>0.000000</td>\n",
       "    </tr>\n",
       "    <tr>\n",
       "      <th>4</th>\n",
       "      <td>5%</td>\n",
       "      <td>0.000000</td>\n",
       "      <td>0.000000</td>\n",
       "    </tr>\n",
       "    <tr>\n",
       "      <th>5</th>\n",
       "      <td>10%</td>\n",
       "      <td>0.000000</td>\n",
       "      <td>1.000000</td>\n",
       "    </tr>\n",
       "    <tr>\n",
       "      <th>6</th>\n",
       "      <td>50%</td>\n",
       "      <td>1.000000</td>\n",
       "      <td>16.000000</td>\n",
       "    </tr>\n",
       "    <tr>\n",
       "      <th>7</th>\n",
       "      <td>90%</td>\n",
       "      <td>175.000000</td>\n",
       "      <td>311.000000</td>\n",
       "    </tr>\n",
       "    <tr>\n",
       "      <th>8</th>\n",
       "      <td>95%</td>\n",
       "      <td>348.000000</td>\n",
       "      <td>480.000000</td>\n",
       "    </tr>\n",
       "    <tr>\n",
       "      <th>9</th>\n",
       "      <td>max</td>\n",
       "      <td>348.000000</td>\n",
       "      <td>19197.000000</td>\n",
       "    </tr>\n",
       "  </tbody>\n",
       "</table>\n",
       "</div>"
      ],
      "text/plain": [
       "   index  Numer of Institutional Service Conections_incorrect  Numer of Institutional Service Conections_correct\n",
       "0  count  219.000000                                           7953.000000                                      \n",
       "1  mean   38.246575                                            250.633723                                       \n",
       "2  std    88.939591                                            1557.963278                                      \n",
       "3  min    0.000000                                             0.000000                                         \n",
       "4  5%     0.000000                                             0.000000                                         \n",
       "5  10%    0.000000                                             1.000000                                         \n",
       "6  50%    1.000000                                             16.000000                                        \n",
       "7  90%    175.000000                                           311.000000                                       \n",
       "8  95%    348.000000                                           480.000000                                       \n",
       "9  max    348.000000                                           19197.000000                                     "
      ]
     },
     "execution_count": 29,
     "metadata": {},
     "output_type": "execute_result"
    }
   ],
   "source": [
    "data.compare_correct_incorrect_values(deliv[(pd.isnull(deliv['Numer of Institutional Service Conections'])==False)],'Numer of Institutional Service Conections')"
   ]
  },
  {
   "cell_type": "code",
   "execution_count": 30,
   "metadata": {
    "collapsed": true
   },
   "outputs": [],
   "source": [
    "############\n",
    "# Create features: Percent change from prior year\n",
    "# Merge on original deliveries in gallons\n",
    "#################"
   ]
  },
  {
   "cell_type": "code",
   "execution_count": 31,
   "metadata": {
    "scrolled": true
   },
   "outputs": [
    {
     "name": "stdout",
     "output_type": "stream",
     "text": [
      "(75625, 50)\n",
      "(75625, 52)\n"
     ]
    }
   ],
   "source": [
    "deliv['prior_year'] = deliv['Year']-1\n",
    "print(deliv.shape)\n",
    "deliv = deliv.merge(deliv[['Year','Month','PWSID',\n",
    "                           'gpcd_from_water_deliv_residential_revised_units_in_orig_units_in_gallons']],\n",
    "                    left_on=[\"prior_year\",'Month','PWSID'],right_on=[\"Year\",'Month','PWSID'],how=\"left\",suffixes=['','_prior'])\n",
    "print(deliv.shape)"
   ]
  },
  {
   "cell_type": "code",
   "execution_count": 32,
   "metadata": {
    "collapsed": true
   },
   "outputs": [],
   "source": [
    "deliv['change_from_prior'] = deliv['gpcd_from_water_deliv_residential_revised_units_in_orig_units_in_gallons_prior']-deliv['gpcd_from_water_deliv_residential_revised_units_in_orig_units_in_gallons']\n",
    "deliv['pct_change'] = deliv['change_from_prior']/ deliv['gpcd_from_water_deliv_residential_revised_units_in_orig_units_in_gallons_prior']"
   ]
  },
  {
   "cell_type": "code",
   "execution_count": 33,
   "metadata": {
    "collapsed": true
   },
   "outputs": [],
   "source": [
    "predictors = predictors + ['pct_change']"
   ]
  },
  {
   "cell_type": "code",
   "execution_count": 34,
   "metadata": {},
   "outputs": [
    {
     "data": {
      "text/html": [
       "<div>\n",
       "<style>\n",
       "    .dataframe thead tr:only-child th {\n",
       "        text-align: right;\n",
       "    }\n",
       "\n",
       "    .dataframe thead th {\n",
       "        text-align: left;\n",
       "    }\n",
       "\n",
       "    .dataframe tbody tr th {\n",
       "        vertical-align: top;\n",
       "    }\n",
       "</style>\n",
       "<table border=\"1\" class=\"dataframe\">\n",
       "  <thead>\n",
       "    <tr style=\"text-align: right;\">\n",
       "      <th></th>\n",
       "      <th>index</th>\n",
       "      <th>pct_change_incorrect</th>\n",
       "      <th>pct_change_correct</th>\n",
       "    </tr>\n",
       "  </thead>\n",
       "  <tbody>\n",
       "    <tr>\n",
       "      <th>0</th>\n",
       "      <td>count</td>\n",
       "      <td>1519.000000</td>\n",
       "      <td>4.087300e+04</td>\n",
       "    </tr>\n",
       "    <tr>\n",
       "      <th>1</th>\n",
       "      <td>mean</td>\n",
       "      <td>-inf</td>\n",
       "      <td>-inf</td>\n",
       "    </tr>\n",
       "    <tr>\n",
       "      <th>2</th>\n",
       "      <td>std</td>\n",
       "      <td>NaN</td>\n",
       "      <td>NaN</td>\n",
       "    </tr>\n",
       "    <tr>\n",
       "      <th>3</th>\n",
       "      <td>min</td>\n",
       "      <td>-inf</td>\n",
       "      <td>-inf</td>\n",
       "    </tr>\n",
       "    <tr>\n",
       "      <th>4</th>\n",
       "      <td>5%</td>\n",
       "      <td>-1579.248040</td>\n",
       "      <td>-1.094135e+00</td>\n",
       "    </tr>\n",
       "    <tr>\n",
       "      <th>5</th>\n",
       "      <td>10%</td>\n",
       "      <td>-829.331549</td>\n",
       "      <td>-4.256844e-01</td>\n",
       "    </tr>\n",
       "    <tr>\n",
       "      <th>6</th>\n",
       "      <td>50%</td>\n",
       "      <td>0.012661</td>\n",
       "      <td>6.007487e-02</td>\n",
       "    </tr>\n",
       "    <tr>\n",
       "      <th>7</th>\n",
       "      <td>90%</td>\n",
       "      <td>0.998590</td>\n",
       "      <td>4.068299e-01</td>\n",
       "    </tr>\n",
       "    <tr>\n",
       "      <th>8</th>\n",
       "      <td>95%</td>\n",
       "      <td>0.999379</td>\n",
       "      <td>6.300680e-01</td>\n",
       "    </tr>\n",
       "    <tr>\n",
       "      <th>9</th>\n",
       "      <td>max</td>\n",
       "      <td>1.000000</td>\n",
       "      <td>2.946909e+03</td>\n",
       "    </tr>\n",
       "  </tbody>\n",
       "</table>\n",
       "</div>"
      ],
      "text/plain": [
       "   index  pct_change_incorrect  pct_change_correct\n",
       "0  count  1519.000000           4.087300e+04      \n",
       "1  mean  -inf                  -inf               \n",
       "2  std   NaN                   NaN                \n",
       "3  min   -inf                  -inf               \n",
       "4  5%    -1579.248040          -1.094135e+00      \n",
       "5  10%   -829.331549           -4.256844e-01      \n",
       "6  50%    0.012661              6.007487e-02      \n",
       "7  90%    0.998590              4.068299e-01      \n",
       "8  95%    0.999379              6.300680e-01      \n",
       "9  max    1.000000              2.946909e+03      "
      ]
     },
     "execution_count": 34,
     "metadata": {},
     "output_type": "execute_result"
    }
   ],
   "source": [
    "data.compare_correct_incorrect_values(deliv[(pd.isnull(deliv['pct_change'])==False)],'pct_change')"
   ]
  },
  {
   "cell_type": "markdown",
   "metadata": {
    "collapsed": true
   },
   "source": [
    "### Split into train and test sets"
   ]
  },
  {
   "cell_type": "code",
   "execution_count": 35,
   "metadata": {
    "collapsed": true
   },
   "outputs": [],
   "source": [
    "train_pwsid, test_pwsid = models.gen_train_test_ids(deliv,'PWSID',seed=122,trainPercent=.8)\n",
    "tests.verify_train_test_split(train_pwsid, test_pwsid)"
   ]
  },
  {
   "cell_type": "code",
   "execution_count": 36,
   "metadata": {
    "collapsed": true
   },
   "outputs": [],
   "source": [
    "deliv_train_X, deliv_test_X, xgb_train_X, xgb_test_X, xgb_train_y, xgb_test_y = models.generate_train_test_df_and_matrix(deliv,'PWSID',train_pwsid,test_pwsid,predictors,'original_units_incorrect')"
   ]
  },
  {
   "cell_type": "code",
   "execution_count": 37,
   "metadata": {},
   "outputs": [
    {
     "name": "stdout",
     "output_type": "stream",
     "text": [
      "Train shape: (60480, 54)\n",
      "Test shape: (15145, 54)\n",
      "% incorrect in train: 0    0.961144\n",
      "1    0.038856\n",
      "Name: original_units_incorrect, dtype: float64\n",
      "% incorrect in test: 0    0.948762\n",
      "1    0.051238\n",
      "Name: original_units_incorrect, dtype: float64\n"
     ]
    }
   ],
   "source": [
    "models.review_train_test_split(deliv_train_X,deliv_test_X,'original_units_incorrect')"
   ]
  },
  {
   "cell_type": "code",
   "execution_count": 38,
   "metadata": {
    "collapsed": true
   },
   "outputs": [],
   "source": [
    "deliv_train_X[predictors+['original_units_incorrect',]].to_csv(\"{}4_unit_correction_model___train_2.csv\".format(interim_data_path),index=False)\n",
    "deliv_test_X[predictors+['original_units_incorrect',]].to_csv(\"{}4_unit_correction_model___test_2.csv\".format(interim_data_path),index=False)"
   ]
  },
  {
   "cell_type": "markdown",
   "metadata": {},
   "source": [
    "### Since each PWSID appears multiple times in the data set, perform a group split for CV to ensure that a unique PWSID cannot appear in both the train and test fold."
   ]
  },
  {
   "cell_type": "code",
   "execution_count": 39,
   "metadata": {
    "collapsed": true
   },
   "outputs": [],
   "source": [
    "deliv_train_X = models.generate_cv_folds(deliv_train_X,train_pwsid,'PWSID',seed=122)"
   ]
  },
  {
   "cell_type": "code",
   "execution_count": 40,
   "metadata": {
    "collapsed": true
   },
   "outputs": [],
   "source": [
    "gss = GroupShuffleSplit(n_splits=4, test_size=0.25, random_state=0)"
   ]
  },
  {
   "cell_type": "markdown",
   "metadata": {},
   "source": [
    "### Parameter Tuning"
   ]
  },
  {
   "cell_type": "code",
   "execution_count": 41,
   "metadata": {
    "collapsed": true
   },
   "outputs": [],
   "source": [
    "parameters = {'learning_rate': [0.01,0.05], #so called `eta` value\n",
    "              'max_depth': [3,4,5,6],\n",
    "              'min_child_weight': [1,3,5],\n",
    "              'silent': [1],\n",
    "              'n_estimators': [100,250], #number of trees\n",
    "              'seed': [1337],\n",
    "             'scale_pos_weight' :[float(np.sum(xgb_train_y == 0)) / np.sum(xgb_train_y == 1)]}"
   ]
  },
  {
   "cell_type": "code",
   "execution_count": 42,
   "metadata": {
    "collapsed": true
   },
   "outputs": [],
   "source": [
    "gbm = xgb.XGBClassifier(scale_pos_weight=float(np.sum(xgb_train_y == 0)) / np.sum(xgb_train_y == 1))"
   ]
  },
  {
   "cell_type": "code",
   "execution_count": 43,
   "metadata": {},
   "outputs": [
    {
     "name": "stdout",
     "output_type": "stream",
     "text": [
      "# Tuning hyper-parameters for precision\n",
      "\n",
      "Fitting 4 folds for each of 48 candidates, totalling 192 fits\n",
      "[CV] learning_rate=0.01, max_depth=3, min_child_weight=1, n_estimators=100, scale_pos_weight=24.7361702128, seed=1337, silent=1 \n",
      "[CV] learning_rate=0.01, max_depth=3, min_child_weight=1, n_estimators=100, scale_pos_weight=24.7361702128, seed=1337, silent=1 \n",
      "[CV] learning_rate=0.01, max_depth=3, min_child_weight=1, n_estimators=100, scale_pos_weight=24.7361702128, seed=1337, silent=1 \n",
      "[CV] learning_rate=0.01, max_depth=3, min_child_weight=1, n_estimators=100, scale_pos_weight=24.7361702128, seed=1337, silent=1 \n",
      "[CV] learning_rate=0.01, max_depth=3, min_child_weight=1, n_estimators=250, scale_pos_weight=24.7361702128, seed=1337, silent=1 \n",
      "[CV]  learning_rate=0.01, max_depth=3, min_child_weight=1, n_estimators=100, scale_pos_weight=24.7361702128, seed=1337, silent=1, total=   5.1s\n",
      "[CV] learning_rate=0.01, max_depth=3, min_child_weight=1, n_estimators=250, scale_pos_weight=24.7361702128, seed=1337, silent=1 \n",
      "[CV]  learning_rate=0.01, max_depth=3, min_child_weight=1, n_estimators=100, scale_pos_weight=24.7361702128, seed=1337, silent=1, total=   5.2s\n",
      "[CV]  learning_rate=0.01, max_depth=3, min_child_weight=1, n_estimators=100, scale_pos_weight=24.7361702128, seed=1337, silent=1, total=   5.4s\n",
      "[CV]  learning_rate=0.01, max_depth=3, min_child_weight=1, n_estimators=100, scale_pos_weight=24.7361702128, seed=1337, silent=1, total=   5.3s\n",
      "[CV] learning_rate=0.01, max_depth=3, min_child_weight=1, n_estimators=250, scale_pos_weight=24.7361702128, seed=1337, silent=1 \n",
      "[CV] learning_rate=0.01, max_depth=3, min_child_weight=1, n_estimators=250, scale_pos_weight=24.7361702128, seed=1337, silent=1 \n",
      "[CV] learning_rate=0.01, max_depth=3, min_child_weight=3, n_estimators=100, scale_pos_weight=24.7361702128, seed=1337, silent=1 \n",
      "[CV]  learning_rate=0.01, max_depth=3, min_child_weight=3, n_estimators=100, scale_pos_weight=24.7361702128, seed=1337, silent=1, total=   5.1s\n",
      "[CV] learning_rate=0.01, max_depth=3, min_child_weight=3, n_estimators=100, scale_pos_weight=24.7361702128, seed=1337, silent=1 \n",
      "[CV]  learning_rate=0.01, max_depth=3, min_child_weight=1, n_estimators=250, scale_pos_weight=24.7361702128, seed=1337, silent=1, total=  13.0s\n",
      "[CV] learning_rate=0.01, max_depth=3, min_child_weight=3, n_estimators=100, scale_pos_weight=24.7361702128, seed=1337, silent=1 \n",
      "[CV]  learning_rate=0.01, max_depth=3, min_child_weight=3, n_estimators=100, scale_pos_weight=24.7361702128, seed=1337, silent=1, total=   5.5s\n",
      "[CV] learning_rate=0.01, max_depth=3, min_child_weight=3, n_estimators=100, scale_pos_weight=24.7361702128, seed=1337, silent=1 \n",
      "[CV]  learning_rate=0.01, max_depth=3, min_child_weight=1, n_estimators=250, scale_pos_weight=24.7361702128, seed=1337, silent=1, total=  13.3s\n",
      "[CV] learning_rate=0.01, max_depth=3, min_child_weight=3, n_estimators=250, scale_pos_weight=24.7361702128, seed=1337, silent=1 \n",
      "[CV]  learning_rate=0.01, max_depth=3, min_child_weight=1, n_estimators=250, scale_pos_weight=24.7361702128, seed=1337, silent=1, total=  13.3s\n",
      "[CV]  learning_rate=0.01, max_depth=3, min_child_weight=1, n_estimators=250, scale_pos_weight=24.7361702128, seed=1337, silent=1, total=  13.5s\n",
      "[CV] learning_rate=0.01, max_depth=3, min_child_weight=3, n_estimators=250, scale_pos_weight=24.7361702128, seed=1337, silent=1 \n",
      "[CV] learning_rate=0.01, max_depth=3, min_child_weight=3, n_estimators=250, scale_pos_weight=24.7361702128, seed=1337, silent=1 \n",
      "[CV]  learning_rate=0.01, max_depth=3, min_child_weight=3, n_estimators=100, scale_pos_weight=24.7361702128, seed=1337, silent=1, total=   5.8s\n",
      "[CV] learning_rate=0.01, max_depth=3, min_child_weight=3, n_estimators=250, scale_pos_weight=24.7361702128, seed=1337, silent=1 \n",
      "[CV]  learning_rate=0.01, max_depth=3, min_child_weight=3, n_estimators=100, scale_pos_weight=24.7361702128, seed=1337, silent=1, total=   5.7s\n",
      "[CV] learning_rate=0.01, max_depth=3, min_child_weight=5, n_estimators=100, scale_pos_weight=24.7361702128, seed=1337, silent=1 \n",
      "[CV]  learning_rate=0.01, max_depth=3, min_child_weight=5, n_estimators=100, scale_pos_weight=24.7361702128, seed=1337, silent=1, total=   5.4s\n",
      "[CV] learning_rate=0.01, max_depth=3, min_child_weight=5, n_estimators=100, scale_pos_weight=24.7361702128, seed=1337, silent=1 \n",
      "[CV]  learning_rate=0.01, max_depth=3, min_child_weight=3, n_estimators=250, scale_pos_weight=24.7361702128, seed=1337, silent=1, total=  13.2s\n",
      "[CV] learning_rate=0.01, max_depth=3, min_child_weight=5, n_estimators=100, scale_pos_weight=24.7361702128, seed=1337, silent=1 \n",
      "[CV]  learning_rate=0.01, max_depth=3, min_child_weight=3, n_estimators=250, scale_pos_weight=24.7361702128, seed=1337, silent=1, total=  13.4s\n",
      "[CV] learning_rate=0.01, max_depth=3, min_child_weight=5, n_estimators=100, scale_pos_weight=24.7361702128, seed=1337, silent=1 \n",
      "[CV]  learning_rate=0.01, max_depth=3, min_child_weight=3, n_estimators=250, scale_pos_weight=24.7361702128, seed=1337, silent=1, total=  13.5s\n",
      "[CV]  learning_rate=0.01, max_depth=3, min_child_weight=3, n_estimators=250, scale_pos_weight=24.7361702128, seed=1337, silent=1, total=  13.3s\n",
      "[CV] learning_rate=0.01, max_depth=3, min_child_weight=5, n_estimators=250, scale_pos_weight=24.7361702128, seed=1337, silent=1 \n",
      "[CV] learning_rate=0.01, max_depth=3, min_child_weight=5, n_estimators=250, scale_pos_weight=24.7361702128, seed=1337, silent=1 \n",
      "[CV]  learning_rate=0.01, max_depth=3, min_child_weight=5, n_estimators=100, scale_pos_weight=24.7361702128, seed=1337, silent=1, total=   5.6s\n",
      "[CV] learning_rate=0.01, max_depth=3, min_child_weight=5, n_estimators=250, scale_pos_weight=24.7361702128, seed=1337, silent=1 \n",
      "[CV]  learning_rate=0.01, max_depth=3, min_child_weight=5, n_estimators=100, scale_pos_weight=24.7361702128, seed=1337, silent=1, total=   5.0s\n",
      "[CV] learning_rate=0.01, max_depth=3, min_child_weight=5, n_estimators=250, scale_pos_weight=24.7361702128, seed=1337, silent=1 \n",
      "[CV]  learning_rate=0.01, max_depth=3, min_child_weight=5, n_estimators=100, scale_pos_weight=24.7361702128, seed=1337, silent=1, total=   5.1s\n",
      "[CV] learning_rate=0.01, max_depth=4, min_child_weight=1, n_estimators=100, scale_pos_weight=24.7361702128, seed=1337, silent=1 \n",
      "[CV]  learning_rate=0.01, max_depth=4, min_child_weight=1, n_estimators=100, scale_pos_weight=24.7361702128, seed=1337, silent=1, total=   6.8s\n",
      "[CV] learning_rate=0.01, max_depth=4, min_child_weight=1, n_estimators=100, scale_pos_weight=24.7361702128, seed=1337, silent=1 \n",
      "[CV]  learning_rate=0.01, max_depth=3, min_child_weight=5, n_estimators=250, scale_pos_weight=24.7361702128, seed=1337, silent=1, total=  12.8s\n",
      "[CV] learning_rate=0.01, max_depth=4, min_child_weight=1, n_estimators=100, scale_pos_weight=24.7361702128, seed=1337, silent=1 \n",
      "[CV]  learning_rate=0.01, max_depth=3, min_child_weight=5, n_estimators=250, scale_pos_weight=24.7361702128, seed=1337, silent=1, total=  12.9s\n",
      "[CV] learning_rate=0.01, max_depth=4, min_child_weight=1, n_estimators=100, scale_pos_weight=24.7361702128, seed=1337, silent=1 \n",
      "[CV]  learning_rate=0.01, max_depth=3, min_child_weight=5, n_estimators=250, scale_pos_weight=24.7361702128, seed=1337, silent=1, total=  12.8s\n",
      "[CV] learning_rate=0.01, max_depth=4, min_child_weight=1, n_estimators=250, scale_pos_weight=24.7361702128, seed=1337, silent=1 \n",
      "[CV]  learning_rate=0.01, max_depth=3, min_child_weight=5, n_estimators=250, scale_pos_weight=24.7361702128, seed=1337, silent=1, total=  12.7s\n",
      "[CV] learning_rate=0.01, max_depth=4, min_child_weight=1, n_estimators=250, scale_pos_weight=24.7361702128, seed=1337, silent=1 \n",
      "[CV]  learning_rate=0.01, max_depth=4, min_child_weight=1, n_estimators=100, scale_pos_weight=24.7361702128, seed=1337, silent=1, total=   6.6s\n",
      "[CV] learning_rate=0.01, max_depth=4, min_child_weight=1, n_estimators=250, scale_pos_weight=24.7361702128, seed=1337, silent=1 \n",
      "[CV]  learning_rate=0.01, max_depth=4, min_child_weight=1, n_estimators=100, scale_pos_weight=24.7361702128, seed=1337, silent=1, total=   6.5s\n",
      "[CV] learning_rate=0.01, max_depth=4, min_child_weight=1, n_estimators=250, scale_pos_weight=24.7361702128, seed=1337, silent=1 \n",
      "[CV]  learning_rate=0.01, max_depth=4, min_child_weight=1, n_estimators=100, scale_pos_weight=24.7361702128, seed=1337, silent=1, total=   6.5s\n"
     ]
    },
    {
     "name": "stdout",
     "output_type": "stream",
     "text": [
      "[CV] learning_rate=0.01, max_depth=4, min_child_weight=3, n_estimators=100, scale_pos_weight=24.7361702128, seed=1337, silent=1 \n",
      "[CV]  learning_rate=0.01, max_depth=4, min_child_weight=3, n_estimators=100, scale_pos_weight=24.7361702128, seed=1337, silent=1, total=   6.5s\n",
      "[CV] learning_rate=0.01, max_depth=4, min_child_weight=3, n_estimators=100, scale_pos_weight=24.7361702128, seed=1337, silent=1 \n",
      "[CV]  learning_rate=0.01, max_depth=4, min_child_weight=1, n_estimators=250, scale_pos_weight=24.7361702128, seed=1337, silent=1, total=  16.6s\n",
      "[CV] learning_rate=0.01, max_depth=4, min_child_weight=3, n_estimators=100, scale_pos_weight=24.7361702128, seed=1337, silent=1 \n",
      "[CV]  learning_rate=0.01, max_depth=4, min_child_weight=3, n_estimators=100, scale_pos_weight=24.7361702128, seed=1337, silent=1, total=   6.8s\n",
      "[CV] learning_rate=0.01, max_depth=4, min_child_weight=3, n_estimators=100, scale_pos_weight=24.7361702128, seed=1337, silent=1 \n"
     ]
    },
    {
     "name": "stderr",
     "output_type": "stream",
     "text": [
      "[Parallel(n_jobs=5)]: Done  31 tasks      | elapsed:  1.1min\n"
     ]
    },
    {
     "name": "stdout",
     "output_type": "stream",
     "text": [
      "[CV]  learning_rate=0.01, max_depth=4, min_child_weight=1, n_estimators=250, scale_pos_weight=24.7361702128, seed=1337, silent=1, total=  16.7s\n",
      "[CV] learning_rate=0.01, max_depth=4, min_child_weight=3, n_estimators=250, scale_pos_weight=24.7361702128, seed=1337, silent=1 \n",
      "[CV]  learning_rate=0.01, max_depth=4, min_child_weight=1, n_estimators=250, scale_pos_weight=24.7361702128, seed=1337, silent=1, total=  16.4s\n",
      "[CV] learning_rate=0.01, max_depth=4, min_child_weight=3, n_estimators=250, scale_pos_weight=24.7361702128, seed=1337, silent=1 \n",
      "[CV]  learning_rate=0.01, max_depth=4, min_child_weight=1, n_estimators=250, scale_pos_weight=24.7361702128, seed=1337, silent=1, total=  16.3s\n",
      "[CV] learning_rate=0.01, max_depth=4, min_child_weight=3, n_estimators=250, scale_pos_weight=24.7361702128, seed=1337, silent=1 \n",
      "[CV]  learning_rate=0.01, max_depth=4, min_child_weight=3, n_estimators=100, scale_pos_weight=24.7361702128, seed=1337, silent=1, total=   6.5s\n",
      "[CV] learning_rate=0.01, max_depth=4, min_child_weight=3, n_estimators=250, scale_pos_weight=24.7361702128, seed=1337, silent=1 \n",
      "[CV]  learning_rate=0.01, max_depth=4, min_child_weight=3, n_estimators=100, scale_pos_weight=24.7361702128, seed=1337, silent=1, total=   6.9s\n",
      "[CV] learning_rate=0.01, max_depth=4, min_child_weight=5, n_estimators=100, scale_pos_weight=24.7361702128, seed=1337, silent=1 \n",
      "[CV]  learning_rate=0.01, max_depth=4, min_child_weight=5, n_estimators=100, scale_pos_weight=24.7361702128, seed=1337, silent=1, total=  11.6s\n",
      "[CV] learning_rate=0.01, max_depth=4, min_child_weight=5, n_estimators=100, scale_pos_weight=24.7361702128, seed=1337, silent=1 \n",
      "[CV]  learning_rate=0.01, max_depth=4, min_child_weight=3, n_estimators=250, scale_pos_weight=24.7361702128, seed=1337, silent=1, total=  24.0s\n",
      "[CV] learning_rate=0.01, max_depth=4, min_child_weight=5, n_estimators=100, scale_pos_weight=24.7361702128, seed=1337, silent=1 \n",
      "[CV]  learning_rate=0.01, max_depth=4, min_child_weight=3, n_estimators=250, scale_pos_weight=24.7361702128, seed=1337, silent=1, total=  24.0s\n",
      "[CV] learning_rate=0.01, max_depth=4, min_child_weight=5, n_estimators=100, scale_pos_weight=24.7361702128, seed=1337, silent=1 \n",
      "[CV]  learning_rate=0.01, max_depth=4, min_child_weight=3, n_estimators=250, scale_pos_weight=24.7361702128, seed=1337, silent=1, total=  23.6s\n",
      "[CV] learning_rate=0.01, max_depth=4, min_child_weight=5, n_estimators=250, scale_pos_weight=24.7361702128, seed=1337, silent=1 \n",
      "[CV]  learning_rate=0.01, max_depth=4, min_child_weight=3, n_estimators=250, scale_pos_weight=24.7361702128, seed=1337, silent=1, total=  23.7s\n",
      "[CV] learning_rate=0.01, max_depth=4, min_child_weight=5, n_estimators=250, scale_pos_weight=24.7361702128, seed=1337, silent=1 \n",
      "[CV]  learning_rate=0.01, max_depth=4, min_child_weight=5, n_estimators=100, scale_pos_weight=24.7361702128, seed=1337, silent=1, total=   8.9s\n",
      "[CV] learning_rate=0.01, max_depth=4, min_child_weight=5, n_estimators=250, scale_pos_weight=24.7361702128, seed=1337, silent=1 \n",
      "[CV]  learning_rate=0.01, max_depth=4, min_child_weight=5, n_estimators=100, scale_pos_weight=24.7361702128, seed=1337, silent=1, total=   6.9s\n",
      "[CV] learning_rate=0.01, max_depth=4, min_child_weight=5, n_estimators=250, scale_pos_weight=24.7361702128, seed=1337, silent=1 \n",
      "[CV]  learning_rate=0.01, max_depth=4, min_child_weight=5, n_estimators=100, scale_pos_weight=24.7361702128, seed=1337, silent=1, total=   7.0s\n",
      "[CV] learning_rate=0.01, max_depth=5, min_child_weight=1, n_estimators=100, scale_pos_weight=24.7361702128, seed=1337, silent=1 \n",
      "[CV]  learning_rate=0.01, max_depth=5, min_child_weight=1, n_estimators=100, scale_pos_weight=24.7361702128, seed=1337, silent=1, total=   8.4s\n",
      "[CV] learning_rate=0.01, max_depth=5, min_child_weight=1, n_estimators=100, scale_pos_weight=24.7361702128, seed=1337, silent=1 \n",
      "[CV]  learning_rate=0.01, max_depth=4, min_child_weight=5, n_estimators=250, scale_pos_weight=24.7361702128, seed=1337, silent=1, total=  18.0s\n",
      "[CV] learning_rate=0.01, max_depth=5, min_child_weight=1, n_estimators=100, scale_pos_weight=24.7361702128, seed=1337, silent=1 \n",
      "[CV]  learning_rate=0.01, max_depth=4, min_child_weight=5, n_estimators=250, scale_pos_weight=24.7361702128, seed=1337, silent=1, total=  18.1s\n",
      "[CV]  learning_rate=0.01, max_depth=4, min_child_weight=5, n_estimators=250, scale_pos_weight=24.7361702128, seed=1337, silent=1, total=  17.9s\n",
      "[CV] learning_rate=0.01, max_depth=5, min_child_weight=1, n_estimators=100, scale_pos_weight=24.7361702128, seed=1337, silent=1 \n",
      "[CV] learning_rate=0.01, max_depth=5, min_child_weight=1, n_estimators=250, scale_pos_weight=24.7361702128, seed=1337, silent=1 \n",
      "[CV]  learning_rate=0.01, max_depth=4, min_child_weight=5, n_estimators=250, scale_pos_weight=24.7361702128, seed=1337, silent=1, total=  18.5s\n",
      "[CV] learning_rate=0.01, max_depth=5, min_child_weight=1, n_estimators=250, scale_pos_weight=24.7361702128, seed=1337, silent=1 \n",
      "[CV]  learning_rate=0.01, max_depth=5, min_child_weight=1, n_estimators=100, scale_pos_weight=24.7361702128, seed=1337, silent=1, total=   9.9s\n",
      "[CV] learning_rate=0.01, max_depth=5, min_child_weight=1, n_estimators=250, scale_pos_weight=24.7361702128, seed=1337, silent=1 \n",
      "[CV]  learning_rate=0.01, max_depth=5, min_child_weight=1, n_estimators=100, scale_pos_weight=24.7361702128, seed=1337, silent=1, total=   8.7s\n",
      "[CV] learning_rate=0.01, max_depth=5, min_child_weight=1, n_estimators=250, scale_pos_weight=24.7361702128, seed=1337, silent=1 \n",
      "[CV]  learning_rate=0.01, max_depth=5, min_child_weight=1, n_estimators=100, scale_pos_weight=24.7361702128, seed=1337, silent=1, total=   8.4s\n",
      "[CV] learning_rate=0.01, max_depth=5, min_child_weight=3, n_estimators=100, scale_pos_weight=24.7361702128, seed=1337, silent=1 \n",
      "[CV]  learning_rate=0.01, max_depth=5, min_child_weight=3, n_estimators=100, scale_pos_weight=24.7361702128, seed=1337, silent=1, total=  10.4s\n",
      "[CV] learning_rate=0.01, max_depth=5, min_child_weight=3, n_estimators=100, scale_pos_weight=24.7361702128, seed=1337, silent=1 \n",
      "[CV]  learning_rate=0.01, max_depth=5, min_child_weight=1, n_estimators=250, scale_pos_weight=24.7361702128, seed=1337, silent=1, total=  24.9s\n",
      "[CV] learning_rate=0.01, max_depth=5, min_child_weight=3, n_estimators=100, scale_pos_weight=24.7361702128, seed=1337, silent=1 \n",
      "[CV]  learning_rate=0.01, max_depth=5, min_child_weight=1, n_estimators=250, scale_pos_weight=24.7361702128, seed=1337, silent=1, total=  22.1s\n",
      "[CV] learning_rate=0.01, max_depth=5, min_child_weight=3, n_estimators=100, scale_pos_weight=24.7361702128, seed=1337, silent=1 \n",
      "[CV]  learning_rate=0.01, max_depth=5, min_child_weight=3, n_estimators=100, scale_pos_weight=24.7361702128, seed=1337, silent=1, total=  10.5s\n",
      "[CV] learning_rate=0.01, max_depth=5, min_child_weight=3, n_estimators=250, scale_pos_weight=24.7361702128, seed=1337, silent=1 \n",
      "[CV]  learning_rate=0.01, max_depth=5, min_child_weight=1, n_estimators=250, scale_pos_weight=24.7361702128, seed=1337, silent=1, total=  25.3s\n",
      "[CV] learning_rate=0.01, max_depth=5, min_child_weight=3, n_estimators=250, scale_pos_weight=24.7361702128, seed=1337, silent=1 \n",
      "[CV]  learning_rate=0.01, max_depth=5, min_child_weight=1, n_estimators=250, scale_pos_weight=24.7361702128, seed=1337, silent=1, total=  23.6s\n",
      "[CV] learning_rate=0.01, max_depth=5, min_child_weight=3, n_estimators=250, scale_pos_weight=24.7361702128, seed=1337, silent=1 \n",
      "[CV]  learning_rate=0.01, max_depth=5, min_child_weight=3, n_estimators=100, scale_pos_weight=24.7361702128, seed=1337, silent=1, total=  10.2s\n",
      "[CV] learning_rate=0.01, max_depth=5, min_child_weight=3, n_estimators=250, scale_pos_weight=24.7361702128, seed=1337, silent=1 \n",
      "[CV]  learning_rate=0.01, max_depth=5, min_child_weight=3, n_estimators=100, scale_pos_weight=24.7361702128, seed=1337, silent=1, total=  10.7s\n",
      "[CV] learning_rate=0.01, max_depth=5, min_child_weight=5, n_estimators=100, scale_pos_weight=24.7361702128, seed=1337, silent=1 \n",
      "[CV]  learning_rate=0.01, max_depth=5, min_child_weight=5, n_estimators=100, scale_pos_weight=24.7361702128, seed=1337, silent=1, total=   9.2s\n",
      "[CV] learning_rate=0.01, max_depth=5, min_child_weight=5, n_estimators=100, scale_pos_weight=24.7361702128, seed=1337, silent=1 \n",
      "[CV]  learning_rate=0.01, max_depth=5, min_child_weight=3, n_estimators=250, scale_pos_weight=24.7361702128, seed=1337, silent=1, total=  21.4s\n"
     ]
    },
    {
     "name": "stdout",
     "output_type": "stream",
     "text": [
      "[CV] learning_rate=0.01, max_depth=5, min_child_weight=5, n_estimators=100, scale_pos_weight=24.7361702128, seed=1337, silent=1 \n",
      "[CV]  learning_rate=0.01, max_depth=5, min_child_weight=3, n_estimators=250, scale_pos_weight=24.7361702128, seed=1337, silent=1, total=  24.2s\n",
      "[CV] learning_rate=0.01, max_depth=5, min_child_weight=5, n_estimators=100, scale_pos_weight=24.7361702128, seed=1337, silent=1 \n",
      "[CV]  learning_rate=0.01, max_depth=5, min_child_weight=3, n_estimators=250, scale_pos_weight=24.7361702128, seed=1337, silent=1, total=  23.8s\n",
      "[CV] learning_rate=0.01, max_depth=5, min_child_weight=5, n_estimators=250, scale_pos_weight=24.7361702128, seed=1337, silent=1 \n",
      "[CV]  learning_rate=0.01, max_depth=5, min_child_weight=3, n_estimators=250, scale_pos_weight=24.7361702128, seed=1337, silent=1, total=  20.4s\n",
      "[CV] learning_rate=0.01, max_depth=5, min_child_weight=5, n_estimators=250, scale_pos_weight=24.7361702128, seed=1337, silent=1 \n",
      "[CV]  learning_rate=0.01, max_depth=5, min_child_weight=5, n_estimators=100, scale_pos_weight=24.7361702128, seed=1337, silent=1, total=   8.4s\n",
      "[CV] learning_rate=0.01, max_depth=5, min_child_weight=5, n_estimators=250, scale_pos_weight=24.7361702128, seed=1337, silent=1 \n",
      "[CV]  learning_rate=0.01, max_depth=5, min_child_weight=5, n_estimators=100, scale_pos_weight=24.7361702128, seed=1337, silent=1, total=   7.7s\n",
      "[CV] learning_rate=0.01, max_depth=5, min_child_weight=5, n_estimators=250, scale_pos_weight=24.7361702128, seed=1337, silent=1 \n",
      "[CV]  learning_rate=0.01, max_depth=5, min_child_weight=5, n_estimators=100, scale_pos_weight=24.7361702128, seed=1337, silent=1, total=   7.6s\n",
      "[CV] learning_rate=0.01, max_depth=6, min_child_weight=1, n_estimators=100, scale_pos_weight=24.7361702128, seed=1337, silent=1 \n",
      "[CV]  learning_rate=0.01, max_depth=6, min_child_weight=1, n_estimators=100, scale_pos_weight=24.7361702128, seed=1337, silent=1, total=  14.5s\n",
      "[CV] learning_rate=0.01, max_depth=6, min_child_weight=1, n_estimators=100, scale_pos_weight=24.7361702128, seed=1337, silent=1 \n",
      "[CV]  learning_rate=0.01, max_depth=5, min_child_weight=5, n_estimators=250, scale_pos_weight=24.7361702128, seed=1337, silent=1, total=  26.0s\n",
      "[CV] learning_rate=0.01, max_depth=6, min_child_weight=1, n_estimators=100, scale_pos_weight=24.7361702128, seed=1337, silent=1 \n",
      "[CV]  learning_rate=0.01, max_depth=5, min_child_weight=5, n_estimators=250, scale_pos_weight=24.7361702128, seed=1337, silent=1, total=  28.1s\n",
      "[CV] learning_rate=0.01, max_depth=6, min_child_weight=1, n_estimators=100, scale_pos_weight=24.7361702128, seed=1337, silent=1 \n",
      "[CV]  learning_rate=0.01, max_depth=5, min_child_weight=5, n_estimators=250, scale_pos_weight=24.7361702128, seed=1337, silent=1, total=  28.3s\n",
      "[CV] learning_rate=0.01, max_depth=6, min_child_weight=1, n_estimators=250, scale_pos_weight=24.7361702128, seed=1337, silent=1 \n",
      "[CV]  learning_rate=0.01, max_depth=5, min_child_weight=5, n_estimators=250, scale_pos_weight=24.7361702128, seed=1337, silent=1, total=  26.0s\n",
      "[CV] learning_rate=0.01, max_depth=6, min_child_weight=1, n_estimators=250, scale_pos_weight=24.7361702128, seed=1337, silent=1 \n",
      "[CV]  learning_rate=0.01, max_depth=6, min_child_weight=1, n_estimators=100, scale_pos_weight=24.7361702128, seed=1337, silent=1, total=  10.6s\n",
      "[CV] learning_rate=0.01, max_depth=6, min_child_weight=1, n_estimators=250, scale_pos_weight=24.7361702128, seed=1337, silent=1 \n",
      "[CV]  learning_rate=0.01, max_depth=6, min_child_weight=1, n_estimators=100, scale_pos_weight=24.7361702128, seed=1337, silent=1, total=   8.9s\n",
      "[CV] learning_rate=0.01, max_depth=6, min_child_weight=1, n_estimators=250, scale_pos_weight=24.7361702128, seed=1337, silent=1 \n",
      "[CV]  learning_rate=0.01, max_depth=6, min_child_weight=1, n_estimators=100, scale_pos_weight=24.7361702128, seed=1337, silent=1, total=   8.7s\n",
      "[CV] learning_rate=0.01, max_depth=6, min_child_weight=3, n_estimators=100, scale_pos_weight=24.7361702128, seed=1337, silent=1 \n",
      "[CV]  learning_rate=0.01, max_depth=6, min_child_weight=3, n_estimators=100, scale_pos_weight=24.7361702128, seed=1337, silent=1, total=   7.4s\n",
      "[CV] learning_rate=0.01, max_depth=6, min_child_weight=3, n_estimators=100, scale_pos_weight=24.7361702128, seed=1337, silent=1 \n",
      "[CV]  learning_rate=0.01, max_depth=6, min_child_weight=1, n_estimators=250, scale_pos_weight=24.7361702128, seed=1337, silent=1, total=  17.8s\n",
      "[CV] learning_rate=0.01, max_depth=6, min_child_weight=3, n_estimators=100, scale_pos_weight=24.7361702128, seed=1337, silent=1 \n",
      "[CV]  learning_rate=0.01, max_depth=6, min_child_weight=1, n_estimators=250, scale_pos_weight=24.7361702128, seed=1337, silent=1, total=  21.0s\n",
      "[CV] learning_rate=0.01, max_depth=6, min_child_weight=3, n_estimators=100, scale_pos_weight=24.7361702128, seed=1337, silent=1 \n",
      "[CV]  learning_rate=0.01, max_depth=6, min_child_weight=3, n_estimators=100, scale_pos_weight=24.7361702128, seed=1337, silent=1, total=   7.4s\n",
      "[CV] learning_rate=0.01, max_depth=6, min_child_weight=3, n_estimators=250, scale_pos_weight=24.7361702128, seed=1337, silent=1 \n",
      "[CV]  learning_rate=0.01, max_depth=6, min_child_weight=1, n_estimators=250, scale_pos_weight=24.7361702128, seed=1337, silent=1, total=  20.5s\n",
      "[CV] learning_rate=0.01, max_depth=6, min_child_weight=3, n_estimators=250, scale_pos_weight=24.7361702128, seed=1337, silent=1 \n",
      "[CV]  learning_rate=0.01, max_depth=6, min_child_weight=1, n_estimators=250, scale_pos_weight=24.7361702128, seed=1337, silent=1, total=  17.0s\n",
      "[CV] learning_rate=0.01, max_depth=6, min_child_weight=3, n_estimators=250, scale_pos_weight=24.7361702128, seed=1337, silent=1 \n",
      "[CV]  learning_rate=0.01, max_depth=6, min_child_weight=3, n_estimators=100, scale_pos_weight=24.7361702128, seed=1337, silent=1, total=   7.2s\n",
      "[CV] learning_rate=0.01, max_depth=6, min_child_weight=3, n_estimators=250, scale_pos_weight=24.7361702128, seed=1337, silent=1 \n",
      "[CV]  learning_rate=0.01, max_depth=6, min_child_weight=3, n_estimators=100, scale_pos_weight=24.7361702128, seed=1337, silent=1, total=   7.3s\n",
      "[CV] learning_rate=0.01, max_depth=6, min_child_weight=5, n_estimators=100, scale_pos_weight=24.7361702128, seed=1337, silent=1 \n",
      "[CV]  learning_rate=0.01, max_depth=6, min_child_weight=5, n_estimators=100, scale_pos_weight=24.7361702128, seed=1337, silent=1, total=   7.9s\n",
      "[CV] learning_rate=0.01, max_depth=6, min_child_weight=5, n_estimators=100, scale_pos_weight=24.7361702128, seed=1337, silent=1 \n",
      "[CV]  learning_rate=0.01, max_depth=6, min_child_weight=3, n_estimators=250, scale_pos_weight=24.7361702128, seed=1337, silent=1, total=  17.7s\n",
      "[CV] learning_rate=0.01, max_depth=6, min_child_weight=5, n_estimators=100, scale_pos_weight=24.7361702128, seed=1337, silent=1 \n",
      "[CV]  learning_rate=0.01, max_depth=6, min_child_weight=3, n_estimators=250, scale_pos_weight=24.7361702128, seed=1337, silent=1, total=  20.1s\n",
      "[CV] learning_rate=0.01, max_depth=6, min_child_weight=5, n_estimators=100, scale_pos_weight=24.7361702128, seed=1337, silent=1 \n",
      "[CV]  learning_rate=0.01, max_depth=6, min_child_weight=3, n_estimators=250, scale_pos_weight=24.7361702128, seed=1337, silent=1, total=  20.1s\n",
      "[CV] learning_rate=0.01, max_depth=6, min_child_weight=5, n_estimators=250, scale_pos_weight=24.7361702128, seed=1337, silent=1 \n",
      "[CV]  learning_rate=0.01, max_depth=6, min_child_weight=5, n_estimators=100, scale_pos_weight=24.7361702128, seed=1337, silent=1, total=   7.7s\n",
      "[CV] learning_rate=0.01, max_depth=6, min_child_weight=5, n_estimators=250, scale_pos_weight=24.7361702128, seed=1337, silent=1 \n",
      "[CV]  learning_rate=0.01, max_depth=6, min_child_weight=3, n_estimators=250, scale_pos_weight=24.7361702128, seed=1337, silent=1, total=  17.7s\n",
      "[CV] learning_rate=0.01, max_depth=6, min_child_weight=5, n_estimators=250, scale_pos_weight=24.7361702128, seed=1337, silent=1 \n",
      "[CV]  learning_rate=0.01, max_depth=6, min_child_weight=5, n_estimators=100, scale_pos_weight=24.7361702128, seed=1337, silent=1, total=   7.5s\n",
      "[CV] learning_rate=0.01, max_depth=6, min_child_weight=5, n_estimators=250, scale_pos_weight=24.7361702128, seed=1337, silent=1 \n",
      "[CV]  learning_rate=0.01, max_depth=6, min_child_weight=5, n_estimators=100, scale_pos_weight=24.7361702128, seed=1337, silent=1, total=   7.4s\n",
      "[CV] learning_rate=0.05, max_depth=3, min_child_weight=1, n_estimators=100, scale_pos_weight=24.7361702128, seed=1337, silent=1 \n"
     ]
    },
    {
     "name": "stdout",
     "output_type": "stream",
     "text": [
      "[CV]  learning_rate=0.05, max_depth=3, min_child_weight=1, n_estimators=100, scale_pos_weight=24.7361702128, seed=1337, silent=1, total=   5.3s\n",
      "[CV] learning_rate=0.05, max_depth=3, min_child_weight=1, n_estimators=100, scale_pos_weight=24.7361702128, seed=1337, silent=1 \n",
      "[CV]  learning_rate=0.05, max_depth=3, min_child_weight=1, n_estimators=100, scale_pos_weight=24.7361702128, seed=1337, silent=1, total=   5.2s\n",
      "[CV] learning_rate=0.05, max_depth=3, min_child_weight=1, n_estimators=100, scale_pos_weight=24.7361702128, seed=1337, silent=1 \n",
      "[CV]  learning_rate=0.01, max_depth=6, min_child_weight=5, n_estimators=250, scale_pos_weight=24.7361702128, seed=1337, silent=1, total=  19.3s\n",
      "[CV] learning_rate=0.05, max_depth=3, min_child_weight=1, n_estimators=100, scale_pos_weight=24.7361702128, seed=1337, silent=1 \n",
      "[CV]  learning_rate=0.01, max_depth=6, min_child_weight=5, n_estimators=250, scale_pos_weight=24.7361702128, seed=1337, silent=1, total=  21.4s\n",
      "[CV] learning_rate=0.05, max_depth=3, min_child_weight=1, n_estimators=250, scale_pos_weight=24.7361702128, seed=1337, silent=1 \n",
      "[CV]  learning_rate=0.01, max_depth=6, min_child_weight=5, n_estimators=250, scale_pos_weight=24.7361702128, seed=1337, silent=1, total=  21.6s\n",
      "[CV] learning_rate=0.05, max_depth=3, min_child_weight=1, n_estimators=250, scale_pos_weight=24.7361702128, seed=1337, silent=1 \n",
      "[CV]  learning_rate=0.05, max_depth=3, min_child_weight=1, n_estimators=100, scale_pos_weight=24.7361702128, seed=1337, silent=1, total=   4.8s\n",
      "[CV] learning_rate=0.05, max_depth=3, min_child_weight=1, n_estimators=250, scale_pos_weight=24.7361702128, seed=1337, silent=1 \n",
      "[CV]  learning_rate=0.01, max_depth=6, min_child_weight=5, n_estimators=250, scale_pos_weight=24.7361702128, seed=1337, silent=1, total=  19.4s\n",
      "[CV] learning_rate=0.05, max_depth=3, min_child_weight=1, n_estimators=250, scale_pos_weight=24.7361702128, seed=1337, silent=1 \n",
      "[CV]  learning_rate=0.05, max_depth=3, min_child_weight=1, n_estimators=100, scale_pos_weight=24.7361702128, seed=1337, silent=1, total=   4.8s\n",
      "[CV] learning_rate=0.05, max_depth=3, min_child_weight=3, n_estimators=100, scale_pos_weight=24.7361702128, seed=1337, silent=1 \n",
      "[CV]  learning_rate=0.05, max_depth=3, min_child_weight=3, n_estimators=100, scale_pos_weight=24.7361702128, seed=1337, silent=1, total=   5.0s\n",
      "[CV] learning_rate=0.05, max_depth=3, min_child_weight=3, n_estimators=100, scale_pos_weight=24.7361702128, seed=1337, silent=1 \n",
      "[CV]  learning_rate=0.05, max_depth=3, min_child_weight=1, n_estimators=250, scale_pos_weight=24.7361702128, seed=1337, silent=1, total=  12.1s\n",
      "[CV] learning_rate=0.05, max_depth=3, min_child_weight=3, n_estimators=100, scale_pos_weight=24.7361702128, seed=1337, silent=1 \n",
      "[CV]  learning_rate=0.05, max_depth=3, min_child_weight=1, n_estimators=250, scale_pos_weight=24.7361702128, seed=1337, silent=1, total=  12.2s\n",
      "[CV]  learning_rate=0.05, max_depth=3, min_child_weight=1, n_estimators=250, scale_pos_weight=24.7361702128, seed=1337, silent=1, total=  12.1s\n",
      "[CV] learning_rate=0.05, max_depth=3, min_child_weight=3, n_estimators=100, scale_pos_weight=24.7361702128, seed=1337, silent=1 \n",
      "[CV] learning_rate=0.05, max_depth=3, min_child_weight=3, n_estimators=250, scale_pos_weight=24.7361702128, seed=1337, silent=1 \n",
      "[CV]  learning_rate=0.05, max_depth=3, min_child_weight=3, n_estimators=100, scale_pos_weight=24.7361702128, seed=1337, silent=1, total=   4.8s\n",
      "[CV] learning_rate=0.05, max_depth=3, min_child_weight=3, n_estimators=250, scale_pos_weight=24.7361702128, seed=1337, silent=1 \n",
      "[CV]  learning_rate=0.05, max_depth=3, min_child_weight=1, n_estimators=250, scale_pos_weight=24.7361702128, seed=1337, silent=1, total=  12.1s\n",
      "[CV] learning_rate=0.05, max_depth=3, min_child_weight=3, n_estimators=250, scale_pos_weight=24.7361702128, seed=1337, silent=1 \n",
      "[CV]  learning_rate=0.05, max_depth=3, min_child_weight=3, n_estimators=100, scale_pos_weight=24.7361702128, seed=1337, silent=1, total=   5.0s\n",
      "[CV] learning_rate=0.05, max_depth=3, min_child_weight=3, n_estimators=250, scale_pos_weight=24.7361702128, seed=1337, silent=1 \n",
      "[CV]  learning_rate=0.05, max_depth=3, min_child_weight=3, n_estimators=100, scale_pos_weight=24.7361702128, seed=1337, silent=1, total=   4.9s\n",
      "[CV] learning_rate=0.05, max_depth=3, min_child_weight=5, n_estimators=100, scale_pos_weight=24.7361702128, seed=1337, silent=1 \n",
      "[CV]  learning_rate=0.05, max_depth=3, min_child_weight=5, n_estimators=100, scale_pos_weight=24.7361702128, seed=1337, silent=1, total=   4.7s\n",
      "[CV] learning_rate=0.05, max_depth=3, min_child_weight=5, n_estimators=100, scale_pos_weight=24.7361702128, seed=1337, silent=1 \n",
      "[CV]  learning_rate=0.05, max_depth=3, min_child_weight=3, n_estimators=250, scale_pos_weight=24.7361702128, seed=1337, silent=1, total=  12.0s\n",
      "[CV] learning_rate=0.05, max_depth=3, min_child_weight=5, n_estimators=100, scale_pos_weight=24.7361702128, seed=1337, silent=1 \n",
      "[CV]  learning_rate=0.05, max_depth=3, min_child_weight=3, n_estimators=250, scale_pos_weight=24.7361702128, seed=1337, silent=1, total=  12.1s\n",
      "[CV] learning_rate=0.05, max_depth=3, min_child_weight=5, n_estimators=100, scale_pos_weight=24.7361702128, seed=1337, silent=1 \n",
      "[CV]  learning_rate=0.05, max_depth=3, min_child_weight=5, n_estimators=100, scale_pos_weight=24.7361702128, seed=1337, silent=1, total=   5.1s\n",
      "[CV] learning_rate=0.05, max_depth=3, min_child_weight=5, n_estimators=250, scale_pos_weight=24.7361702128, seed=1337, silent=1 \n",
      "[CV]  learning_rate=0.05, max_depth=3, min_child_weight=3, n_estimators=250, scale_pos_weight=24.7361702128, seed=1337, silent=1, total=  12.1s\n",
      "[CV] learning_rate=0.05, max_depth=3, min_child_weight=5, n_estimators=250, scale_pos_weight=24.7361702128, seed=1337, silent=1 \n",
      "[CV]  learning_rate=0.05, max_depth=3, min_child_weight=3, n_estimators=250, scale_pos_weight=24.7361702128, seed=1337, silent=1, total=  12.3s\n",
      "[CV] learning_rate=0.05, max_depth=3, min_child_weight=5, n_estimators=250, scale_pos_weight=24.7361702128, seed=1337, silent=1 \n",
      "[CV]  learning_rate=0.05, max_depth=3, min_child_weight=5, n_estimators=100, scale_pos_weight=24.7361702128, seed=1337, silent=1, total=   5.4s\n",
      "[CV] learning_rate=0.05, max_depth=3, min_child_weight=5, n_estimators=250, scale_pos_weight=24.7361702128, seed=1337, silent=1 \n",
      "[CV]  learning_rate=0.05, max_depth=3, min_child_weight=5, n_estimators=100, scale_pos_weight=24.7361702128, seed=1337, silent=1, total=   5.3s\n",
      "[CV] learning_rate=0.05, max_depth=4, min_child_weight=1, n_estimators=100, scale_pos_weight=24.7361702128, seed=1337, silent=1 \n",
      "[CV]  learning_rate=0.05, max_depth=4, min_child_weight=1, n_estimators=100, scale_pos_weight=24.7361702128, seed=1337, silent=1, total=   5.7s\n",
      "[CV] learning_rate=0.05, max_depth=4, min_child_weight=1, n_estimators=100, scale_pos_weight=24.7361702128, seed=1337, silent=1 \n",
      "[CV]  learning_rate=0.05, max_depth=3, min_child_weight=5, n_estimators=250, scale_pos_weight=24.7361702128, seed=1337, silent=1, total=  11.8s\n",
      "[CV] learning_rate=0.05, max_depth=4, min_child_weight=1, n_estimators=100, scale_pos_weight=24.7361702128, seed=1337, silent=1 \n",
      "[CV]  learning_rate=0.05, max_depth=3, min_child_weight=5, n_estimators=250, scale_pos_weight=24.7361702128, seed=1337, silent=1, total=  11.7s\n",
      "[CV] learning_rate=0.05, max_depth=4, min_child_weight=1, n_estimators=100, scale_pos_weight=24.7361702128, seed=1337, silent=1 \n",
      "[CV]  learning_rate=0.05, max_depth=3, min_child_weight=5, n_estimators=250, scale_pos_weight=24.7361702128, seed=1337, silent=1, total=  11.3s\n",
      "[CV] learning_rate=0.05, max_depth=4, min_child_weight=1, n_estimators=250, scale_pos_weight=24.7361702128, seed=1337, silent=1 \n",
      "[CV]  learning_rate=0.05, max_depth=3, min_child_weight=5, n_estimators=250, scale_pos_weight=24.7361702128, seed=1337, silent=1, total=  11.1s\n",
      "[CV] learning_rate=0.05, max_depth=4, min_child_weight=1, n_estimators=250, scale_pos_weight=24.7361702128, seed=1337, silent=1 \n",
      "[CV]  learning_rate=0.05, max_depth=4, min_child_weight=1, n_estimators=100, scale_pos_weight=24.7361702128, seed=1337, silent=1, total=   5.8s\n",
      "[CV] learning_rate=0.05, max_depth=4, min_child_weight=1, n_estimators=250, scale_pos_weight=24.7361702128, seed=1337, silent=1 \n",
      "[CV]  learning_rate=0.05, max_depth=4, min_child_weight=1, n_estimators=100, scale_pos_weight=24.7361702128, seed=1337, silent=1, total=   5.8s\n"
     ]
    },
    {
     "name": "stdout",
     "output_type": "stream",
     "text": [
      "[CV] learning_rate=0.05, max_depth=4, min_child_weight=1, n_estimators=250, scale_pos_weight=24.7361702128, seed=1337, silent=1 \n",
      "[CV]  learning_rate=0.05, max_depth=4, min_child_weight=1, n_estimators=100, scale_pos_weight=24.7361702128, seed=1337, silent=1, total=   5.9s\n",
      "[CV] learning_rate=0.05, max_depth=4, min_child_weight=3, n_estimators=100, scale_pos_weight=24.7361702128, seed=1337, silent=1 \n",
      "[CV]  learning_rate=0.05, max_depth=4, min_child_weight=3, n_estimators=100, scale_pos_weight=24.7361702128, seed=1337, silent=1, total=   6.1s\n",
      "[CV] learning_rate=0.05, max_depth=4, min_child_weight=3, n_estimators=100, scale_pos_weight=24.7361702128, seed=1337, silent=1 \n",
      "[CV]  learning_rate=0.05, max_depth=4, min_child_weight=1, n_estimators=250, scale_pos_weight=24.7361702128, seed=1337, silent=1, total=  15.6s\n",
      "[CV] learning_rate=0.05, max_depth=4, min_child_weight=3, n_estimators=100, scale_pos_weight=24.7361702128, seed=1337, silent=1 \n",
      "[CV]  learning_rate=0.05, max_depth=4, min_child_weight=1, n_estimators=250, scale_pos_weight=24.7361702128, seed=1337, silent=1, total=  15.3s\n",
      "[CV] learning_rate=0.05, max_depth=4, min_child_weight=3, n_estimators=100, scale_pos_weight=24.7361702128, seed=1337, silent=1 \n",
      "[CV]  learning_rate=0.05, max_depth=4, min_child_weight=3, n_estimators=100, scale_pos_weight=24.7361702128, seed=1337, silent=1, total=   6.3s\n",
      "[CV] learning_rate=0.05, max_depth=4, min_child_weight=3, n_estimators=250, scale_pos_weight=24.7361702128, seed=1337, silent=1 \n",
      "[CV]  learning_rate=0.05, max_depth=4, min_child_weight=1, n_estimators=250, scale_pos_weight=24.7361702128, seed=1337, silent=1, total=  15.6s\n",
      "[CV] learning_rate=0.05, max_depth=4, min_child_weight=3, n_estimators=250, scale_pos_weight=24.7361702128, seed=1337, silent=1 \n",
      "[CV]  learning_rate=0.05, max_depth=4, min_child_weight=1, n_estimators=250, scale_pos_weight=24.7361702128, seed=1337, silent=1, total=  15.4s\n",
      "[CV] learning_rate=0.05, max_depth=4, min_child_weight=3, n_estimators=250, scale_pos_weight=24.7361702128, seed=1337, silent=1 \n",
      "[CV]  learning_rate=0.05, max_depth=4, min_child_weight=3, n_estimators=100, scale_pos_weight=24.7361702128, seed=1337, silent=1, total=   6.1s\n",
      "[CV] learning_rate=0.05, max_depth=4, min_child_weight=3, n_estimators=250, scale_pos_weight=24.7361702128, seed=1337, silent=1 \n",
      "[CV]  learning_rate=0.05, max_depth=4, min_child_weight=3, n_estimators=100, scale_pos_weight=24.7361702128, seed=1337, silent=1, total=   6.1s\n",
      "[CV] learning_rate=0.05, max_depth=4, min_child_weight=5, n_estimators=100, scale_pos_weight=24.7361702128, seed=1337, silent=1 \n",
      "[CV]  learning_rate=0.05, max_depth=4, min_child_weight=5, n_estimators=100, scale_pos_weight=24.7361702128, seed=1337, silent=1, total=   6.1s\n",
      "[CV] learning_rate=0.05, max_depth=4, min_child_weight=5, n_estimators=100, scale_pos_weight=24.7361702128, seed=1337, silent=1 \n",
      "[CV]  learning_rate=0.05, max_depth=4, min_child_weight=3, n_estimators=250, scale_pos_weight=24.7361702128, seed=1337, silent=1, total=  15.5s\n",
      "[CV] learning_rate=0.05, max_depth=4, min_child_weight=5, n_estimators=100, scale_pos_weight=24.7361702128, seed=1337, silent=1 \n",
      "[CV]  learning_rate=0.05, max_depth=4, min_child_weight=3, n_estimators=250, scale_pos_weight=24.7361702128, seed=1337, silent=1, total=  15.5s\n",
      "[CV] learning_rate=0.05, max_depth=4, min_child_weight=5, n_estimators=100, scale_pos_weight=24.7361702128, seed=1337, silent=1 \n",
      "[CV]  learning_rate=0.05, max_depth=4, min_child_weight=5, n_estimators=100, scale_pos_weight=24.7361702128, seed=1337, silent=1, total=   6.2s\n",
      "[CV] learning_rate=0.05, max_depth=4, min_child_weight=5, n_estimators=250, scale_pos_weight=24.7361702128, seed=1337, silent=1 \n",
      "[CV]  learning_rate=0.05, max_depth=4, min_child_weight=3, n_estimators=250, scale_pos_weight=24.7361702128, seed=1337, silent=1, total=  15.3s\n",
      "[CV] learning_rate=0.05, max_depth=4, min_child_weight=5, n_estimators=250, scale_pos_weight=24.7361702128, seed=1337, silent=1 \n",
      "[CV]  learning_rate=0.05, max_depth=4, min_child_weight=3, n_estimators=250, scale_pos_weight=24.7361702128, seed=1337, silent=1, total=  15.1s\n",
      "[CV] learning_rate=0.05, max_depth=4, min_child_weight=5, n_estimators=250, scale_pos_weight=24.7361702128, seed=1337, silent=1 \n",
      "[CV]  learning_rate=0.05, max_depth=4, min_child_weight=5, n_estimators=100, scale_pos_weight=24.7361702128, seed=1337, silent=1, total=   6.0s\n",
      "[CV] learning_rate=0.05, max_depth=4, min_child_weight=5, n_estimators=250, scale_pos_weight=24.7361702128, seed=1337, silent=1 \n",
      "[CV]  learning_rate=0.05, max_depth=4, min_child_weight=5, n_estimators=100, scale_pos_weight=24.7361702128, seed=1337, silent=1, total=   6.0s\n",
      "[CV] learning_rate=0.05, max_depth=5, min_child_weight=1, n_estimators=100, scale_pos_weight=24.7361702128, seed=1337, silent=1 \n",
      "[CV]  learning_rate=0.05, max_depth=5, min_child_weight=1, n_estimators=100, scale_pos_weight=24.7361702128, seed=1337, silent=1, total=   7.9s\n",
      "[CV] learning_rate=0.05, max_depth=5, min_child_weight=1, n_estimators=100, scale_pos_weight=24.7361702128, seed=1337, silent=1 \n",
      "[CV]  learning_rate=0.05, max_depth=4, min_child_weight=5, n_estimators=250, scale_pos_weight=24.7361702128, seed=1337, silent=1, total=  15.7s\n",
      "[CV] learning_rate=0.05, max_depth=5, min_child_weight=1, n_estimators=100, scale_pos_weight=24.7361702128, seed=1337, silent=1 \n",
      "[CV]  learning_rate=0.05, max_depth=4, min_child_weight=5, n_estimators=250, scale_pos_weight=24.7361702128, seed=1337, silent=1, total=  15.9s\n",
      "[CV] learning_rate=0.05, max_depth=5, min_child_weight=1, n_estimators=100, scale_pos_weight=24.7361702128, seed=1337, silent=1 \n",
      "[CV]  learning_rate=0.05, max_depth=4, min_child_weight=5, n_estimators=250, scale_pos_weight=24.7361702128, seed=1337, silent=1, total=  15.8s\n",
      "[CV] learning_rate=0.05, max_depth=5, min_child_weight=1, n_estimators=250, scale_pos_weight=24.7361702128, seed=1337, silent=1 \n",
      "[CV]  learning_rate=0.05, max_depth=4, min_child_weight=5, n_estimators=250, scale_pos_weight=24.7361702128, seed=1337, silent=1, total=  17.0s\n",
      "[CV] learning_rate=0.05, max_depth=5, min_child_weight=1, n_estimators=250, scale_pos_weight=24.7361702128, seed=1337, silent=1 \n",
      "[CV]  learning_rate=0.05, max_depth=5, min_child_weight=1, n_estimators=100, scale_pos_weight=24.7361702128, seed=1337, silent=1, total=   9.1s\n",
      "[CV] learning_rate=0.05, max_depth=5, min_child_weight=1, n_estimators=250, scale_pos_weight=24.7361702128, seed=1337, silent=1 \n",
      "[CV]  learning_rate=0.05, max_depth=5, min_child_weight=1, n_estimators=100, scale_pos_weight=24.7361702128, seed=1337, silent=1, total=   9.0s\n",
      "[CV] learning_rate=0.05, max_depth=5, min_child_weight=1, n_estimators=250, scale_pos_weight=24.7361702128, seed=1337, silent=1 \n",
      "[CV]  learning_rate=0.05, max_depth=5, min_child_weight=1, n_estimators=100, scale_pos_weight=24.7361702128, seed=1337, silent=1, total=   8.8s\n",
      "[CV] learning_rate=0.05, max_depth=5, min_child_weight=3, n_estimators=100, scale_pos_weight=24.7361702128, seed=1337, silent=1 \n",
      "[CV]  learning_rate=0.05, max_depth=5, min_child_weight=3, n_estimators=100, scale_pos_weight=24.7361702128, seed=1337, silent=1, total=   8.0s\n",
      "[CV] learning_rate=0.05, max_depth=5, min_child_weight=3, n_estimators=100, scale_pos_weight=24.7361702128, seed=1337, silent=1 \n",
      "[CV]  learning_rate=0.05, max_depth=5, min_child_weight=1, n_estimators=250, scale_pos_weight=24.7361702128, seed=1337, silent=1, total=  20.7s\n",
      "[CV] learning_rate=0.05, max_depth=5, min_child_weight=3, n_estimators=100, scale_pos_weight=24.7361702128, seed=1337, silent=1 \n",
      "[CV]  learning_rate=0.05, max_depth=5, min_child_weight=3, n_estimators=100, scale_pos_weight=24.7361702128, seed=1337, silent=1, total=   7.5s\n",
      "[CV] learning_rate=0.05, max_depth=5, min_child_weight=3, n_estimators=100, scale_pos_weight=24.7361702128, seed=1337, silent=1 \n",
      "[CV]  learning_rate=0.05, max_depth=5, min_child_weight=1, n_estimators=250, scale_pos_weight=24.7361702128, seed=1337, silent=1, total=  19.8s\n",
      "[CV] learning_rate=0.05, max_depth=5, min_child_weight=3, n_estimators=250, scale_pos_weight=24.7361702128, seed=1337, silent=1 \n"
     ]
    },
    {
     "name": "stderr",
     "output_type": "stream",
     "text": [
      "[Parallel(n_jobs=5)]: Done 152 tasks      | elapsed:  6.5min\n"
     ]
    },
    {
     "name": "stdout",
     "output_type": "stream",
     "text": [
      "[CV]  learning_rate=0.05, max_depth=5, min_child_weight=1, n_estimators=250, scale_pos_weight=24.7361702128, seed=1337, silent=1, total=  19.6s\n",
      "[CV] learning_rate=0.05, max_depth=5, min_child_weight=3, n_estimators=250, scale_pos_weight=24.7361702128, seed=1337, silent=1 \n",
      "[CV]  learning_rate=0.05, max_depth=5, min_child_weight=1, n_estimators=250, scale_pos_weight=24.7361702128, seed=1337, silent=1, total=  19.7s\n",
      "[CV] learning_rate=0.05, max_depth=5, min_child_weight=3, n_estimators=250, scale_pos_weight=24.7361702128, seed=1337, silent=1 \n",
      "[CV]  learning_rate=0.05, max_depth=5, min_child_weight=3, n_estimators=100, scale_pos_weight=24.7361702128, seed=1337, silent=1, total=   9.7s\n",
      "[CV] learning_rate=0.05, max_depth=5, min_child_weight=3, n_estimators=250, scale_pos_weight=24.7361702128, seed=1337, silent=1 \n",
      "[CV]  learning_rate=0.05, max_depth=5, min_child_weight=3, n_estimators=100, scale_pos_weight=24.7361702128, seed=1337, silent=1, total=   9.6s\n",
      "[CV] learning_rate=0.05, max_depth=5, min_child_weight=5, n_estimators=100, scale_pos_weight=24.7361702128, seed=1337, silent=1 \n",
      "[CV]  learning_rate=0.05, max_depth=5, min_child_weight=5, n_estimators=100, scale_pos_weight=24.7361702128, seed=1337, silent=1, total=  10.8s\n",
      "[CV] learning_rate=0.05, max_depth=5, min_child_weight=5, n_estimators=100, scale_pos_weight=24.7361702128, seed=1337, silent=1 \n",
      "[CV]  learning_rate=0.05, max_depth=5, min_child_weight=3, n_estimators=250, scale_pos_weight=24.7361702128, seed=1337, silent=1, total=  25.6s\n",
      "[CV]  learning_rate=0.05, max_depth=5, min_child_weight=3, n_estimators=250, scale_pos_weight=24.7361702128, seed=1337, silent=1, total=  25.2s\n",
      "[CV] learning_rate=0.05, max_depth=5, min_child_weight=5, n_estimators=100, scale_pos_weight=24.7361702128, seed=1337, silent=1 \n",
      "[CV] learning_rate=0.05, max_depth=5, min_child_weight=5, n_estimators=100, scale_pos_weight=24.7361702128, seed=1337, silent=1 \n",
      "[CV]  learning_rate=0.05, max_depth=5, min_child_weight=3, n_estimators=250, scale_pos_weight=24.7361702128, seed=1337, silent=1, total=  24.8s\n",
      "[CV] learning_rate=0.05, max_depth=5, min_child_weight=5, n_estimators=250, scale_pos_weight=24.7361702128, seed=1337, silent=1 \n",
      "[CV]  learning_rate=0.05, max_depth=5, min_child_weight=5, n_estimators=100, scale_pos_weight=24.7361702128, seed=1337, silent=1, total=   9.1s\n",
      "[CV] learning_rate=0.05, max_depth=5, min_child_weight=5, n_estimators=250, scale_pos_weight=24.7361702128, seed=1337, silent=1 \n",
      "[CV]  learning_rate=0.05, max_depth=5, min_child_weight=3, n_estimators=250, scale_pos_weight=24.7361702128, seed=1337, silent=1, total=  23.2s\n",
      "[CV] learning_rate=0.05, max_depth=5, min_child_weight=5, n_estimators=250, scale_pos_weight=24.7361702128, seed=1337, silent=1 \n",
      "[CV]  learning_rate=0.05, max_depth=5, min_child_weight=5, n_estimators=100, scale_pos_weight=24.7361702128, seed=1337, silent=1, total=   7.9s\n",
      "[CV] learning_rate=0.05, max_depth=5, min_child_weight=5, n_estimators=250, scale_pos_weight=24.7361702128, seed=1337, silent=1 \n",
      "[CV]  learning_rate=0.05, max_depth=5, min_child_weight=5, n_estimators=100, scale_pos_weight=24.7361702128, seed=1337, silent=1, total=   8.0s\n",
      "[CV] learning_rate=0.05, max_depth=6, min_child_weight=1, n_estimators=100, scale_pos_weight=24.7361702128, seed=1337, silent=1 \n",
      "[CV]  learning_rate=0.05, max_depth=6, min_child_weight=1, n_estimators=100, scale_pos_weight=24.7361702128, seed=1337, silent=1, total=   9.3s\n",
      "[CV] learning_rate=0.05, max_depth=6, min_child_weight=1, n_estimators=100, scale_pos_weight=24.7361702128, seed=1337, silent=1 \n",
      "[CV]  learning_rate=0.05, max_depth=5, min_child_weight=5, n_estimators=250, scale_pos_weight=24.7361702128, seed=1337, silent=1, total=  20.5s\n",
      "[CV] learning_rate=0.05, max_depth=6, min_child_weight=1, n_estimators=100, scale_pos_weight=24.7361702128, seed=1337, silent=1 \n",
      "[CV]  learning_rate=0.05, max_depth=5, min_child_weight=5, n_estimators=250, scale_pos_weight=24.7361702128, seed=1337, silent=1, total=  20.7s\n",
      "[CV] learning_rate=0.05, max_depth=6, min_child_weight=1, n_estimators=100, scale_pos_weight=24.7361702128, seed=1337, silent=1 \n",
      "[CV]  learning_rate=0.05, max_depth=5, min_child_weight=5, n_estimators=250, scale_pos_weight=24.7361702128, seed=1337, silent=1, total=  20.1s\n",
      "[CV] learning_rate=0.05, max_depth=6, min_child_weight=1, n_estimators=250, scale_pos_weight=24.7361702128, seed=1337, silent=1 \n",
      "[CV]  learning_rate=0.05, max_depth=6, min_child_weight=1, n_estimators=100, scale_pos_weight=24.7361702128, seed=1337, silent=1, total=   9.7s\n",
      "[CV] learning_rate=0.05, max_depth=6, min_child_weight=1, n_estimators=250, scale_pos_weight=24.7361702128, seed=1337, silent=1 \n",
      "[CV]  learning_rate=0.05, max_depth=5, min_child_weight=5, n_estimators=250, scale_pos_weight=24.7361702128, seed=1337, silent=1, total=  19.9s\n",
      "[CV] learning_rate=0.05, max_depth=6, min_child_weight=1, n_estimators=250, scale_pos_weight=24.7361702128, seed=1337, silent=1 \n",
      "[CV]  learning_rate=0.05, max_depth=6, min_child_weight=1, n_estimators=100, scale_pos_weight=24.7361702128, seed=1337, silent=1, total=   8.8s\n",
      "[CV] learning_rate=0.05, max_depth=6, min_child_weight=1, n_estimators=250, scale_pos_weight=24.7361702128, seed=1337, silent=1 \n",
      "[CV]  learning_rate=0.05, max_depth=6, min_child_weight=1, n_estimators=100, scale_pos_weight=24.7361702128, seed=1337, silent=1, total=   9.0s\n",
      "[CV] learning_rate=0.05, max_depth=6, min_child_weight=3, n_estimators=100, scale_pos_weight=24.7361702128, seed=1337, silent=1 \n",
      "[CV]  learning_rate=0.05, max_depth=6, min_child_weight=3, n_estimators=100, scale_pos_weight=24.7361702128, seed=1337, silent=1, total=   9.0s\n",
      "[CV] learning_rate=0.05, max_depth=6, min_child_weight=3, n_estimators=100, scale_pos_weight=24.7361702128, seed=1337, silent=1 \n",
      "[CV]  learning_rate=0.05, max_depth=6, min_child_weight=1, n_estimators=250, scale_pos_weight=24.7361702128, seed=1337, silent=1, total=  23.6s\n",
      "[CV] learning_rate=0.05, max_depth=6, min_child_weight=3, n_estimators=100, scale_pos_weight=24.7361702128, seed=1337, silent=1 \n",
      "[CV]  learning_rate=0.05, max_depth=6, min_child_weight=1, n_estimators=250, scale_pos_weight=24.7361702128, seed=1337, silent=1, total=  22.0s\n",
      "[CV] learning_rate=0.05, max_depth=6, min_child_weight=3, n_estimators=100, scale_pos_weight=24.7361702128, seed=1337, silent=1 \n",
      "[CV]  learning_rate=0.05, max_depth=6, min_child_weight=1, n_estimators=250, scale_pos_weight=24.7361702128, seed=1337, silent=1, total=  23.1s\n",
      "[CV] learning_rate=0.05, max_depth=6, min_child_weight=3, n_estimators=250, scale_pos_weight=24.7361702128, seed=1337, silent=1 \n",
      "[CV]  learning_rate=0.05, max_depth=6, min_child_weight=3, n_estimators=100, scale_pos_weight=24.7361702128, seed=1337, silent=1, total=   8.4s\n",
      "[CV] learning_rate=0.05, max_depth=6, min_child_weight=3, n_estimators=250, scale_pos_weight=24.7361702128, seed=1337, silent=1 \n",
      "[CV]  learning_rate=0.05, max_depth=6, min_child_weight=1, n_estimators=250, scale_pos_weight=24.7361702128, seed=1337, silent=1, total=  21.4s\n",
      "[CV] learning_rate=0.05, max_depth=6, min_child_weight=3, n_estimators=250, scale_pos_weight=24.7361702128, seed=1337, silent=1 \n",
      "[CV]  learning_rate=0.05, max_depth=6, min_child_weight=3, n_estimators=100, scale_pos_weight=24.7361702128, seed=1337, silent=1, total=   7.4s\n",
      "[CV] learning_rate=0.05, max_depth=6, min_child_weight=3, n_estimators=250, scale_pos_weight=24.7361702128, seed=1337, silent=1 \n",
      "[CV]  learning_rate=0.05, max_depth=6, min_child_weight=3, n_estimators=100, scale_pos_weight=24.7361702128, seed=1337, silent=1, total=   7.8s\n",
      "[CV] learning_rate=0.05, max_depth=6, min_child_weight=5, n_estimators=100, scale_pos_weight=24.7361702128, seed=1337, silent=1 \n",
      "[CV]  learning_rate=0.05, max_depth=6, min_child_weight=5, n_estimators=100, scale_pos_weight=24.7361702128, seed=1337, silent=1, total=   8.9s\n",
      "[CV] learning_rate=0.05, max_depth=6, min_child_weight=5, n_estimators=100, scale_pos_weight=24.7361702128, seed=1337, silent=1 \n",
      "[CV]  learning_rate=0.05, max_depth=6, min_child_weight=3, n_estimators=250, scale_pos_weight=24.7361702128, seed=1337, silent=1, total=  22.7s\n",
      "[CV] learning_rate=0.05, max_depth=6, min_child_weight=5, n_estimators=100, scale_pos_weight=24.7361702128, seed=1337, silent=1 \n",
      "[CV]  learning_rate=0.05, max_depth=6, min_child_weight=3, n_estimators=250, scale_pos_weight=24.7361702128, seed=1337, silent=1, total=  22.7s\n"
     ]
    },
    {
     "name": "stdout",
     "output_type": "stream",
     "text": [
      "[CV] learning_rate=0.05, max_depth=6, min_child_weight=5, n_estimators=100, scale_pos_weight=24.7361702128, seed=1337, silent=1 \n",
      "[CV]  learning_rate=0.05, max_depth=6, min_child_weight=3, n_estimators=250, scale_pos_weight=24.7361702128, seed=1337, silent=1, total=  22.5s\n",
      "[CV] learning_rate=0.05, max_depth=6, min_child_weight=5, n_estimators=250, scale_pos_weight=24.7361702128, seed=1337, silent=1 \n",
      "[CV]  learning_rate=0.05, max_depth=6, min_child_weight=5, n_estimators=100, scale_pos_weight=24.7361702128, seed=1337, silent=1, total=   9.7s\n",
      "[CV] learning_rate=0.05, max_depth=6, min_child_weight=5, n_estimators=250, scale_pos_weight=24.7361702128, seed=1337, silent=1 \n",
      "[CV]  learning_rate=0.05, max_depth=6, min_child_weight=3, n_estimators=250, scale_pos_weight=24.7361702128, seed=1337, silent=1, total=  22.9s\n",
      "[CV] learning_rate=0.05, max_depth=6, min_child_weight=5, n_estimators=250, scale_pos_weight=24.7361702128, seed=1337, silent=1 \n",
      "[CV]  learning_rate=0.05, max_depth=6, min_child_weight=5, n_estimators=100, scale_pos_weight=24.7361702128, seed=1337, silent=1, total=   8.8s\n",
      "[CV] learning_rate=0.05, max_depth=6, min_child_weight=5, n_estimators=250, scale_pos_weight=24.7361702128, seed=1337, silent=1 \n",
      "[CV]  learning_rate=0.05, max_depth=6, min_child_weight=5, n_estimators=100, scale_pos_weight=24.7361702128, seed=1337, silent=1, total=   9.1s\n",
      "[CV]  learning_rate=0.05, max_depth=6, min_child_weight=5, n_estimators=250, scale_pos_weight=24.7361702128, seed=1337, silent=1, total=  25.5s\n",
      "[CV]  learning_rate=0.05, max_depth=6, min_child_weight=5, n_estimators=250, scale_pos_weight=24.7361702128, seed=1337, silent=1, total=  25.2s\n",
      "[CV]  learning_rate=0.05, max_depth=6, min_child_weight=5, n_estimators=250, scale_pos_weight=24.7361702128, seed=1337, silent=1, total=  24.0s\n",
      "[CV]  learning_rate=0.05, max_depth=6, min_child_weight=5, n_estimators=250, scale_pos_weight=24.7361702128, seed=1337, silent=1, total=  21.5s\n"
     ]
    },
    {
     "name": "stderr",
     "output_type": "stream",
     "text": [
      "[Parallel(n_jobs=5)]: Done 192 out of 192 | elapsed:  8.7min finished\n"
     ]
    },
    {
     "name": "stdout",
     "output_type": "stream",
     "text": [
      "Best parameters set found on development set:\n",
      "\n",
      "{'learning_rate': 0.05, 'max_depth': 5, 'min_child_weight': 3, 'n_estimators': 250, 'scale_pos_weight': 24.736170212765959, 'seed': 1337, 'silent': 1}\n",
      "\n",
      "Grid scores on development set:\n",
      "\n",
      "0.978 (+/-0.000) for {'learning_rate': 0.01, 'max_depth': 3, 'min_child_weight': 1, 'n_estimators': 100, 'scale_pos_weight': 24.736170212765959, 'seed': 1337, 'silent': 1}\n",
      "\n",
      "0.978 (+/-0.000) for {'learning_rate': 0.01, 'max_depth': 3, 'min_child_weight': 1, 'n_estimators': 250, 'scale_pos_weight': 24.736170212765959, 'seed': 1337, 'silent': 1}\n",
      "\n",
      "0.978 (+/-0.000) for {'learning_rate': 0.01, 'max_depth': 3, 'min_child_weight': 3, 'n_estimators': 100, 'scale_pos_weight': 24.736170212765959, 'seed': 1337, 'silent': 1}\n",
      "\n",
      "0.978 (+/-0.000) for {'learning_rate': 0.01, 'max_depth': 3, 'min_child_weight': 3, 'n_estimators': 250, 'scale_pos_weight': 24.736170212765959, 'seed': 1337, 'silent': 1}\n",
      "\n",
      "0.978 (+/-0.000) for {'learning_rate': 0.01, 'max_depth': 3, 'min_child_weight': 5, 'n_estimators': 100, 'scale_pos_weight': 24.736170212765959, 'seed': 1337, 'silent': 1}\n",
      "\n",
      "0.978 (+/-0.000) for {'learning_rate': 0.01, 'max_depth': 3, 'min_child_weight': 5, 'n_estimators': 250, 'scale_pos_weight': 24.736170212765959, 'seed': 1337, 'silent': 1}\n",
      "\n",
      "0.981 (+/-0.002) for {'learning_rate': 0.01, 'max_depth': 4, 'min_child_weight': 1, 'n_estimators': 100, 'scale_pos_weight': 24.736170212765959, 'seed': 1337, 'silent': 1}\n",
      "\n",
      "0.981 (+/-0.001) for {'learning_rate': 0.01, 'max_depth': 4, 'min_child_weight': 1, 'n_estimators': 250, 'scale_pos_weight': 24.736170212765959, 'seed': 1337, 'silent': 1}\n",
      "\n",
      "0.981 (+/-0.001) for {'learning_rate': 0.01, 'max_depth': 4, 'min_child_weight': 3, 'n_estimators': 100, 'scale_pos_weight': 24.736170212765959, 'seed': 1337, 'silent': 1}\n",
      "\n",
      "0.980 (+/-0.001) for {'learning_rate': 0.01, 'max_depth': 4, 'min_child_weight': 3, 'n_estimators': 250, 'scale_pos_weight': 24.736170212765959, 'seed': 1337, 'silent': 1}\n",
      "\n",
      "0.981 (+/-0.001) for {'learning_rate': 0.01, 'max_depth': 4, 'min_child_weight': 5, 'n_estimators': 100, 'scale_pos_weight': 24.736170212765959, 'seed': 1337, 'silent': 1}\n",
      "\n",
      "0.980 (+/-0.001) for {'learning_rate': 0.01, 'max_depth': 4, 'min_child_weight': 5, 'n_estimators': 250, 'scale_pos_weight': 24.736170212765959, 'seed': 1337, 'silent': 1}\n",
      "\n",
      "0.983 (+/-0.002) for {'learning_rate': 0.01, 'max_depth': 5, 'min_child_weight': 1, 'n_estimators': 100, 'scale_pos_weight': 24.736170212765959, 'seed': 1337, 'silent': 1}\n",
      "\n",
      "0.983 (+/-0.002) for {'learning_rate': 0.01, 'max_depth': 5, 'min_child_weight': 1, 'n_estimators': 250, 'scale_pos_weight': 24.736170212765959, 'seed': 1337, 'silent': 1}\n",
      "\n",
      "0.983 (+/-0.001) for {'learning_rate': 0.01, 'max_depth': 5, 'min_child_weight': 3, 'n_estimators': 100, 'scale_pos_weight': 24.736170212765959, 'seed': 1337, 'silent': 1}\n",
      "\n",
      "0.983 (+/-0.001) for {'learning_rate': 0.01, 'max_depth': 5, 'min_child_weight': 3, 'n_estimators': 250, 'scale_pos_weight': 24.736170212765959, 'seed': 1337, 'silent': 1}\n",
      "\n",
      "0.983 (+/-0.001) for {'learning_rate': 0.01, 'max_depth': 5, 'min_child_weight': 5, 'n_estimators': 100, 'scale_pos_weight': 24.736170212765959, 'seed': 1337, 'silent': 1}\n",
      "\n",
      "0.983 (+/-0.001) for {'learning_rate': 0.01, 'max_depth': 5, 'min_child_weight': 5, 'n_estimators': 250, 'scale_pos_weight': 24.736170212765959, 'seed': 1337, 'silent': 1}\n",
      "\n",
      "0.984 (+/-0.001) for {'learning_rate': 0.01, 'max_depth': 6, 'min_child_weight': 1, 'n_estimators': 100, 'scale_pos_weight': 24.736170212765959, 'seed': 1337, 'silent': 1}\n",
      "\n",
      "0.984 (+/-0.002) for {'learning_rate': 0.01, 'max_depth': 6, 'min_child_weight': 1, 'n_estimators': 250, 'scale_pos_weight': 24.736170212765959, 'seed': 1337, 'silent': 1}\n",
      "\n",
      "0.984 (+/-0.001) for {'learning_rate': 0.01, 'max_depth': 6, 'min_child_weight': 3, 'n_estimators': 100, 'scale_pos_weight': 24.736170212765959, 'seed': 1337, 'silent': 1}\n",
      "\n",
      "0.985 (+/-0.001) for {'learning_rate': 0.01, 'max_depth': 6, 'min_child_weight': 3, 'n_estimators': 250, 'scale_pos_weight': 24.736170212765959, 'seed': 1337, 'silent': 1}\n",
      "\n",
      "0.984 (+/-0.001) for {'learning_rate': 0.01, 'max_depth': 6, 'min_child_weight': 5, 'n_estimators': 100, 'scale_pos_weight': 24.736170212765959, 'seed': 1337, 'silent': 1}\n",
      "\n",
      "0.985 (+/-0.001) for {'learning_rate': 0.01, 'max_depth': 6, 'min_child_weight': 5, 'n_estimators': 250, 'scale_pos_weight': 24.736170212765959, 'seed': 1337, 'silent': 1}\n",
      "\n",
      "0.981 (+/-0.000) for {'learning_rate': 0.05, 'max_depth': 3, 'min_child_weight': 1, 'n_estimators': 100, 'scale_pos_weight': 24.736170212765959, 'seed': 1337, 'silent': 1}\n",
      "\n",
      "0.989 (+/-0.001) for {'learning_rate': 0.05, 'max_depth': 3, 'min_child_weight': 1, 'n_estimators': 250, 'scale_pos_weight': 24.736170212765959, 'seed': 1337, 'silent': 1}\n",
      "\n",
      "0.981 (+/-0.000) for {'learning_rate': 0.05, 'max_depth': 3, 'min_child_weight': 3, 'n_estimators': 100, 'scale_pos_weight': 24.736170212765959, 'seed': 1337, 'silent': 1}\n",
      "\n",
      "0.988 (+/-0.000) for {'learning_rate': 0.05, 'max_depth': 3, 'min_child_weight': 3, 'n_estimators': 250, 'scale_pos_weight': 24.736170212765959, 'seed': 1337, 'silent': 1}\n",
      "\n",
      "0.980 (+/-0.000) for {'learning_rate': 0.05, 'max_depth': 3, 'min_child_weight': 5, 'n_estimators': 100, 'scale_pos_weight': 24.736170212765959, 'seed': 1337, 'silent': 1}\n",
      "\n",
      "0.987 (+/-0.000) for {'learning_rate': 0.05, 'max_depth': 3, 'min_child_weight': 5, 'n_estimators': 250, 'scale_pos_weight': 24.736170212765959, 'seed': 1337, 'silent': 1}\n",
      "\n",
      "0.985 (+/-0.001) for {'learning_rate': 0.05, 'max_depth': 4, 'min_child_weight': 1, 'n_estimators': 100, 'scale_pos_weight': 24.736170212765959, 'seed': 1337, 'silent': 1}\n",
      "\n",
      "0.988 (+/-0.000) for {'learning_rate': 0.05, 'max_depth': 4, 'min_child_weight': 1, 'n_estimators': 250, 'scale_pos_weight': 24.736170212765959, 'seed': 1337, 'silent': 1}\n",
      "\n",
      "0.985 (+/-0.001) for {'learning_rate': 0.05, 'max_depth': 4, 'min_child_weight': 3, 'n_estimators': 100, 'scale_pos_weight': 24.736170212765959, 'seed': 1337, 'silent': 1}\n",
      "\n",
      "0.988 (+/-0.000) for {'learning_rate': 0.05, 'max_depth': 4, 'min_child_weight': 3, 'n_estimators': 250, 'scale_pos_weight': 24.736170212765959, 'seed': 1337, 'silent': 1}\n",
      "\n",
      "0.985 (+/-0.001) for {'learning_rate': 0.05, 'max_depth': 4, 'min_child_weight': 5, 'n_estimators': 100, 'scale_pos_weight': 24.736170212765959, 'seed': 1337, 'silent': 1}\n",
      "\n",
      "0.988 (+/-0.000) for {'learning_rate': 0.05, 'max_depth': 4, 'min_child_weight': 5, 'n_estimators': 250, 'scale_pos_weight': 24.736170212765959, 'seed': 1337, 'silent': 1}\n",
      "\n",
      "0.985 (+/-0.001) for {'learning_rate': 0.05, 'max_depth': 5, 'min_child_weight': 1, 'n_estimators': 100, 'scale_pos_weight': 24.736170212765959, 'seed': 1337, 'silent': 1}\n",
      "\n",
      "0.988 (+/-0.000) for {'learning_rate': 0.05, 'max_depth': 5, 'min_child_weight': 1, 'n_estimators': 250, 'scale_pos_weight': 24.736170212765959, 'seed': 1337, 'silent': 1}\n",
      "\n",
      "0.986 (+/-0.001) for {'learning_rate': 0.05, 'max_depth': 5, 'min_child_weight': 3, 'n_estimators': 100, 'scale_pos_weight': 24.736170212765959, 'seed': 1337, 'silent': 1}\n",
      "\n",
      "0.989 (+/-0.001) for {'learning_rate': 0.05, 'max_depth': 5, 'min_child_weight': 3, 'n_estimators': 250, 'scale_pos_weight': 24.736170212765959, 'seed': 1337, 'silent': 1}\n",
      "\n",
      "0.986 (+/-0.001) for {'learning_rate': 0.05, 'max_depth': 5, 'min_child_weight': 5, 'n_estimators': 100, 'scale_pos_weight': 24.736170212765959, 'seed': 1337, 'silent': 1}\n",
      "\n",
      "0.989 (+/-0.000) for {'learning_rate': 0.05, 'max_depth': 5, 'min_child_weight': 5, 'n_estimators': 250, 'scale_pos_weight': 24.736170212765959, 'seed': 1337, 'silent': 1}\n",
      "\n",
      "0.987 (+/-0.000) for {'learning_rate': 0.05, 'max_depth': 6, 'min_child_weight': 1, 'n_estimators': 100, 'scale_pos_weight': 24.736170212765959, 'seed': 1337, 'silent': 1}\n",
      "\n",
      "0.988 (+/-0.000) for {'learning_rate': 0.05, 'max_depth': 6, 'min_child_weight': 1, 'n_estimators': 250, 'scale_pos_weight': 24.736170212765959, 'seed': 1337, 'silent': 1}\n",
      "\n",
      "0.987 (+/-0.000) for {'learning_rate': 0.05, 'max_depth': 6, 'min_child_weight': 3, 'n_estimators': 100, 'scale_pos_weight': 24.736170212765959, 'seed': 1337, 'silent': 1}\n",
      "\n",
      "0.989 (+/-0.000) for {'learning_rate': 0.05, 'max_depth': 6, 'min_child_weight': 3, 'n_estimators': 250, 'scale_pos_weight': 24.736170212765959, 'seed': 1337, 'silent': 1}\n",
      "\n",
      "0.986 (+/-0.000) for {'learning_rate': 0.05, 'max_depth': 6, 'min_child_weight': 5, 'n_estimators': 100, 'scale_pos_weight': 24.736170212765959, 'seed': 1337, 'silent': 1}\n",
      "\n",
      "0.989 (+/-0.000) for {'learning_rate': 0.05, 'max_depth': 6, 'min_child_weight': 5, 'n_estimators': 250, 'scale_pos_weight': 24.736170212765959, 'seed': 1337, 'silent': 1}\n",
      "\n",
      "Detailed classification report:\n",
      "\n",
      "The model is trained on the full development set.\n",
      "The scores are computed on the full evaluation set.\n",
      "\n",
      "             precision    recall  f1-score   support\n",
      "\n",
      "          0       0.99      1.00      0.99     14369\n",
      "          1       0.91      0.82      0.86       776\n",
      "\n",
      "avg / total       0.99      0.99      0.99     15145\n",
      "\n",
      "\n",
      "# Tuning hyper-parameters for recall\n",
      "\n"
     ]
    },
    {
     "name": "stderr",
     "output_type": "stream",
     "text": [
      "/anaconda3/lib/python3.6/site-packages/sklearn/model_selection/_search.py:762: DeprecationWarning: The grid_scores_ attribute was deprecated in version 0.18 in favor of the more elaborate cv_results_ attribute. The grid_scores_ attribute will not be available from 0.20\n",
      "  DeprecationWarning)\n"
     ]
    },
    {
     "name": "stdout",
     "output_type": "stream",
     "text": [
      "Fitting 4 folds for each of 48 candidates, totalling 192 fits\n",
      "[CV] learning_rate=0.01, max_depth=3, min_child_weight=1, n_estimators=100, scale_pos_weight=24.7361702128, seed=1337, silent=1 \n",
      "[CV] learning_rate=0.01, max_depth=3, min_child_weight=1, n_estimators=100, scale_pos_weight=24.7361702128, seed=1337, silent=1 \n",
      "[CV] learning_rate=0.01, max_depth=3, min_child_weight=1, n_estimators=100, scale_pos_weight=24.7361702128, seed=1337, silent=1 \n",
      "[CV] learning_rate=0.01, max_depth=3, min_child_weight=1, n_estimators=100, scale_pos_weight=24.7361702128, seed=1337, silent=1 \n",
      "[CV] learning_rate=0.01, max_depth=3, min_child_weight=1, n_estimators=250, scale_pos_weight=24.7361702128, seed=1337, silent=1 \n",
      "[CV]  learning_rate=0.01, max_depth=3, min_child_weight=1, n_estimators=100, scale_pos_weight=24.7361702128, seed=1337, silent=1, total=   4.9s\n",
      "[CV]  learning_rate=0.01, max_depth=3, min_child_weight=1, n_estimators=100, scale_pos_weight=24.7361702128, seed=1337, silent=1, total=   4.8s\n",
      "[CV]  learning_rate=0.01, max_depth=3, min_child_weight=1, n_estimators=100, scale_pos_weight=24.7361702128, seed=1337, silent=1, total=   5.0s\n",
      "[CV] learning_rate=0.01, max_depth=3, min_child_weight=1, n_estimators=250, scale_pos_weight=24.7361702128, seed=1337, silent=1 \n",
      "[CV] learning_rate=0.01, max_depth=3, min_child_weight=1, n_estimators=250, scale_pos_weight=24.7361702128, seed=1337, silent=1 \n",
      "[CV]  learning_rate=0.01, max_depth=3, min_child_weight=1, n_estimators=100, scale_pos_weight=24.7361702128, seed=1337, silent=1, total=   4.9s\n",
      "[CV] learning_rate=0.01, max_depth=3, min_child_weight=1, n_estimators=250, scale_pos_weight=24.7361702128, seed=1337, silent=1 \n",
      "[CV] learning_rate=0.01, max_depth=3, min_child_weight=3, n_estimators=100, scale_pos_weight=24.7361702128, seed=1337, silent=1 \n",
      "[CV]  learning_rate=0.01, max_depth=3, min_child_weight=3, n_estimators=100, scale_pos_weight=24.7361702128, seed=1337, silent=1, total=   4.9s\n",
      "[CV] learning_rate=0.01, max_depth=3, min_child_weight=3, n_estimators=100, scale_pos_weight=24.7361702128, seed=1337, silent=1 \n",
      "[CV]  learning_rate=0.01, max_depth=3, min_child_weight=1, n_estimators=250, scale_pos_weight=24.7361702128, seed=1337, silent=1, total=  12.2s\n",
      "[CV] learning_rate=0.01, max_depth=3, min_child_weight=3, n_estimators=100, scale_pos_weight=24.7361702128, seed=1337, silent=1 \n",
      "[CV]  learning_rate=0.01, max_depth=3, min_child_weight=3, n_estimators=100, scale_pos_weight=24.7361702128, seed=1337, silent=1, total=   4.9s\n",
      "[CV] learning_rate=0.01, max_depth=3, min_child_weight=3, n_estimators=100, scale_pos_weight=24.7361702128, seed=1337, silent=1 \n",
      "[CV]  learning_rate=0.01, max_depth=3, min_child_weight=1, n_estimators=250, scale_pos_weight=24.7361702128, seed=1337, silent=1, total=  12.1s\n",
      "[CV]  learning_rate=0.01, max_depth=3, min_child_weight=1, n_estimators=250, scale_pos_weight=24.7361702128, seed=1337, silent=1, total=  12.0s\n",
      "[CV] learning_rate=0.01, max_depth=3, min_child_weight=3, n_estimators=250, scale_pos_weight=24.7361702128, seed=1337, silent=1 \n",
      "[CV] learning_rate=0.01, max_depth=3, min_child_weight=3, n_estimators=250, scale_pos_weight=24.7361702128, seed=1337, silent=1 \n",
      "[CV]  learning_rate=0.01, max_depth=3, min_child_weight=1, n_estimators=250, scale_pos_weight=24.7361702128, seed=1337, silent=1, total=  12.2s\n",
      "[CV] learning_rate=0.01, max_depth=3, min_child_weight=3, n_estimators=250, scale_pos_weight=24.7361702128, seed=1337, silent=1 \n",
      "[CV]  learning_rate=0.01, max_depth=3, min_child_weight=3, n_estimators=100, scale_pos_weight=24.7361702128, seed=1337, silent=1, total=   5.0s\n",
      "[CV] learning_rate=0.01, max_depth=3, min_child_weight=3, n_estimators=250, scale_pos_weight=24.7361702128, seed=1337, silent=1 \n",
      "[CV]  learning_rate=0.01, max_depth=3, min_child_weight=3, n_estimators=100, scale_pos_weight=24.7361702128, seed=1337, silent=1, total=   5.2s\n",
      "[CV] learning_rate=0.01, max_depth=3, min_child_weight=5, n_estimators=100, scale_pos_weight=24.7361702128, seed=1337, silent=1 \n",
      "[CV]  learning_rate=0.01, max_depth=3, min_child_weight=5, n_estimators=100, scale_pos_weight=24.7361702128, seed=1337, silent=1, total=   5.2s\n",
      "[CV] learning_rate=0.01, max_depth=3, min_child_weight=5, n_estimators=100, scale_pos_weight=24.7361702128, seed=1337, silent=1 \n",
      "[CV]  learning_rate=0.01, max_depth=3, min_child_weight=3, n_estimators=250, scale_pos_weight=24.7361702128, seed=1337, silent=1, total=  13.3s\n",
      "[CV] learning_rate=0.01, max_depth=3, min_child_weight=5, n_estimators=100, scale_pos_weight=24.7361702128, seed=1337, silent=1 \n",
      "[CV]  learning_rate=0.01, max_depth=3, min_child_weight=3, n_estimators=250, scale_pos_weight=24.7361702128, seed=1337, silent=1, total=  13.4s\n",
      "[CV]  learning_rate=0.01, max_depth=3, min_child_weight=3, n_estimators=250, scale_pos_weight=24.7361702128, seed=1337, silent=1, total=  13.2s\n",
      "[CV] learning_rate=0.01, max_depth=3, min_child_weight=5, n_estimators=100, scale_pos_weight=24.7361702128, seed=1337, silent=1 \n",
      "[CV] learning_rate=0.01, max_depth=3, min_child_weight=5, n_estimators=250, scale_pos_weight=24.7361702128, seed=1337, silent=1 \n",
      "[CV]  learning_rate=0.01, max_depth=3, min_child_weight=3, n_estimators=250, scale_pos_weight=24.7361702128, seed=1337, silent=1, total=  13.2s\n",
      "[CV] learning_rate=0.01, max_depth=3, min_child_weight=5, n_estimators=250, scale_pos_weight=24.7361702128, seed=1337, silent=1 \n",
      "[CV]  learning_rate=0.01, max_depth=3, min_child_weight=5, n_estimators=100, scale_pos_weight=24.7361702128, seed=1337, silent=1, total=   5.7s\n",
      "[CV] learning_rate=0.01, max_depth=3, min_child_weight=5, n_estimators=250, scale_pos_weight=24.7361702128, seed=1337, silent=1 \n",
      "[CV]  learning_rate=0.01, max_depth=3, min_child_weight=5, n_estimators=100, scale_pos_weight=24.7361702128, seed=1337, silent=1, total=   5.5s\n",
      "[CV] learning_rate=0.01, max_depth=3, min_child_weight=5, n_estimators=250, scale_pos_weight=24.7361702128, seed=1337, silent=1 \n",
      "[CV]  learning_rate=0.01, max_depth=3, min_child_weight=5, n_estimators=100, scale_pos_weight=24.7361702128, seed=1337, silent=1, total=   5.5s\n",
      "[CV] learning_rate=0.01, max_depth=4, min_child_weight=1, n_estimators=100, scale_pos_weight=24.7361702128, seed=1337, silent=1 \n",
      "[CV]  learning_rate=0.01, max_depth=4, min_child_weight=1, n_estimators=100, scale_pos_weight=24.7361702128, seed=1337, silent=1, total=   8.0s\n",
      "[CV] learning_rate=0.01, max_depth=4, min_child_weight=1, n_estimators=100, scale_pos_weight=24.7361702128, seed=1337, silent=1 \n",
      "[CV]  learning_rate=0.01, max_depth=3, min_child_weight=5, n_estimators=250, scale_pos_weight=24.7361702128, seed=1337, silent=1, total=  14.8s\n",
      "[CV] learning_rate=0.01, max_depth=4, min_child_weight=1, n_estimators=100, scale_pos_weight=24.7361702128, seed=1337, silent=1 \n",
      "[CV]  learning_rate=0.01, max_depth=3, min_child_weight=5, n_estimators=250, scale_pos_weight=24.7361702128, seed=1337, silent=1, total=  14.7s\n",
      "[CV] learning_rate=0.01, max_depth=4, min_child_weight=1, n_estimators=100, scale_pos_weight=24.7361702128, seed=1337, silent=1 \n",
      "[CV]  learning_rate=0.01, max_depth=3, min_child_weight=5, n_estimators=250, scale_pos_weight=24.7361702128, seed=1337, silent=1, total=  14.5s\n",
      "[CV] learning_rate=0.01, max_depth=4, min_child_weight=1, n_estimators=250, scale_pos_weight=24.7361702128, seed=1337, silent=1 \n",
      "[CV]  learning_rate=0.01, max_depth=3, min_child_weight=5, n_estimators=250, scale_pos_weight=24.7361702128, seed=1337, silent=1, total=  15.7s\n",
      "[CV] learning_rate=0.01, max_depth=4, min_child_weight=1, n_estimators=250, scale_pos_weight=24.7361702128, seed=1337, silent=1 \n",
      "[CV]  learning_rate=0.01, max_depth=4, min_child_weight=1, n_estimators=100, scale_pos_weight=24.7361702128, seed=1337, silent=1, total=   8.5s\n",
      "[CV] learning_rate=0.01, max_depth=4, min_child_weight=1, n_estimators=250, scale_pos_weight=24.7361702128, seed=1337, silent=1 \n",
      "[CV]  learning_rate=0.01, max_depth=4, min_child_weight=1, n_estimators=100, scale_pos_weight=24.7361702128, seed=1337, silent=1, total=   8.6s\n",
      "[CV] learning_rate=0.01, max_depth=4, min_child_weight=1, n_estimators=250, scale_pos_weight=24.7361702128, seed=1337, silent=1 \n",
      "[CV]  learning_rate=0.01, max_depth=4, min_child_weight=1, n_estimators=100, scale_pos_weight=24.7361702128, seed=1337, silent=1, total=   8.7s\n"
     ]
    },
    {
     "name": "stdout",
     "output_type": "stream",
     "text": [
      "[CV] learning_rate=0.01, max_depth=4, min_child_weight=3, n_estimators=100, scale_pos_weight=24.7361702128, seed=1337, silent=1 \n",
      "[CV]  learning_rate=0.01, max_depth=4, min_child_weight=3, n_estimators=100, scale_pos_weight=24.7361702128, seed=1337, silent=1, total=   8.8s\n",
      "[CV] learning_rate=0.01, max_depth=4, min_child_weight=3, n_estimators=100, scale_pos_weight=24.7361702128, seed=1337, silent=1 \n",
      "[CV]  learning_rate=0.01, max_depth=4, min_child_weight=1, n_estimators=250, scale_pos_weight=24.7361702128, seed=1337, silent=1, total=  21.5s\n",
      "[CV] learning_rate=0.01, max_depth=4, min_child_weight=3, n_estimators=100, scale_pos_weight=24.7361702128, seed=1337, silent=1 \n",
      "[CV]  learning_rate=0.01, max_depth=4, min_child_weight=3, n_estimators=100, scale_pos_weight=24.7361702128, seed=1337, silent=1, total=   8.4s\n",
      "[CV] learning_rate=0.01, max_depth=4, min_child_weight=3, n_estimators=100, scale_pos_weight=24.7361702128, seed=1337, silent=1 \n"
     ]
    },
    {
     "name": "stderr",
     "output_type": "stream",
     "text": [
      "[Parallel(n_jobs=5)]: Done  31 tasks      | elapsed:  1.2min\n"
     ]
    },
    {
     "name": "stdout",
     "output_type": "stream",
     "text": [
      "[CV]  learning_rate=0.01, max_depth=4, min_child_weight=1, n_estimators=250, scale_pos_weight=24.7361702128, seed=1337, silent=1, total=  21.6s\n",
      "[CV] learning_rate=0.01, max_depth=4, min_child_weight=3, n_estimators=250, scale_pos_weight=24.7361702128, seed=1337, silent=1 \n",
      "[CV]  learning_rate=0.01, max_depth=4, min_child_weight=1, n_estimators=250, scale_pos_weight=24.7361702128, seed=1337, silent=1, total=  21.2s\n",
      "[CV] learning_rate=0.01, max_depth=4, min_child_weight=3, n_estimators=250, scale_pos_weight=24.7361702128, seed=1337, silent=1 \n",
      "[CV]  learning_rate=0.01, max_depth=4, min_child_weight=1, n_estimators=250, scale_pos_weight=24.7361702128, seed=1337, silent=1, total=  20.9s\n",
      "[CV] learning_rate=0.01, max_depth=4, min_child_weight=3, n_estimators=250, scale_pos_weight=24.7361702128, seed=1337, silent=1 \n",
      "[CV]  learning_rate=0.01, max_depth=4, min_child_weight=3, n_estimators=100, scale_pos_weight=24.7361702128, seed=1337, silent=1, total=   8.3s\n",
      "[CV] learning_rate=0.01, max_depth=4, min_child_weight=3, n_estimators=250, scale_pos_weight=24.7361702128, seed=1337, silent=1 \n",
      "[CV]  learning_rate=0.01, max_depth=4, min_child_weight=3, n_estimators=100, scale_pos_weight=24.7361702128, seed=1337, silent=1, total=   7.7s\n",
      "[CV] learning_rate=0.01, max_depth=4, min_child_weight=5, n_estimators=100, scale_pos_weight=24.7361702128, seed=1337, silent=1 \n",
      "[CV]  learning_rate=0.01, max_depth=4, min_child_weight=5, n_estimators=100, scale_pos_weight=24.7361702128, seed=1337, silent=1, total=   8.2s\n",
      "[CV] learning_rate=0.01, max_depth=4, min_child_weight=5, n_estimators=100, scale_pos_weight=24.7361702128, seed=1337, silent=1 \n",
      "[CV]  learning_rate=0.01, max_depth=4, min_child_weight=3, n_estimators=250, scale_pos_weight=24.7361702128, seed=1337, silent=1, total=  19.3s\n",
      "[CV] learning_rate=0.01, max_depth=4, min_child_weight=5, n_estimators=100, scale_pos_weight=24.7361702128, seed=1337, silent=1 \n",
      "[CV]  learning_rate=0.01, max_depth=4, min_child_weight=3, n_estimators=250, scale_pos_weight=24.7361702128, seed=1337, silent=1, total=  18.9s\n",
      "[CV] learning_rate=0.01, max_depth=4, min_child_weight=5, n_estimators=100, scale_pos_weight=24.7361702128, seed=1337, silent=1 \n",
      "[CV]  learning_rate=0.01, max_depth=4, min_child_weight=3, n_estimators=250, scale_pos_weight=24.7361702128, seed=1337, silent=1, total=  18.5s\n",
      "[CV] learning_rate=0.01, max_depth=4, min_child_weight=5, n_estimators=250, scale_pos_weight=24.7361702128, seed=1337, silent=1 \n",
      "[CV]  learning_rate=0.01, max_depth=4, min_child_weight=3, n_estimators=250, scale_pos_weight=24.7361702128, seed=1337, silent=1, total=  18.4s\n",
      "[CV] learning_rate=0.01, max_depth=4, min_child_weight=5, n_estimators=250, scale_pos_weight=24.7361702128, seed=1337, silent=1 \n",
      "[CV]  learning_rate=0.01, max_depth=4, min_child_weight=5, n_estimators=100, scale_pos_weight=24.7361702128, seed=1337, silent=1, total=   6.5s\n",
      "[CV] learning_rate=0.01, max_depth=4, min_child_weight=5, n_estimators=250, scale_pos_weight=24.7361702128, seed=1337, silent=1 \n",
      "[CV]  learning_rate=0.01, max_depth=4, min_child_weight=5, n_estimators=100, scale_pos_weight=24.7361702128, seed=1337, silent=1, total=   5.7s\n",
      "[CV] learning_rate=0.01, max_depth=4, min_child_weight=5, n_estimators=250, scale_pos_weight=24.7361702128, seed=1337, silent=1 \n",
      "[CV]  learning_rate=0.01, max_depth=4, min_child_weight=5, n_estimators=100, scale_pos_weight=24.7361702128, seed=1337, silent=1, total=   5.8s\n",
      "[CV] learning_rate=0.01, max_depth=5, min_child_weight=1, n_estimators=100, scale_pos_weight=24.7361702128, seed=1337, silent=1 \n",
      "[CV]  learning_rate=0.01, max_depth=5, min_child_weight=1, n_estimators=100, scale_pos_weight=24.7361702128, seed=1337, silent=1, total=   6.8s\n",
      "[CV] learning_rate=0.01, max_depth=5, min_child_weight=1, n_estimators=100, scale_pos_weight=24.7361702128, seed=1337, silent=1 \n",
      "[CV]  learning_rate=0.01, max_depth=4, min_child_weight=5, n_estimators=250, scale_pos_weight=24.7361702128, seed=1337, silent=1, total=  14.2s\n",
      "[CV] learning_rate=0.01, max_depth=5, min_child_weight=1, n_estimators=100, scale_pos_weight=24.7361702128, seed=1337, silent=1 \n",
      "[CV]  learning_rate=0.01, max_depth=4, min_child_weight=5, n_estimators=250, scale_pos_weight=24.7361702128, seed=1337, silent=1, total=  13.9s\n",
      "[CV] learning_rate=0.01, max_depth=5, min_child_weight=1, n_estimators=100, scale_pos_weight=24.7361702128, seed=1337, silent=1 \n",
      "[CV]  learning_rate=0.01, max_depth=4, min_child_weight=5, n_estimators=250, scale_pos_weight=24.7361702128, seed=1337, silent=1, total=  14.3s\n",
      "[CV] learning_rate=0.01, max_depth=5, min_child_weight=1, n_estimators=250, scale_pos_weight=24.7361702128, seed=1337, silent=1 \n",
      "[CV]  learning_rate=0.01, max_depth=4, min_child_weight=5, n_estimators=250, scale_pos_weight=24.7361702128, seed=1337, silent=1, total=  15.1s\n",
      "[CV] learning_rate=0.01, max_depth=5, min_child_weight=1, n_estimators=250, scale_pos_weight=24.7361702128, seed=1337, silent=1 \n",
      "[CV]  learning_rate=0.01, max_depth=5, min_child_weight=1, n_estimators=100, scale_pos_weight=24.7361702128, seed=1337, silent=1, total=   8.3s\n",
      "[CV] learning_rate=0.01, max_depth=5, min_child_weight=1, n_estimators=250, scale_pos_weight=24.7361702128, seed=1337, silent=1 \n",
      "[CV]  learning_rate=0.01, max_depth=5, min_child_weight=1, n_estimators=100, scale_pos_weight=24.7361702128, seed=1337, silent=1, total=   8.2s\n",
      "[CV] learning_rate=0.01, max_depth=5, min_child_weight=1, n_estimators=250, scale_pos_weight=24.7361702128, seed=1337, silent=1 \n",
      "[CV]  learning_rate=0.01, max_depth=5, min_child_weight=1, n_estimators=100, scale_pos_weight=24.7361702128, seed=1337, silent=1, total=   8.2s\n",
      "[CV] learning_rate=0.01, max_depth=5, min_child_weight=3, n_estimators=100, scale_pos_weight=24.7361702128, seed=1337, silent=1 \n",
      "[CV]  learning_rate=0.01, max_depth=5, min_child_weight=3, n_estimators=100, scale_pos_weight=24.7361702128, seed=1337, silent=1, total=   8.0s\n",
      "[CV] learning_rate=0.01, max_depth=5, min_child_weight=3, n_estimators=100, scale_pos_weight=24.7361702128, seed=1337, silent=1 \n",
      "[CV]  learning_rate=0.01, max_depth=5, min_child_weight=1, n_estimators=250, scale_pos_weight=24.7361702128, seed=1337, silent=1, total=  20.6s\n",
      "[CV] learning_rate=0.01, max_depth=5, min_child_weight=3, n_estimators=100, scale_pos_weight=24.7361702128, seed=1337, silent=1 \n",
      "[CV]  learning_rate=0.01, max_depth=5, min_child_weight=1, n_estimators=250, scale_pos_weight=24.7361702128, seed=1337, silent=1, total=  17.6s\n",
      "[CV] learning_rate=0.01, max_depth=5, min_child_weight=3, n_estimators=100, scale_pos_weight=24.7361702128, seed=1337, silent=1 \n",
      "[CV]  learning_rate=0.01, max_depth=5, min_child_weight=3, n_estimators=100, scale_pos_weight=24.7361702128, seed=1337, silent=1, total=   7.4s\n",
      "[CV] learning_rate=0.01, max_depth=5, min_child_weight=3, n_estimators=250, scale_pos_weight=24.7361702128, seed=1337, silent=1 \n",
      "[CV]  learning_rate=0.01, max_depth=5, min_child_weight=1, n_estimators=250, scale_pos_weight=24.7361702128, seed=1337, silent=1, total=  17.3s\n",
      "[CV] learning_rate=0.01, max_depth=5, min_child_weight=3, n_estimators=250, scale_pos_weight=24.7361702128, seed=1337, silent=1 \n",
      "[CV]  learning_rate=0.01, max_depth=5, min_child_weight=1, n_estimators=250, scale_pos_weight=24.7361702128, seed=1337, silent=1, total=  19.6s\n",
      "[CV] learning_rate=0.01, max_depth=5, min_child_weight=3, n_estimators=250, scale_pos_weight=24.7361702128, seed=1337, silent=1 \n",
      "[CV]  learning_rate=0.01, max_depth=5, min_child_weight=3, n_estimators=100, scale_pos_weight=24.7361702128, seed=1337, silent=1, total=   6.8s\n",
      "[CV] learning_rate=0.01, max_depth=5, min_child_weight=3, n_estimators=250, scale_pos_weight=24.7361702128, seed=1337, silent=1 \n",
      "[CV]  learning_rate=0.01, max_depth=5, min_child_weight=3, n_estimators=100, scale_pos_weight=24.7361702128, seed=1337, silent=1, total=   6.7s\n",
      "[CV] learning_rate=0.01, max_depth=5, min_child_weight=5, n_estimators=100, scale_pos_weight=24.7361702128, seed=1337, silent=1 \n",
      "[CV]  learning_rate=0.01, max_depth=5, min_child_weight=5, n_estimators=100, scale_pos_weight=24.7361702128, seed=1337, silent=1, total=   7.1s\n",
      "[CV] learning_rate=0.01, max_depth=5, min_child_weight=5, n_estimators=100, scale_pos_weight=24.7361702128, seed=1337, silent=1 \n",
      "[CV]  learning_rate=0.01, max_depth=5, min_child_weight=3, n_estimators=250, scale_pos_weight=24.7361702128, seed=1337, silent=1, total=  16.4s\n"
     ]
    },
    {
     "name": "stdout",
     "output_type": "stream",
     "text": [
      "[CV] learning_rate=0.01, max_depth=5, min_child_weight=5, n_estimators=100, scale_pos_weight=24.7361702128, seed=1337, silent=1 \n",
      "[CV]  learning_rate=0.01, max_depth=5, min_child_weight=3, n_estimators=250, scale_pos_weight=24.7361702128, seed=1337, silent=1, total=  18.5s\n",
      "[CV] learning_rate=0.01, max_depth=5, min_child_weight=5, n_estimators=100, scale_pos_weight=24.7361702128, seed=1337, silent=1 \n",
      "[CV]  learning_rate=0.01, max_depth=5, min_child_weight=3, n_estimators=250, scale_pos_weight=24.7361702128, seed=1337, silent=1, total=  18.9s\n",
      "[CV] learning_rate=0.01, max_depth=5, min_child_weight=5, n_estimators=250, scale_pos_weight=24.7361702128, seed=1337, silent=1 \n",
      "[CV]  learning_rate=0.01, max_depth=5, min_child_weight=3, n_estimators=250, scale_pos_weight=24.7361702128, seed=1337, silent=1, total=  17.0s\n",
      "[CV] learning_rate=0.01, max_depth=5, min_child_weight=5, n_estimators=250, scale_pos_weight=24.7361702128, seed=1337, silent=1 \n",
      "[CV]  learning_rate=0.01, max_depth=5, min_child_weight=5, n_estimators=100, scale_pos_weight=24.7361702128, seed=1337, silent=1, total=   8.2s\n",
      "[CV] learning_rate=0.01, max_depth=5, min_child_weight=5, n_estimators=250, scale_pos_weight=24.7361702128, seed=1337, silent=1 \n",
      "[CV]  learning_rate=0.01, max_depth=5, min_child_weight=5, n_estimators=100, scale_pos_weight=24.7361702128, seed=1337, silent=1, total=   7.2s\n",
      "[CV] learning_rate=0.01, max_depth=5, min_child_weight=5, n_estimators=250, scale_pos_weight=24.7361702128, seed=1337, silent=1 \n",
      "[CV]  learning_rate=0.01, max_depth=5, min_child_weight=5, n_estimators=100, scale_pos_weight=24.7361702128, seed=1337, silent=1, total=   7.1s\n",
      "[CV] learning_rate=0.01, max_depth=6, min_child_weight=1, n_estimators=100, scale_pos_weight=24.7361702128, seed=1337, silent=1 \n",
      "[CV]  learning_rate=0.01, max_depth=6, min_child_weight=1, n_estimators=100, scale_pos_weight=24.7361702128, seed=1337, silent=1, total=   7.5s\n",
      "[CV] learning_rate=0.01, max_depth=6, min_child_weight=1, n_estimators=100, scale_pos_weight=24.7361702128, seed=1337, silent=1 \n",
      "[CV]  learning_rate=0.01, max_depth=5, min_child_weight=5, n_estimators=250, scale_pos_weight=24.7361702128, seed=1337, silent=1, total=  16.5s\n",
      "[CV] learning_rate=0.01, max_depth=6, min_child_weight=1, n_estimators=100, scale_pos_weight=24.7361702128, seed=1337, silent=1 \n",
      "[CV]  learning_rate=0.01, max_depth=5, min_child_weight=5, n_estimators=250, scale_pos_weight=24.7361702128, seed=1337, silent=1, total=  18.4s\n",
      "[CV] learning_rate=0.01, max_depth=6, min_child_weight=1, n_estimators=100, scale_pos_weight=24.7361702128, seed=1337, silent=1 \n",
      "[CV]  learning_rate=0.01, max_depth=5, min_child_weight=5, n_estimators=250, scale_pos_weight=24.7361702128, seed=1337, silent=1, total=  18.5s\n",
      "[CV] learning_rate=0.01, max_depth=6, min_child_weight=1, n_estimators=250, scale_pos_weight=24.7361702128, seed=1337, silent=1 \n",
      "[CV]  learning_rate=0.01, max_depth=5, min_child_weight=5, n_estimators=250, scale_pos_weight=24.7361702128, seed=1337, silent=1, total=  16.9s\n",
      "[CV] learning_rate=0.01, max_depth=6, min_child_weight=1, n_estimators=250, scale_pos_weight=24.7361702128, seed=1337, silent=1 \n",
      "[CV]  learning_rate=0.01, max_depth=6, min_child_weight=1, n_estimators=100, scale_pos_weight=24.7361702128, seed=1337, silent=1, total=   8.8s\n",
      "[CV] learning_rate=0.01, max_depth=6, min_child_weight=1, n_estimators=250, scale_pos_weight=24.7361702128, seed=1337, silent=1 \n",
      "[CV]  learning_rate=0.01, max_depth=6, min_child_weight=1, n_estimators=100, scale_pos_weight=24.7361702128, seed=1337, silent=1, total=   8.4s\n",
      "[CV] learning_rate=0.01, max_depth=6, min_child_weight=1, n_estimators=250, scale_pos_weight=24.7361702128, seed=1337, silent=1 \n",
      "[CV]  learning_rate=0.01, max_depth=6, min_child_weight=1, n_estimators=100, scale_pos_weight=24.7361702128, seed=1337, silent=1, total=   8.5s\n",
      "[CV] learning_rate=0.01, max_depth=6, min_child_weight=3, n_estimators=100, scale_pos_weight=24.7361702128, seed=1337, silent=1 \n",
      "[CV]  learning_rate=0.01, max_depth=6, min_child_weight=3, n_estimators=100, scale_pos_weight=24.7361702128, seed=1337, silent=1, total=   8.9s\n",
      "[CV] learning_rate=0.01, max_depth=6, min_child_weight=3, n_estimators=100, scale_pos_weight=24.7361702128, seed=1337, silent=1 \n",
      "[CV]  learning_rate=0.01, max_depth=6, min_child_weight=1, n_estimators=250, scale_pos_weight=24.7361702128, seed=1337, silent=1, total=  21.0s\n",
      "[CV] learning_rate=0.01, max_depth=6, min_child_weight=3, n_estimators=100, scale_pos_weight=24.7361702128, seed=1337, silent=1 \n",
      "[CV]  learning_rate=0.01, max_depth=6, min_child_weight=1, n_estimators=250, scale_pos_weight=24.7361702128, seed=1337, silent=1, total=  23.9s\n",
      "[CV] learning_rate=0.01, max_depth=6, min_child_weight=3, n_estimators=100, scale_pos_weight=24.7361702128, seed=1337, silent=1 \n",
      "[CV]  learning_rate=0.01, max_depth=6, min_child_weight=3, n_estimators=100, scale_pos_weight=24.7361702128, seed=1337, silent=1, total=   9.9s\n",
      "[CV] learning_rate=0.01, max_depth=6, min_child_weight=3, n_estimators=250, scale_pos_weight=24.7361702128, seed=1337, silent=1 \n",
      "[CV]  learning_rate=0.01, max_depth=6, min_child_weight=1, n_estimators=250, scale_pos_weight=24.7361702128, seed=1337, silent=1, total=  24.0s\n",
      "[CV] learning_rate=0.01, max_depth=6, min_child_weight=3, n_estimators=250, scale_pos_weight=24.7361702128, seed=1337, silent=1 \n",
      "[CV]  learning_rate=0.01, max_depth=6, min_child_weight=1, n_estimators=250, scale_pos_weight=24.7361702128, seed=1337, silent=1, total=  21.1s\n",
      "[CV] learning_rate=0.01, max_depth=6, min_child_weight=3, n_estimators=250, scale_pos_weight=24.7361702128, seed=1337, silent=1 \n",
      "[CV]  learning_rate=0.01, max_depth=6, min_child_weight=3, n_estimators=100, scale_pos_weight=24.7361702128, seed=1337, silent=1, total=   8.3s\n",
      "[CV] learning_rate=0.01, max_depth=6, min_child_weight=3, n_estimators=250, scale_pos_weight=24.7361702128, seed=1337, silent=1 \n",
      "[CV]  learning_rate=0.01, max_depth=6, min_child_weight=3, n_estimators=100, scale_pos_weight=24.7361702128, seed=1337, silent=1, total=   8.2s\n",
      "[CV] learning_rate=0.01, max_depth=6, min_child_weight=5, n_estimators=100, scale_pos_weight=24.7361702128, seed=1337, silent=1 \n",
      "[CV]  learning_rate=0.01, max_depth=6, min_child_weight=5, n_estimators=100, scale_pos_weight=24.7361702128, seed=1337, silent=1, total=   7.7s\n",
      "[CV] learning_rate=0.01, max_depth=6, min_child_weight=5, n_estimators=100, scale_pos_weight=24.7361702128, seed=1337, silent=1 \n",
      "[CV]  learning_rate=0.01, max_depth=6, min_child_weight=3, n_estimators=250, scale_pos_weight=24.7361702128, seed=1337, silent=1, total=  18.0s\n",
      "[CV] learning_rate=0.01, max_depth=6, min_child_weight=5, n_estimators=100, scale_pos_weight=24.7361702128, seed=1337, silent=1 \n",
      "[CV]  learning_rate=0.01, max_depth=6, min_child_weight=3, n_estimators=250, scale_pos_weight=24.7361702128, seed=1337, silent=1, total=  20.8s\n",
      "[CV]  learning_rate=0.01, max_depth=6, min_child_weight=3, n_estimators=250, scale_pos_weight=24.7361702128, seed=1337, silent=1, total=  20.5s\n",
      "[CV] learning_rate=0.01, max_depth=6, min_child_weight=5, n_estimators=100, scale_pos_weight=24.7361702128, seed=1337, silent=1 \n",
      "[CV] learning_rate=0.01, max_depth=6, min_child_weight=5, n_estimators=250, scale_pos_weight=24.7361702128, seed=1337, silent=1 \n",
      "[CV]  learning_rate=0.01, max_depth=6, min_child_weight=5, n_estimators=100, scale_pos_weight=24.7361702128, seed=1337, silent=1, total=   8.1s\n",
      "[CV] learning_rate=0.01, max_depth=6, min_child_weight=5, n_estimators=250, scale_pos_weight=24.7361702128, seed=1337, silent=1 \n",
      "[CV]  learning_rate=0.01, max_depth=6, min_child_weight=3, n_estimators=250, scale_pos_weight=24.7361702128, seed=1337, silent=1, total=  18.1s\n",
      "[CV] learning_rate=0.01, max_depth=6, min_child_weight=5, n_estimators=250, scale_pos_weight=24.7361702128, seed=1337, silent=1 \n",
      "[CV]  learning_rate=0.01, max_depth=6, min_child_weight=5, n_estimators=100, scale_pos_weight=24.7361702128, seed=1337, silent=1, total=   8.0s\n",
      "[CV] learning_rate=0.01, max_depth=6, min_child_weight=5, n_estimators=250, scale_pos_weight=24.7361702128, seed=1337, silent=1 \n",
      "[CV]  learning_rate=0.01, max_depth=6, min_child_weight=5, n_estimators=100, scale_pos_weight=24.7361702128, seed=1337, silent=1, total=   8.0s\n",
      "[CV] learning_rate=0.05, max_depth=3, min_child_weight=1, n_estimators=100, scale_pos_weight=24.7361702128, seed=1337, silent=1 \n"
     ]
    },
    {
     "name": "stdout",
     "output_type": "stream",
     "text": [
      "[CV]  learning_rate=0.05, max_depth=3, min_child_weight=1, n_estimators=100, scale_pos_weight=24.7361702128, seed=1337, silent=1, total=   4.4s\n",
      "[CV] learning_rate=0.05, max_depth=3, min_child_weight=1, n_estimators=100, scale_pos_weight=24.7361702128, seed=1337, silent=1 \n",
      "[CV]  learning_rate=0.05, max_depth=3, min_child_weight=1, n_estimators=100, scale_pos_weight=24.7361702128, seed=1337, silent=1, total=   4.8s\n",
      "[CV] learning_rate=0.05, max_depth=3, min_child_weight=1, n_estimators=100, scale_pos_weight=24.7361702128, seed=1337, silent=1 \n",
      "[CV]  learning_rate=0.01, max_depth=6, min_child_weight=5, n_estimators=250, scale_pos_weight=24.7361702128, seed=1337, silent=1, total=  20.8s\n",
      "[CV] learning_rate=0.05, max_depth=3, min_child_weight=1, n_estimators=100, scale_pos_weight=24.7361702128, seed=1337, silent=1 \n",
      "[CV]  learning_rate=0.01, max_depth=6, min_child_weight=5, n_estimators=250, scale_pos_weight=24.7361702128, seed=1337, silent=1, total=  18.2s\n",
      "[CV] learning_rate=0.05, max_depth=3, min_child_weight=1, n_estimators=250, scale_pos_weight=24.7361702128, seed=1337, silent=1 \n",
      "[CV]  learning_rate=0.01, max_depth=6, min_child_weight=5, n_estimators=250, scale_pos_weight=24.7361702128, seed=1337, silent=1, total=  20.8s\n",
      "[CV] learning_rate=0.05, max_depth=3, min_child_weight=1, n_estimators=250, scale_pos_weight=24.7361702128, seed=1337, silent=1 \n",
      "[CV]  learning_rate=0.05, max_depth=3, min_child_weight=1, n_estimators=100, scale_pos_weight=24.7361702128, seed=1337, silent=1, total=   4.9s\n",
      "[CV] learning_rate=0.05, max_depth=3, min_child_weight=1, n_estimators=250, scale_pos_weight=24.7361702128, seed=1337, silent=1 \n",
      "[CV]  learning_rate=0.01, max_depth=6, min_child_weight=5, n_estimators=250, scale_pos_weight=24.7361702128, seed=1337, silent=1, total=  17.9s\n",
      "[CV] learning_rate=0.05, max_depth=3, min_child_weight=1, n_estimators=250, scale_pos_weight=24.7361702128, seed=1337, silent=1 \n",
      "[CV]  learning_rate=0.05, max_depth=3, min_child_weight=1, n_estimators=100, scale_pos_weight=24.7361702128, seed=1337, silent=1, total=   4.6s\n",
      "[CV] learning_rate=0.05, max_depth=3, min_child_weight=3, n_estimators=100, scale_pos_weight=24.7361702128, seed=1337, silent=1 \n",
      "[CV]  learning_rate=0.05, max_depth=3, min_child_weight=3, n_estimators=100, scale_pos_weight=24.7361702128, seed=1337, silent=1, total=   5.0s\n",
      "[CV] learning_rate=0.05, max_depth=3, min_child_weight=3, n_estimators=100, scale_pos_weight=24.7361702128, seed=1337, silent=1 \n",
      "[CV]  learning_rate=0.05, max_depth=3, min_child_weight=1, n_estimators=250, scale_pos_weight=24.7361702128, seed=1337, silent=1, total=  12.4s\n",
      "[CV] learning_rate=0.05, max_depth=3, min_child_weight=3, n_estimators=100, scale_pos_weight=24.7361702128, seed=1337, silent=1 \n",
      "[CV]  learning_rate=0.05, max_depth=3, min_child_weight=1, n_estimators=250, scale_pos_weight=24.7361702128, seed=1337, silent=1, total=  12.2s\n",
      "[CV]  learning_rate=0.05, max_depth=3, min_child_weight=1, n_estimators=250, scale_pos_weight=24.7361702128, seed=1337, silent=1, total=  12.5s\n",
      "[CV] learning_rate=0.05, max_depth=3, min_child_weight=3, n_estimators=100, scale_pos_weight=24.7361702128, seed=1337, silent=1 \n",
      "[CV] learning_rate=0.05, max_depth=3, min_child_weight=3, n_estimators=250, scale_pos_weight=24.7361702128, seed=1337, silent=1 \n",
      "[CV]  learning_rate=0.05, max_depth=3, min_child_weight=3, n_estimators=100, scale_pos_weight=24.7361702128, seed=1337, silent=1, total=   5.0s\n",
      "[CV] learning_rate=0.05, max_depth=3, min_child_weight=3, n_estimators=250, scale_pos_weight=24.7361702128, seed=1337, silent=1 \n",
      "[CV]  learning_rate=0.05, max_depth=3, min_child_weight=1, n_estimators=250, scale_pos_weight=24.7361702128, seed=1337, silent=1, total=  12.4s\n",
      "[CV] learning_rate=0.05, max_depth=3, min_child_weight=3, n_estimators=250, scale_pos_weight=24.7361702128, seed=1337, silent=1 \n",
      "[CV]  learning_rate=0.05, max_depth=3, min_child_weight=3, n_estimators=100, scale_pos_weight=24.7361702128, seed=1337, silent=1, total=   4.9s\n",
      "[CV] learning_rate=0.05, max_depth=3, min_child_weight=3, n_estimators=250, scale_pos_weight=24.7361702128, seed=1337, silent=1 \n",
      "[CV]  learning_rate=0.05, max_depth=3, min_child_weight=3, n_estimators=100, scale_pos_weight=24.7361702128, seed=1337, silent=1, total=   5.0s\n",
      "[CV] learning_rate=0.05, max_depth=3, min_child_weight=5, n_estimators=100, scale_pos_weight=24.7361702128, seed=1337, silent=1 \n",
      "[CV]  learning_rate=0.05, max_depth=3, min_child_weight=5, n_estimators=100, scale_pos_weight=24.7361702128, seed=1337, silent=1, total=   5.1s\n",
      "[CV] learning_rate=0.05, max_depth=3, min_child_weight=5, n_estimators=100, scale_pos_weight=24.7361702128, seed=1337, silent=1 \n",
      "[CV]  learning_rate=0.05, max_depth=3, min_child_weight=3, n_estimators=250, scale_pos_weight=24.7361702128, seed=1337, silent=1, total=  12.4s\n",
      "[CV] learning_rate=0.05, max_depth=3, min_child_weight=5, n_estimators=100, scale_pos_weight=24.7361702128, seed=1337, silent=1 \n",
      "[CV]  learning_rate=0.05, max_depth=3, min_child_weight=3, n_estimators=250, scale_pos_weight=24.7361702128, seed=1337, silent=1, total=  12.4s\n",
      "[CV] learning_rate=0.05, max_depth=3, min_child_weight=5, n_estimators=100, scale_pos_weight=24.7361702128, seed=1337, silent=1 \n",
      "[CV]  learning_rate=0.05, max_depth=3, min_child_weight=5, n_estimators=100, scale_pos_weight=24.7361702128, seed=1337, silent=1, total=   4.7s\n",
      "[CV]  learning_rate=0.05, max_depth=3, min_child_weight=3, n_estimators=250, scale_pos_weight=24.7361702128, seed=1337, silent=1, total=  12.2s\n",
      "[CV] learning_rate=0.05, max_depth=3, min_child_weight=5, n_estimators=250, scale_pos_weight=24.7361702128, seed=1337, silent=1 \n",
      "[CV] learning_rate=0.05, max_depth=3, min_child_weight=5, n_estimators=250, scale_pos_weight=24.7361702128, seed=1337, silent=1 \n",
      "[CV]  learning_rate=0.05, max_depth=3, min_child_weight=3, n_estimators=250, scale_pos_weight=24.7361702128, seed=1337, silent=1, total=  12.3s\n",
      "[CV] learning_rate=0.05, max_depth=3, min_child_weight=5, n_estimators=250, scale_pos_weight=24.7361702128, seed=1337, silent=1 \n",
      "[CV]  learning_rate=0.05, max_depth=3, min_child_weight=5, n_estimators=100, scale_pos_weight=24.7361702128, seed=1337, silent=1, total=   5.4s\n",
      "[CV] learning_rate=0.05, max_depth=3, min_child_weight=5, n_estimators=250, scale_pos_weight=24.7361702128, seed=1337, silent=1 \n",
      "[CV]  learning_rate=0.05, max_depth=3, min_child_weight=5, n_estimators=100, scale_pos_weight=24.7361702128, seed=1337, silent=1, total=   5.3s\n",
      "[CV] learning_rate=0.05, max_depth=4, min_child_weight=1, n_estimators=100, scale_pos_weight=24.7361702128, seed=1337, silent=1 \n",
      "[CV]  learning_rate=0.05, max_depth=4, min_child_weight=1, n_estimators=100, scale_pos_weight=24.7361702128, seed=1337, silent=1, total=   5.5s\n",
      "[CV] learning_rate=0.05, max_depth=4, min_child_weight=1, n_estimators=100, scale_pos_weight=24.7361702128, seed=1337, silent=1 \n",
      "[CV]  learning_rate=0.05, max_depth=3, min_child_weight=5, n_estimators=250, scale_pos_weight=24.7361702128, seed=1337, silent=1, total=  11.7s\n",
      "[CV] learning_rate=0.05, max_depth=4, min_child_weight=1, n_estimators=100, scale_pos_weight=24.7361702128, seed=1337, silent=1 \n",
      "[CV]  learning_rate=0.05, max_depth=3, min_child_weight=5, n_estimators=250, scale_pos_weight=24.7361702128, seed=1337, silent=1, total=  11.6s\n",
      "[CV] learning_rate=0.05, max_depth=4, min_child_weight=1, n_estimators=100, scale_pos_weight=24.7361702128, seed=1337, silent=1 \n",
      "[CV]  learning_rate=0.05, max_depth=3, min_child_weight=5, n_estimators=250, scale_pos_weight=24.7361702128, seed=1337, silent=1, total=  11.1s\n",
      "[CV] learning_rate=0.05, max_depth=4, min_child_weight=1, n_estimators=250, scale_pos_weight=24.7361702128, seed=1337, silent=1 \n",
      "[CV]  learning_rate=0.05, max_depth=3, min_child_weight=5, n_estimators=250, scale_pos_weight=24.7361702128, seed=1337, silent=1, total=  10.8s\n",
      "[CV] learning_rate=0.05, max_depth=4, min_child_weight=1, n_estimators=250, scale_pos_weight=24.7361702128, seed=1337, silent=1 \n",
      "[CV]  learning_rate=0.05, max_depth=4, min_child_weight=1, n_estimators=100, scale_pos_weight=24.7361702128, seed=1337, silent=1, total=   5.9s\n",
      "[CV] learning_rate=0.05, max_depth=4, min_child_weight=1, n_estimators=250, scale_pos_weight=24.7361702128, seed=1337, silent=1 \n",
      "[CV]  learning_rate=0.05, max_depth=4, min_child_weight=1, n_estimators=100, scale_pos_weight=24.7361702128, seed=1337, silent=1, total=   5.9s\n"
     ]
    },
    {
     "name": "stdout",
     "output_type": "stream",
     "text": [
      "[CV] learning_rate=0.05, max_depth=4, min_child_weight=1, n_estimators=250, scale_pos_weight=24.7361702128, seed=1337, silent=1 \n",
      "[CV]  learning_rate=0.05, max_depth=4, min_child_weight=1, n_estimators=100, scale_pos_weight=24.7361702128, seed=1337, silent=1, total=   5.9s\n",
      "[CV] learning_rate=0.05, max_depth=4, min_child_weight=3, n_estimators=100, scale_pos_weight=24.7361702128, seed=1337, silent=1 \n",
      "[CV]  learning_rate=0.05, max_depth=4, min_child_weight=3, n_estimators=100, scale_pos_weight=24.7361702128, seed=1337, silent=1, total=   7.2s\n",
      "[CV] learning_rate=0.05, max_depth=4, min_child_weight=3, n_estimators=100, scale_pos_weight=24.7361702128, seed=1337, silent=1 \n",
      "[CV]  learning_rate=0.05, max_depth=4, min_child_weight=1, n_estimators=250, scale_pos_weight=24.7361702128, seed=1337, silent=1, total=  15.9s\n",
      "[CV] learning_rate=0.05, max_depth=4, min_child_weight=3, n_estimators=100, scale_pos_weight=24.7361702128, seed=1337, silent=1 \n",
      "[CV]  learning_rate=0.05, max_depth=4, min_child_weight=1, n_estimators=250, scale_pos_weight=24.7361702128, seed=1337, silent=1, total=  15.9s\n",
      "[CV] learning_rate=0.05, max_depth=4, min_child_weight=3, n_estimators=100, scale_pos_weight=24.7361702128, seed=1337, silent=1 \n",
      "[CV]  learning_rate=0.05, max_depth=4, min_child_weight=3, n_estimators=100, scale_pos_weight=24.7361702128, seed=1337, silent=1, total=   5.6s\n",
      "[CV] learning_rate=0.05, max_depth=4, min_child_weight=3, n_estimators=250, scale_pos_weight=24.7361702128, seed=1337, silent=1 \n",
      "[CV]  learning_rate=0.05, max_depth=4, min_child_weight=1, n_estimators=250, scale_pos_weight=24.7361702128, seed=1337, silent=1, total=  16.0s\n",
      "[CV] learning_rate=0.05, max_depth=4, min_child_weight=3, n_estimators=250, scale_pos_weight=24.7361702128, seed=1337, silent=1 \n",
      "[CV]  learning_rate=0.05, max_depth=4, min_child_weight=1, n_estimators=250, scale_pos_weight=24.7361702128, seed=1337, silent=1, total=  16.4s\n",
      "[CV] learning_rate=0.05, max_depth=4, min_child_weight=3, n_estimators=250, scale_pos_weight=24.7361702128, seed=1337, silent=1 \n",
      "[CV]  learning_rate=0.05, max_depth=4, min_child_weight=3, n_estimators=100, scale_pos_weight=24.7361702128, seed=1337, silent=1, total=   6.7s\n",
      "[CV] learning_rate=0.05, max_depth=4, min_child_weight=3, n_estimators=250, scale_pos_weight=24.7361702128, seed=1337, silent=1 \n",
      "[CV]  learning_rate=0.05, max_depth=4, min_child_weight=3, n_estimators=100, scale_pos_weight=24.7361702128, seed=1337, silent=1, total=   6.8s\n",
      "[CV] learning_rate=0.05, max_depth=4, min_child_weight=5, n_estimators=100, scale_pos_weight=24.7361702128, seed=1337, silent=1 \n",
      "[CV]  learning_rate=0.05, max_depth=4, min_child_weight=5, n_estimators=100, scale_pos_weight=24.7361702128, seed=1337, silent=1, total=   6.3s\n",
      "[CV] learning_rate=0.05, max_depth=4, min_child_weight=5, n_estimators=100, scale_pos_weight=24.7361702128, seed=1337, silent=1 \n",
      "[CV]  learning_rate=0.05, max_depth=4, min_child_weight=3, n_estimators=250, scale_pos_weight=24.7361702128, seed=1337, silent=1, total=  16.2s\n",
      "[CV] learning_rate=0.05, max_depth=4, min_child_weight=5, n_estimators=100, scale_pos_weight=24.7361702128, seed=1337, silent=1 \n",
      "[CV]  learning_rate=0.05, max_depth=4, min_child_weight=3, n_estimators=250, scale_pos_weight=24.7361702128, seed=1337, silent=1, total=  16.1s\n",
      "[CV] learning_rate=0.05, max_depth=4, min_child_weight=5, n_estimators=100, scale_pos_weight=24.7361702128, seed=1337, silent=1 \n",
      "[CV]  learning_rate=0.05, max_depth=4, min_child_weight=5, n_estimators=100, scale_pos_weight=24.7361702128, seed=1337, silent=1, total=   6.2s\n",
      "[CV] learning_rate=0.05, max_depth=4, min_child_weight=5, n_estimators=250, scale_pos_weight=24.7361702128, seed=1337, silent=1 \n",
      "[CV]  learning_rate=0.05, max_depth=4, min_child_weight=3, n_estimators=250, scale_pos_weight=24.7361702128, seed=1337, silent=1, total=  15.1s\n",
      "[CV] learning_rate=0.05, max_depth=4, min_child_weight=5, n_estimators=250, scale_pos_weight=24.7361702128, seed=1337, silent=1 \n",
      "[CV]  learning_rate=0.05, max_depth=4, min_child_weight=3, n_estimators=250, scale_pos_weight=24.7361702128, seed=1337, silent=1, total=  15.1s\n",
      "[CV] learning_rate=0.05, max_depth=4, min_child_weight=5, n_estimators=250, scale_pos_weight=24.7361702128, seed=1337, silent=1 \n",
      "[CV]  learning_rate=0.05, max_depth=4, min_child_weight=5, n_estimators=100, scale_pos_weight=24.7361702128, seed=1337, silent=1, total=   6.5s\n",
      "[CV] learning_rate=0.05, max_depth=4, min_child_weight=5, n_estimators=250, scale_pos_weight=24.7361702128, seed=1337, silent=1 \n",
      "[CV]  learning_rate=0.05, max_depth=4, min_child_weight=5, n_estimators=100, scale_pos_weight=24.7361702128, seed=1337, silent=1, total=   6.3s\n",
      "[CV] learning_rate=0.05, max_depth=5, min_child_weight=1, n_estimators=100, scale_pos_weight=24.7361702128, seed=1337, silent=1 \n",
      "[CV]  learning_rate=0.05, max_depth=5, min_child_weight=1, n_estimators=100, scale_pos_weight=24.7361702128, seed=1337, silent=1, total=   7.6s\n",
      "[CV] learning_rate=0.05, max_depth=5, min_child_weight=1, n_estimators=100, scale_pos_weight=24.7361702128, seed=1337, silent=1 \n",
      "[CV]  learning_rate=0.05, max_depth=4, min_child_weight=5, n_estimators=250, scale_pos_weight=24.7361702128, seed=1337, silent=1, total=  15.4s\n",
      "[CV] learning_rate=0.05, max_depth=5, min_child_weight=1, n_estimators=100, scale_pos_weight=24.7361702128, seed=1337, silent=1 \n",
      "[CV]  learning_rate=0.05, max_depth=4, min_child_weight=5, n_estimators=250, scale_pos_weight=24.7361702128, seed=1337, silent=1, total=  15.5s\n",
      "[CV] learning_rate=0.05, max_depth=5, min_child_weight=1, n_estimators=100, scale_pos_weight=24.7361702128, seed=1337, silent=1 \n",
      "[CV]  learning_rate=0.05, max_depth=4, min_child_weight=5, n_estimators=250, scale_pos_weight=24.7361702128, seed=1337, silent=1, total=  15.2s\n",
      "[CV] learning_rate=0.05, max_depth=5, min_child_weight=1, n_estimators=250, scale_pos_weight=24.7361702128, seed=1337, silent=1 \n",
      "[CV]  learning_rate=0.05, max_depth=4, min_child_weight=5, n_estimators=250, scale_pos_weight=24.7361702128, seed=1337, silent=1, total=  15.4s\n",
      "[CV] learning_rate=0.05, max_depth=5, min_child_weight=1, n_estimators=250, scale_pos_weight=24.7361702128, seed=1337, silent=1 \n",
      "[CV]  learning_rate=0.05, max_depth=5, min_child_weight=1, n_estimators=100, scale_pos_weight=24.7361702128, seed=1337, silent=1, total=   7.9s\n",
      "[CV] learning_rate=0.05, max_depth=5, min_child_weight=1, n_estimators=250, scale_pos_weight=24.7361702128, seed=1337, silent=1 \n",
      "[CV]  learning_rate=0.05, max_depth=5, min_child_weight=1, n_estimators=100, scale_pos_weight=24.7361702128, seed=1337, silent=1, total=   7.6s\n",
      "[CV] learning_rate=0.05, max_depth=5, min_child_weight=1, n_estimators=250, scale_pos_weight=24.7361702128, seed=1337, silent=1 \n",
      "[CV]  learning_rate=0.05, max_depth=5, min_child_weight=1, n_estimators=100, scale_pos_weight=24.7361702128, seed=1337, silent=1, total=   7.6s\n",
      "[CV] learning_rate=0.05, max_depth=5, min_child_weight=3, n_estimators=100, scale_pos_weight=24.7361702128, seed=1337, silent=1 \n",
      "[CV]  learning_rate=0.05, max_depth=5, min_child_weight=3, n_estimators=100, scale_pos_weight=24.7361702128, seed=1337, silent=1, total=   7.6s\n",
      "[CV] learning_rate=0.05, max_depth=5, min_child_weight=3, n_estimators=100, scale_pos_weight=24.7361702128, seed=1337, silent=1 \n",
      "[CV]  learning_rate=0.05, max_depth=5, min_child_weight=1, n_estimators=250, scale_pos_weight=24.7361702128, seed=1337, silent=1, total=  19.0s\n",
      "[CV] learning_rate=0.05, max_depth=5, min_child_weight=3, n_estimators=100, scale_pos_weight=24.7361702128, seed=1337, silent=1 \n",
      "[CV]  learning_rate=0.05, max_depth=5, min_child_weight=3, n_estimators=100, scale_pos_weight=24.7361702128, seed=1337, silent=1, total=   7.0s\n",
      "[CV] learning_rate=0.05, max_depth=5, min_child_weight=3, n_estimators=100, scale_pos_weight=24.7361702128, seed=1337, silent=1 \n",
      "[CV]  learning_rate=0.05, max_depth=5, min_child_weight=1, n_estimators=250, scale_pos_weight=24.7361702128, seed=1337, silent=1, total=  18.5s\n",
      "[CV] learning_rate=0.05, max_depth=5, min_child_weight=3, n_estimators=250, scale_pos_weight=24.7361702128, seed=1337, silent=1 \n"
     ]
    },
    {
     "name": "stderr",
     "output_type": "stream",
     "text": [
      "[Parallel(n_jobs=5)]: Done 152 tasks      | elapsed:  6.1min\n"
     ]
    },
    {
     "name": "stdout",
     "output_type": "stream",
     "text": [
      "[CV]  learning_rate=0.05, max_depth=5, min_child_weight=1, n_estimators=250, scale_pos_weight=24.7361702128, seed=1337, silent=1, total=  18.1s\n",
      "[CV] learning_rate=0.05, max_depth=5, min_child_weight=3, n_estimators=250, scale_pos_weight=24.7361702128, seed=1337, silent=1 \n",
      "[CV]  learning_rate=0.05, max_depth=5, min_child_weight=1, n_estimators=250, scale_pos_weight=24.7361702128, seed=1337, silent=1, total=  17.6s\n",
      "[CV] learning_rate=0.05, max_depth=5, min_child_weight=3, n_estimators=250, scale_pos_weight=24.7361702128, seed=1337, silent=1 \n",
      "[CV]  learning_rate=0.05, max_depth=5, min_child_weight=3, n_estimators=100, scale_pos_weight=24.7361702128, seed=1337, silent=1, total=   6.5s\n",
      "[CV] learning_rate=0.05, max_depth=5, min_child_weight=3, n_estimators=250, scale_pos_weight=24.7361702128, seed=1337, silent=1 \n",
      "[CV]  learning_rate=0.05, max_depth=5, min_child_weight=3, n_estimators=100, scale_pos_weight=24.7361702128, seed=1337, silent=1, total=   6.5s\n",
      "[CV] learning_rate=0.05, max_depth=5, min_child_weight=5, n_estimators=100, scale_pos_weight=24.7361702128, seed=1337, silent=1 \n",
      "[CV]  learning_rate=0.05, max_depth=5, min_child_weight=5, n_estimators=100, scale_pos_weight=24.7361702128, seed=1337, silent=1, total=   6.7s\n",
      "[CV] learning_rate=0.05, max_depth=5, min_child_weight=5, n_estimators=100, scale_pos_weight=24.7361702128, seed=1337, silent=1 \n",
      "[CV]  learning_rate=0.05, max_depth=5, min_child_weight=3, n_estimators=250, scale_pos_weight=24.7361702128, seed=1337, silent=1, total=  17.1s\n",
      "[CV] learning_rate=0.05, max_depth=5, min_child_weight=5, n_estimators=100, scale_pos_weight=24.7361702128, seed=1337, silent=1 \n",
      "[CV]  learning_rate=0.05, max_depth=5, min_child_weight=3, n_estimators=250, scale_pos_weight=24.7361702128, seed=1337, silent=1, total=  16.9s\n",
      "[CV] learning_rate=0.05, max_depth=5, min_child_weight=5, n_estimators=100, scale_pos_weight=24.7361702128, seed=1337, silent=1 \n",
      "[CV]  learning_rate=0.05, max_depth=5, min_child_weight=3, n_estimators=250, scale_pos_weight=24.7361702128, seed=1337, silent=1, total=  16.5s\n",
      "[CV] learning_rate=0.05, max_depth=5, min_child_weight=5, n_estimators=250, scale_pos_weight=24.7361702128, seed=1337, silent=1 \n",
      "[CV]  learning_rate=0.05, max_depth=5, min_child_weight=5, n_estimators=100, scale_pos_weight=24.7361702128, seed=1337, silent=1, total=   7.3s\n",
      "[CV] learning_rate=0.05, max_depth=5, min_child_weight=5, n_estimators=250, scale_pos_weight=24.7361702128, seed=1337, silent=1 \n",
      "[CV]  learning_rate=0.05, max_depth=5, min_child_weight=3, n_estimators=250, scale_pos_weight=24.7361702128, seed=1337, silent=1, total=  16.7s\n",
      "[CV] learning_rate=0.05, max_depth=5, min_child_weight=5, n_estimators=250, scale_pos_weight=24.7361702128, seed=1337, silent=1 \n",
      "[CV]  learning_rate=0.05, max_depth=5, min_child_weight=5, n_estimators=100, scale_pos_weight=24.7361702128, seed=1337, silent=1, total=   7.5s\n",
      "[CV] learning_rate=0.05, max_depth=5, min_child_weight=5, n_estimators=250, scale_pos_weight=24.7361702128, seed=1337, silent=1 \n",
      "[CV]  learning_rate=0.05, max_depth=5, min_child_weight=5, n_estimators=100, scale_pos_weight=24.7361702128, seed=1337, silent=1, total=   7.4s\n",
      "[CV] learning_rate=0.05, max_depth=6, min_child_weight=1, n_estimators=100, scale_pos_weight=24.7361702128, seed=1337, silent=1 \n",
      "[CV]  learning_rate=0.05, max_depth=6, min_child_weight=1, n_estimators=100, scale_pos_weight=24.7361702128, seed=1337, silent=1, total=   7.8s\n",
      "[CV] learning_rate=0.05, max_depth=6, min_child_weight=1, n_estimators=100, scale_pos_weight=24.7361702128, seed=1337, silent=1 \n",
      "[CV]  learning_rate=0.05, max_depth=5, min_child_weight=5, n_estimators=250, scale_pos_weight=24.7361702128, seed=1337, silent=1, total=  18.0s\n",
      "[CV] learning_rate=0.05, max_depth=6, min_child_weight=1, n_estimators=100, scale_pos_weight=24.7361702128, seed=1337, silent=1 \n",
      "[CV]  learning_rate=0.05, max_depth=5, min_child_weight=5, n_estimators=250, scale_pos_weight=24.7361702128, seed=1337, silent=1, total=  17.3s\n",
      "[CV]  learning_rate=0.05, max_depth=5, min_child_weight=5, n_estimators=250, scale_pos_weight=24.7361702128, seed=1337, silent=1, total=  18.0s\n",
      "[CV] learning_rate=0.05, max_depth=6, min_child_weight=1, n_estimators=100, scale_pos_weight=24.7361702128, seed=1337, silent=1 \n",
      "[CV] learning_rate=0.05, max_depth=6, min_child_weight=1, n_estimators=250, scale_pos_weight=24.7361702128, seed=1337, silent=1 \n",
      "[CV]  learning_rate=0.05, max_depth=6, min_child_weight=1, n_estimators=100, scale_pos_weight=24.7361702128, seed=1337, silent=1, total=   9.6s\n",
      "[CV] learning_rate=0.05, max_depth=6, min_child_weight=1, n_estimators=250, scale_pos_weight=24.7361702128, seed=1337, silent=1 \n",
      "[CV]  learning_rate=0.05, max_depth=5, min_child_weight=5, n_estimators=250, scale_pos_weight=24.7361702128, seed=1337, silent=1, total=  18.7s\n",
      "[CV] learning_rate=0.05, max_depth=6, min_child_weight=1, n_estimators=250, scale_pos_weight=24.7361702128, seed=1337, silent=1 \n",
      "[CV]  learning_rate=0.05, max_depth=6, min_child_weight=1, n_estimators=100, scale_pos_weight=24.7361702128, seed=1337, silent=1, total=  11.2s\n",
      "[CV] learning_rate=0.05, max_depth=6, min_child_weight=1, n_estimators=250, scale_pos_weight=24.7361702128, seed=1337, silent=1 \n",
      "[CV]  learning_rate=0.05, max_depth=6, min_child_weight=1, n_estimators=100, scale_pos_weight=24.7361702128, seed=1337, silent=1, total=  11.3s\n",
      "[CV] learning_rate=0.05, max_depth=6, min_child_weight=3, n_estimators=100, scale_pos_weight=24.7361702128, seed=1337, silent=1 \n",
      "[CV]  learning_rate=0.05, max_depth=6, min_child_weight=3, n_estimators=100, scale_pos_weight=24.7361702128, seed=1337, silent=1, total=  14.9s\n",
      "[CV] learning_rate=0.05, max_depth=6, min_child_weight=3, n_estimators=100, scale_pos_weight=24.7361702128, seed=1337, silent=1 \n",
      "[CV]  learning_rate=0.05, max_depth=6, min_child_weight=1, n_estimators=250, scale_pos_weight=24.7361702128, seed=1337, silent=1, total=  34.6s\n",
      "[CV] learning_rate=0.05, max_depth=6, min_child_weight=3, n_estimators=100, scale_pos_weight=24.7361702128, seed=1337, silent=1 \n",
      "[CV]  learning_rate=0.05, max_depth=6, min_child_weight=1, n_estimators=250, scale_pos_weight=24.7361702128, seed=1337, silent=1, total=  33.2s\n",
      "[CV] learning_rate=0.05, max_depth=6, min_child_weight=3, n_estimators=100, scale_pos_weight=24.7361702128, seed=1337, silent=1 \n",
      "[CV]  learning_rate=0.05, max_depth=6, min_child_weight=3, n_estimators=100, scale_pos_weight=24.7361702128, seed=1337, silent=1, total=  12.5s\n",
      "[CV] learning_rate=0.05, max_depth=6, min_child_weight=3, n_estimators=250, scale_pos_weight=24.7361702128, seed=1337, silent=1 \n",
      "[CV]  learning_rate=0.05, max_depth=6, min_child_weight=1, n_estimators=250, scale_pos_weight=24.7361702128, seed=1337, silent=1, total=  34.8s\n",
      "[CV] learning_rate=0.05, max_depth=6, min_child_weight=3, n_estimators=250, scale_pos_weight=24.7361702128, seed=1337, silent=1 \n",
      "[CV]  learning_rate=0.05, max_depth=6, min_child_weight=1, n_estimators=250, scale_pos_weight=24.7361702128, seed=1337, silent=1, total=  32.7s\n",
      "[CV] learning_rate=0.05, max_depth=6, min_child_weight=3, n_estimators=250, scale_pos_weight=24.7361702128, seed=1337, silent=1 \n",
      "[CV]  learning_rate=0.05, max_depth=6, min_child_weight=3, n_estimators=100, scale_pos_weight=24.7361702128, seed=1337, silent=1, total=   9.6s\n",
      "[CV] learning_rate=0.05, max_depth=6, min_child_weight=3, n_estimators=250, scale_pos_weight=24.7361702128, seed=1337, silent=1 \n",
      "[CV]  learning_rate=0.05, max_depth=6, min_child_weight=3, n_estimators=100, scale_pos_weight=24.7361702128, seed=1337, silent=1, total=   8.6s\n",
      "[CV] learning_rate=0.05, max_depth=6, min_child_weight=5, n_estimators=100, scale_pos_weight=24.7361702128, seed=1337, silent=1 \n",
      "[CV]  learning_rate=0.05, max_depth=6, min_child_weight=5, n_estimators=100, scale_pos_weight=24.7361702128, seed=1337, silent=1, total=   8.9s\n",
      "[CV] learning_rate=0.05, max_depth=6, min_child_weight=5, n_estimators=100, scale_pos_weight=24.7361702128, seed=1337, silent=1 \n",
      "[CV]  learning_rate=0.05, max_depth=6, min_child_weight=3, n_estimators=250, scale_pos_weight=24.7361702128, seed=1337, silent=1, total=  22.2s\n",
      "[CV] learning_rate=0.05, max_depth=6, min_child_weight=5, n_estimators=100, scale_pos_weight=24.7361702128, seed=1337, silent=1 \n",
      "[CV]  learning_rate=0.05, max_depth=6, min_child_weight=3, n_estimators=250, scale_pos_weight=24.7361702128, seed=1337, silent=1, total=  22.5s\n"
     ]
    },
    {
     "name": "stdout",
     "output_type": "stream",
     "text": [
      "[CV] learning_rate=0.05, max_depth=6, min_child_weight=5, n_estimators=100, scale_pos_weight=24.7361702128, seed=1337, silent=1 \n",
      "[CV]  learning_rate=0.05, max_depth=6, min_child_weight=3, n_estimators=250, scale_pos_weight=24.7361702128, seed=1337, silent=1, total=  21.4s\n",
      "[CV] learning_rate=0.05, max_depth=6, min_child_weight=5, n_estimators=250, scale_pos_weight=24.7361702128, seed=1337, silent=1 \n",
      "[CV]  learning_rate=0.05, max_depth=6, min_child_weight=5, n_estimators=100, scale_pos_weight=24.7361702128, seed=1337, silent=1, total=   8.3s\n",
      "[CV] learning_rate=0.05, max_depth=6, min_child_weight=5, n_estimators=250, scale_pos_weight=24.7361702128, seed=1337, silent=1 \n",
      "[CV]  learning_rate=0.05, max_depth=6, min_child_weight=3, n_estimators=250, scale_pos_weight=24.7361702128, seed=1337, silent=1, total=  21.0s\n",
      "[CV] learning_rate=0.05, max_depth=6, min_child_weight=5, n_estimators=250, scale_pos_weight=24.7361702128, seed=1337, silent=1 \n",
      "[CV]  learning_rate=0.05, max_depth=6, min_child_weight=5, n_estimators=100, scale_pos_weight=24.7361702128, seed=1337, silent=1, total=   7.8s\n",
      "[CV] learning_rate=0.05, max_depth=6, min_child_weight=5, n_estimators=250, scale_pos_weight=24.7361702128, seed=1337, silent=1 \n",
      "[CV]  learning_rate=0.05, max_depth=6, min_child_weight=5, n_estimators=100, scale_pos_weight=24.7361702128, seed=1337, silent=1, total=   7.8s\n",
      "[CV]  learning_rate=0.05, max_depth=6, min_child_weight=5, n_estimators=250, scale_pos_weight=24.7361702128, seed=1337, silent=1, total=  17.9s\n",
      "[CV]  learning_rate=0.05, max_depth=6, min_child_weight=5, n_estimators=250, scale_pos_weight=24.7361702128, seed=1337, silent=1, total=  17.6s\n",
      "[CV]  learning_rate=0.05, max_depth=6, min_child_weight=5, n_estimators=250, scale_pos_weight=24.7361702128, seed=1337, silent=1, total=  16.7s\n",
      "[CV]  learning_rate=0.05, max_depth=6, min_child_weight=5, n_estimators=250, scale_pos_weight=24.7361702128, seed=1337, silent=1, total=  14.7s\n"
     ]
    },
    {
     "name": "stderr",
     "output_type": "stream",
     "text": [
      "[Parallel(n_jobs=5)]: Done 192 out of 192 | elapsed:  8.2min finished\n"
     ]
    },
    {
     "name": "stdout",
     "output_type": "stream",
     "text": [
      "Best parameters set found on development set:\n",
      "\n",
      "{'learning_rate': 0.05, 'max_depth': 5, 'min_child_weight': 3, 'n_estimators': 250, 'scale_pos_weight': 24.736170212765959, 'seed': 1337, 'silent': 1}\n",
      "\n",
      "Grid scores on development set:\n",
      "\n",
      "0.955 (+/-0.002) for {'learning_rate': 0.01, 'max_depth': 3, 'min_child_weight': 1, 'n_estimators': 100, 'scale_pos_weight': 24.736170212765959, 'seed': 1337, 'silent': 1}\n",
      "\n",
      "0.952 (+/-0.001) for {'learning_rate': 0.01, 'max_depth': 3, 'min_child_weight': 1, 'n_estimators': 250, 'scale_pos_weight': 24.736170212765959, 'seed': 1337, 'silent': 1}\n",
      "\n",
      "0.955 (+/-0.002) for {'learning_rate': 0.01, 'max_depth': 3, 'min_child_weight': 3, 'n_estimators': 100, 'scale_pos_weight': 24.736170212765959, 'seed': 1337, 'silent': 1}\n",
      "\n",
      "0.952 (+/-0.001) for {'learning_rate': 0.01, 'max_depth': 3, 'min_child_weight': 3, 'n_estimators': 250, 'scale_pos_weight': 24.736170212765959, 'seed': 1337, 'silent': 1}\n",
      "\n",
      "0.955 (+/-0.002) for {'learning_rate': 0.01, 'max_depth': 3, 'min_child_weight': 5, 'n_estimators': 100, 'scale_pos_weight': 24.736170212765959, 'seed': 1337, 'silent': 1}\n",
      "\n",
      "0.952 (+/-0.001) for {'learning_rate': 0.01, 'max_depth': 3, 'min_child_weight': 5, 'n_estimators': 250, 'scale_pos_weight': 24.736170212765959, 'seed': 1337, 'silent': 1}\n",
      "\n",
      "0.964 (+/-0.006) for {'learning_rate': 0.01, 'max_depth': 4, 'min_child_weight': 1, 'n_estimators': 100, 'scale_pos_weight': 24.736170212765959, 'seed': 1337, 'silent': 1}\n",
      "\n",
      "0.965 (+/-0.004) for {'learning_rate': 0.01, 'max_depth': 4, 'min_child_weight': 1, 'n_estimators': 250, 'scale_pos_weight': 24.736170212765959, 'seed': 1337, 'silent': 1}\n",
      "\n",
      "0.963 (+/-0.005) for {'learning_rate': 0.01, 'max_depth': 4, 'min_child_weight': 3, 'n_estimators': 100, 'scale_pos_weight': 24.736170212765959, 'seed': 1337, 'silent': 1}\n",
      "\n",
      "0.961 (+/-0.002) for {'learning_rate': 0.01, 'max_depth': 4, 'min_child_weight': 3, 'n_estimators': 250, 'scale_pos_weight': 24.736170212765959, 'seed': 1337, 'silent': 1}\n",
      "\n",
      "0.963 (+/-0.005) for {'learning_rate': 0.01, 'max_depth': 4, 'min_child_weight': 5, 'n_estimators': 100, 'scale_pos_weight': 24.736170212765959, 'seed': 1337, 'silent': 1}\n",
      "\n",
      "0.961 (+/-0.002) for {'learning_rate': 0.01, 'max_depth': 4, 'min_child_weight': 5, 'n_estimators': 250, 'scale_pos_weight': 24.736170212765959, 'seed': 1337, 'silent': 1}\n",
      "\n",
      "0.972 (+/-0.004) for {'learning_rate': 0.01, 'max_depth': 5, 'min_child_weight': 1, 'n_estimators': 100, 'scale_pos_weight': 24.736170212765959, 'seed': 1337, 'silent': 1}\n",
      "\n",
      "0.976 (+/-0.003) for {'learning_rate': 0.01, 'max_depth': 5, 'min_child_weight': 1, 'n_estimators': 250, 'scale_pos_weight': 24.736170212765959, 'seed': 1337, 'silent': 1}\n",
      "\n",
      "0.972 (+/-0.004) for {'learning_rate': 0.01, 'max_depth': 5, 'min_child_weight': 3, 'n_estimators': 100, 'scale_pos_weight': 24.736170212765959, 'seed': 1337, 'silent': 1}\n",
      "\n",
      "0.975 (+/-0.002) for {'learning_rate': 0.01, 'max_depth': 5, 'min_child_weight': 3, 'n_estimators': 250, 'scale_pos_weight': 24.736170212765959, 'seed': 1337, 'silent': 1}\n",
      "\n",
      "0.972 (+/-0.004) for {'learning_rate': 0.01, 'max_depth': 5, 'min_child_weight': 5, 'n_estimators': 100, 'scale_pos_weight': 24.736170212765959, 'seed': 1337, 'silent': 1}\n",
      "\n",
      "0.975 (+/-0.002) for {'learning_rate': 0.01, 'max_depth': 5, 'min_child_weight': 5, 'n_estimators': 250, 'scale_pos_weight': 24.736170212765959, 'seed': 1337, 'silent': 1}\n",
      "\n",
      "0.976 (+/-0.003) for {'learning_rate': 0.01, 'max_depth': 6, 'min_child_weight': 1, 'n_estimators': 100, 'scale_pos_weight': 24.736170212765959, 'seed': 1337, 'silent': 1}\n",
      "\n",
      "0.981 (+/-0.002) for {'learning_rate': 0.01, 'max_depth': 6, 'min_child_weight': 1, 'n_estimators': 250, 'scale_pos_weight': 24.736170212765959, 'seed': 1337, 'silent': 1}\n",
      "\n",
      "0.976 (+/-0.003) for {'learning_rate': 0.01, 'max_depth': 6, 'min_child_weight': 3, 'n_estimators': 100, 'scale_pos_weight': 24.736170212765959, 'seed': 1337, 'silent': 1}\n",
      "\n",
      "0.981 (+/-0.002) for {'learning_rate': 0.01, 'max_depth': 6, 'min_child_weight': 3, 'n_estimators': 250, 'scale_pos_weight': 24.736170212765959, 'seed': 1337, 'silent': 1}\n",
      "\n",
      "0.975 (+/-0.003) for {'learning_rate': 0.01, 'max_depth': 6, 'min_child_weight': 5, 'n_estimators': 100, 'scale_pos_weight': 24.736170212765959, 'seed': 1337, 'silent': 1}\n",
      "\n",
      "0.981 (+/-0.002) for {'learning_rate': 0.01, 'max_depth': 6, 'min_child_weight': 5, 'n_estimators': 250, 'scale_pos_weight': 24.736170212765959, 'seed': 1337, 'silent': 1}\n",
      "\n",
      "0.965 (+/-0.002) for {'learning_rate': 0.05, 'max_depth': 3, 'min_child_weight': 1, 'n_estimators': 100, 'scale_pos_weight': 24.736170212765959, 'seed': 1337, 'silent': 1}\n",
      "\n",
      "0.986 (+/-0.001) for {'learning_rate': 0.05, 'max_depth': 3, 'min_child_weight': 1, 'n_estimators': 250, 'scale_pos_weight': 24.736170212765959, 'seed': 1337, 'silent': 1}\n",
      "\n",
      "0.964 (+/-0.001) for {'learning_rate': 0.05, 'max_depth': 3, 'min_child_weight': 3, 'n_estimators': 100, 'scale_pos_weight': 24.736170212765959, 'seed': 1337, 'silent': 1}\n",
      "\n",
      "0.986 (+/-0.001) for {'learning_rate': 0.05, 'max_depth': 3, 'min_child_weight': 3, 'n_estimators': 250, 'scale_pos_weight': 24.736170212765959, 'seed': 1337, 'silent': 1}\n",
      "\n",
      "0.963 (+/-0.001) for {'learning_rate': 0.05, 'max_depth': 3, 'min_child_weight': 5, 'n_estimators': 100, 'scale_pos_weight': 24.736170212765959, 'seed': 1337, 'silent': 1}\n",
      "\n",
      "0.984 (+/-0.000) for {'learning_rate': 0.05, 'max_depth': 3, 'min_child_weight': 5, 'n_estimators': 250, 'scale_pos_weight': 24.736170212765959, 'seed': 1337, 'silent': 1}\n",
      "\n",
      "0.979 (+/-0.002) for {'learning_rate': 0.05, 'max_depth': 4, 'min_child_weight': 1, 'n_estimators': 100, 'scale_pos_weight': 24.736170212765959, 'seed': 1337, 'silent': 1}\n",
      "\n",
      "0.987 (+/-0.000) for {'learning_rate': 0.05, 'max_depth': 4, 'min_child_weight': 1, 'n_estimators': 250, 'scale_pos_weight': 24.736170212765959, 'seed': 1337, 'silent': 1}\n",
      "\n",
      "0.979 (+/-0.003) for {'learning_rate': 0.05, 'max_depth': 4, 'min_child_weight': 3, 'n_estimators': 100, 'scale_pos_weight': 24.736170212765959, 'seed': 1337, 'silent': 1}\n",
      "\n",
      "0.987 (+/-0.000) for {'learning_rate': 0.05, 'max_depth': 4, 'min_child_weight': 3, 'n_estimators': 250, 'scale_pos_weight': 24.736170212765959, 'seed': 1337, 'silent': 1}\n",
      "\n",
      "0.979 (+/-0.002) for {'learning_rate': 0.05, 'max_depth': 4, 'min_child_weight': 5, 'n_estimators': 100, 'scale_pos_weight': 24.736170212765959, 'seed': 1337, 'silent': 1}\n",
      "\n",
      "0.988 (+/-0.000) for {'learning_rate': 0.05, 'max_depth': 4, 'min_child_weight': 5, 'n_estimators': 250, 'scale_pos_weight': 24.736170212765959, 'seed': 1337, 'silent': 1}\n",
      "\n",
      "0.982 (+/-0.002) for {'learning_rate': 0.05, 'max_depth': 5, 'min_child_weight': 1, 'n_estimators': 100, 'scale_pos_weight': 24.736170212765959, 'seed': 1337, 'silent': 1}\n",
      "\n",
      "0.988 (+/-0.000) for {'learning_rate': 0.05, 'max_depth': 5, 'min_child_weight': 1, 'n_estimators': 250, 'scale_pos_weight': 24.736170212765959, 'seed': 1337, 'silent': 1}\n",
      "\n",
      "0.982 (+/-0.002) for {'learning_rate': 0.05, 'max_depth': 5, 'min_child_weight': 3, 'n_estimators': 100, 'scale_pos_weight': 24.736170212765959, 'seed': 1337, 'silent': 1}\n",
      "\n",
      "0.989 (+/-0.001) for {'learning_rate': 0.05, 'max_depth': 5, 'min_child_weight': 3, 'n_estimators': 250, 'scale_pos_weight': 24.736170212765959, 'seed': 1337, 'silent': 1}\n",
      "\n",
      "0.983 (+/-0.002) for {'learning_rate': 0.05, 'max_depth': 5, 'min_child_weight': 5, 'n_estimators': 100, 'scale_pos_weight': 24.736170212765959, 'seed': 1337, 'silent': 1}\n",
      "\n",
      "0.988 (+/-0.000) for {'learning_rate': 0.05, 'max_depth': 5, 'min_child_weight': 5, 'n_estimators': 250, 'scale_pos_weight': 24.736170212765959, 'seed': 1337, 'silent': 1}\n",
      "\n",
      "0.986 (+/-0.000) for {'learning_rate': 0.05, 'max_depth': 6, 'min_child_weight': 1, 'n_estimators': 100, 'scale_pos_weight': 24.736170212765959, 'seed': 1337, 'silent': 1}\n",
      "\n",
      "0.988 (+/-0.000) for {'learning_rate': 0.05, 'max_depth': 6, 'min_child_weight': 1, 'n_estimators': 250, 'scale_pos_weight': 24.736170212765959, 'seed': 1337, 'silent': 1}\n",
      "\n",
      "0.986 (+/-0.000) for {'learning_rate': 0.05, 'max_depth': 6, 'min_child_weight': 3, 'n_estimators': 100, 'scale_pos_weight': 24.736170212765959, 'seed': 1337, 'silent': 1}\n",
      "\n",
      "0.989 (+/-0.000) for {'learning_rate': 0.05, 'max_depth': 6, 'min_child_weight': 3, 'n_estimators': 250, 'scale_pos_weight': 24.736170212765959, 'seed': 1337, 'silent': 1}\n",
      "\n",
      "0.985 (+/-0.001) for {'learning_rate': 0.05, 'max_depth': 6, 'min_child_weight': 5, 'n_estimators': 100, 'scale_pos_weight': 24.736170212765959, 'seed': 1337, 'silent': 1}\n",
      "\n",
      "0.989 (+/-0.000) for {'learning_rate': 0.05, 'max_depth': 6, 'min_child_weight': 5, 'n_estimators': 250, 'scale_pos_weight': 24.736170212765959, 'seed': 1337, 'silent': 1}\n",
      "\n",
      "Detailed classification report:\n",
      "\n",
      "The model is trained on the full development set.\n",
      "The scores are computed on the full evaluation set.\n",
      "\n",
      "             precision    recall  f1-score   support\n",
      "\n",
      "          0       0.99      1.00      0.99     14369\n",
      "          1       0.91      0.82      0.86       776\n",
      "\n",
      "avg / total       0.99      0.99      0.99     15145\n",
      "\n",
      "\n"
     ]
    },
    {
     "name": "stderr",
     "output_type": "stream",
     "text": [
      "/anaconda3/lib/python3.6/site-packages/sklearn/model_selection/_search.py:762: DeprecationWarning: The grid_scores_ attribute was deprecated in version 0.18 in favor of the more elaborate cv_results_ attribute. The grid_scores_ attribute will not be available from 0.20\n",
      "  DeprecationWarning)\n"
     ]
    }
   ],
   "source": [
    "gsResults = models.gridsearch_best_precision_and_recall(gbm,parameters,gss,deliv_train_X,deliv,train_pwsid,'original_units_incorrect',xgb_train_X,xgb_test_X,xgb_train_y,xgb_test_y)"
   ]
  },
  {
   "cell_type": "markdown",
   "metadata": {},
   "source": [
    "### Fit model with best parameters"
   ]
  },
  {
   "cell_type": "code",
   "execution_count": 100,
   "metadata": {},
   "outputs": [],
   "source": [
    "gbm = gsResults[1].best_estimator_\n",
    "predictions = gbm.predict(xgb_test_X)\n",
    "gbm.save_model('{}model_2.model'.format(model_path))"
   ]
  },
  {
   "cell_type": "code",
   "execution_count": 45,
   "metadata": {},
   "outputs": [
    {
     "data": {
      "image/png": "[encoded data removed]",
      "text/plain": [
       "<matplotlib.figure.Figure at 0x1a23f517f0>"
      ]
     },
     "metadata": {},
     "output_type": "display_data"
    }
   ],
   "source": [
    "plt.rcdefaults()\n",
    "fig, ax = plt.subplots()\n",
    "y_pos = np.arange(len(predictors))\n",
    "ax.barh(y_pos, gbm.feature_importances_, align='center',\n",
    "        color='green', ecolor='black')\n",
    "\n",
    "ax.set_yticks(y_pos)\n",
    "ax.set_yticklabels(predictors)\n",
    "ax.invert_yaxis()  # labels read top-to-bottom\n",
    "ax.set_xlabel('Importance')\n",
    "ax.set_title('Feature Importance')\n",
    "\n",
    "plt.show()"
   ]
  },
  {
   "cell_type": "markdown",
   "metadata": {},
   "source": [
    "### Explore precision/recall"
   ]
  },
  {
   "cell_type": "code",
   "execution_count": 46,
   "metadata": {},
   "outputs": [
    {
     "name": "stdout",
     "output_type": "stream",
     "text": [
      "             precision    recall  f1-score   support\n",
      "\n",
      "          0       0.99      1.00      0.99     14369\n",
      "          1       0.91      0.82      0.86       776\n",
      "\n",
      "avg / total       0.99      0.99      0.99     15145\n",
      "\n"
     ]
    }
   ],
   "source": [
    "print(classification_report(xgb_test_y, gbm.predict(xgb_test_X)))"
   ]
  },
  {
   "cell_type": "code",
   "execution_count": 79,
   "metadata": {},
   "outputs": [
    {
     "name": "stdout",
     "output_type": "stream",
     "text": [
      "Test: Precision / Recall with Best Threshold\n",
      "      precision    recall  threshold       fl   fl_beta\n",
      "1411  0.754545   0.962629  0.055636   0.84598  0.912311\n",
      "\n",
      "\n",
      "Train: Precision / Recall with Best Threshold\n",
      "   precision    recall  threshold        fl   fl_beta\n",
      "5  0.973477   0.999574  0.793466   0.986353  0.994244\n"
     ]
    }
   ],
   "source": [
    "precisionRecall_test = models.get_precision_recall(gbm,xgb_test_y,xgb_test_X,beta=2)\n",
    "print(\"Test: Precision / Recall with Best Threshold\")\n",
    "print(precisionRecall_test[precisionRecall_test['fl_beta']==max(precisionRecall_test['fl_beta'])])\n",
    "print()\n",
    "print()\n",
    "precisionRecall_train = models.get_precision_recall(gbm,xgb_train_y,xgb_train_X,beta=2)\n",
    "print(\"Train: Precision / Recall with Best Threshold\")\n",
    "print(precisionRecall_train[precisionRecall_train['fl_beta']==max(precisionRecall_train['fl_beta'])])\n"
   ]
  },
  {
   "cell_type": "markdown",
   "metadata": {},
   "source": [
    "### Apply best threshold"
   ]
  },
  {
   "cell_type": "code",
   "execution_count": 80,
   "metadata": {
    "collapsed": true
   },
   "outputs": [],
   "source": [
    "probs = pd.DataFrame(gbm.predict_proba(xgb_test_X))\n",
    "probs['classification'] = probs[1].apply(lambda x: 1 if x > precisionRecall_train[precisionRecall_train['fl_beta']==max(precisionRecall_train['fl_beta'])]['threshold'].values[0] else 0)"
   ]
  },
  {
   "cell_type": "code",
   "execution_count": 81,
   "metadata": {},
   "outputs": [
    {
     "name": "stdout",
     "output_type": "stream",
     "text": [
      "             precision    recall  f1-score   support\n",
      "\n",
      "          0       0.99      1.00      0.99     14369\n",
      "          1       0.95      0.79      0.86       776\n",
      "\n",
      "avg / total       0.99      0.99      0.99     15145\n",
      "\n"
     ]
    }
   ],
   "source": [
    "print(classification_report(xgb_test_y,probs['classification']))"
   ]
  },
  {
   "cell_type": "markdown",
   "metadata": {},
   "source": [
    "### Export predictions and actuals"
   ]
  },
  {
   "cell_type": "code",
   "execution_count": 89,
   "metadata": {},
   "outputs": [],
   "source": [
    "deliv['model_prob'] = pd.DataFrame(gbm.predict_proba(deliv[predictors].as_matrix()))[0]\n",
    "deliv['classification'] = deliv['model_prob'].apply(lambda x: 1 if x > precisionRecall_train[precisionRecall_train['fl_beta']==max(precisionRecall_train['fl_beta'])]['threshold'].values[0] else 0)"
   ]
  },
  {
   "cell_type": "code",
   "execution_count": 97,
   "metadata": {},
   "outputs": [],
   "source": [
    "deliv[predictors+['original_units_incorrect','model_prob','classification','PWSID','Water.System.Name','Date']].to_csv('{}4_unit_correction_model___modelPred.csv'.format(processed_data_path),index=False)"
   ]
  },
  {
   "cell_type": "code",
   "execution_count": null,
   "metadata": {
    "collapsed": true
   },
   "outputs": [],
   "source": []
  }
 ],
 "metadata": {
  "kernelspec": {
   "display_name": "Python 3",
   "language": "python",
   "name": "python3"
  },
  "language_info": {
   "codemirror_mode": {
    "name": "ipython",
    "version": 3
   },
   "file_extension": ".py",
   "mimetype": "text/x-python",
   "name": "python",
   "nbconvert_exporter": "python",
   "pygments_lexer": "ipython3",
   "version": "3.6.3"
  }
 },
 "nbformat": 4,
 "nbformat_minor": 2
}
